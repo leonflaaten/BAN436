{
 "cells": [
  {
   "cell_type": "markdown",
   "metadata": {},
   "source": [
    "# 04-Plotting\n",
    "\n",
    "This notebook gives an introduction to visualizing data in Python. It shows how to create four different types of plots:\n",
    "- Line plot\n",
    "- Scatter plot\n",
    "- Bar plot\n",
    "- Histogram"
   ]
  },
  {
   "cell_type": "markdown",
   "metadata": {},
   "source": [
    "`matplotlib.pyplot` is the main Python package for plotting. For an overview of the package (and tons of examples), check out [chapter 4](https://jakevdp.github.io/PythonDataScienceHandbook/index.html) in the Python Data Science Handbook. \n",
    "\n",
    "Before we can plot, we must first import the packages into our program using the `import` function. It is convention to assign `matplotlib.pylot` the shorter name `plt`."
   ]
  },
  {
   "cell_type": "code",
   "execution_count": 2,
   "metadata": {},
   "outputs": [],
   "source": [
    "import matplotlib.pyplot as plt\n",
    "import pandas as pd"
   ]
  },
  {
   "cell_type": "code",
   "execution_count": null,
   "metadata": {},
   "outputs": [],
   "source": []
  },
  {
   "cell_type": "markdown",
   "metadata": {},
   "source": [
    "## Object-oriented interface"
   ]
  },
  {
   "cell_type": "markdown",
   "metadata": {},
   "source": [
    "The `matplotlib` package is huge(!!!), and there are many different ways to plot in Python."
   ]
  },
  {
   "cell_type": "markdown",
   "metadata": {},
   "source": [
    "E.g. `plot` takes a sequence of x-values and a sequence of y-values, and creates a line plot."
   ]
  },
  {
   "cell_type": "code",
   "execution_count": 3,
   "metadata": {},
   "outputs": [],
   "source": [
    "x = [0, 1, 2, 3, 4, 5, 6, 7, 8, 9]\n",
    "y = [9, 8, 7, 6, 5, 4, 3, 2, 1, 0]"
   ]
  },
  {
   "cell_type": "code",
   "execution_count": 4,
   "metadata": {},
   "outputs": [
    {
     "data": {
      "text/plain": [
       "[<matplotlib.lines.Line2D at 0x1769b6ae2e0>]"
      ]
     },
     "execution_count": 4,
     "metadata": {},
     "output_type": "execute_result"
    },
    {
     "data": {
      "image/png": "[encoded data removed]",
      "text/plain": [
       "<Figure size 432x288 with 1 Axes>"
      ]
     },
     "metadata": {
      "needs_background": "light"
     },
     "output_type": "display_data"
    }
   ],
   "source": [
    "plt.plot(x, y)"
   ]
  },
  {
   "cell_type": "markdown",
   "metadata": {},
   "source": [
    "Although we can produce simple plots with a one-liner such as above, we will instead use the *object-oriented interface* (OOI) to create plots. While this requires a few more lines of code, it gives us more flexibility later on."
   ]
  },
  {
   "cell_type": "markdown",
   "metadata": {},
   "source": [
    "In OOI, we use the `subplots` function to create seperate `Figure` and `Axes` objects."
   ]
  },
  {
   "cell_type": "code",
   "execution_count": 5,
   "metadata": {},
   "outputs": [
    {
     "data": {
      "image/png": "[encoded data removed]",
      "text/plain": [
       "<Figure size 432x288 with 1 Axes>"
      ]
     },
     "metadata": {
      "needs_background": "light"
     },
     "output_type": "display_data"
    }
   ],
   "source": [
    "fig, ax = plt.subplots()"
   ]
  },
  {
   "cell_type": "markdown",
   "metadata": {},
   "source": [
    "This line of code creates a figure and adds axes to it. \n",
    "\n",
    "It is on the axes that we do the actual plotting, while the figure is the final image."
   ]
  },
  {
   "cell_type": "code",
   "execution_count": null,
   "metadata": {},
   "outputs": [],
   "source": [
    "fig"
   ]
  },
  {
   "cell_type": "code",
   "execution_count": null,
   "metadata": {},
   "outputs": [],
   "source": [
    "ax"
   ]
  },
  {
   "cell_type": "markdown",
   "metadata": {},
   "source": [
    "Once we have created the `Figure` and `Axes` objects, we can use the plotting functions from `matplotlib` to plot any sequence of values on the figure's axes. "
   ]
  },
  {
   "cell_type": "code",
   "execution_count": null,
   "metadata": {},
   "outputs": [],
   "source": [
    "# step 1: create figure and axes\n",
    "fig, ax = plt.subplots()\n",
    "\n",
    "# step 2: plot on the figure's axes\n",
    "ax.plot(x, y)\n",
    "\n",
    "# step 3: display figure\n",
    "plt.show() "
   ]
  },
  {
   "cell_type": "code",
   "execution_count": null,
   "metadata": {},
   "outputs": [],
   "source": []
  },
  {
   "cell_type": "markdown",
   "metadata": {},
   "source": [
    "## Plots"
   ]
  },
  {
   "cell_type": "markdown",
   "metadata": {},
   "source": [
    "### Line plot\n",
    "\n",
    "Line plots are useful for visualizing changes in a variable over time."
   ]
  },
  {
   "cell_type": "markdown",
   "metadata": {},
   "source": [
    "Let us plot the closing price of the Apple stock over time."
   ]
  },
  {
   "cell_type": "code",
   "execution_count": null,
   "metadata": {},
   "outputs": [],
   "source": [
    "apple = pd.read_csv('data/AAPL.csv')\n",
    "\n",
    "apple.head()"
   ]
  },
  {
   "cell_type": "markdown",
   "metadata": {},
   "source": [
    "We first change the data type of the `Date` column from `str` to `datetime`."
   ]
  },
  {
   "cell_type": "code",
   "execution_count": null,
   "metadata": {},
   "outputs": [],
   "source": [
    "apple['Date'] = pd.to_datetime(apple['Date'])"
   ]
  },
  {
   "cell_type": "markdown",
   "metadata": {},
   "source": [
    "Again, we create a line plot using `plot`, while specifying which column to plot on the x-axis and which column to plot on the y-axis."
   ]
  },
  {
   "cell_type": "code",
   "execution_count": null,
   "metadata": {},
   "outputs": [],
   "source": [
    "fig, ax = plt.subplots()\n",
    "\n",
    "ax.plot(apple['Date'],  # x-values\n",
    "        apple['Close']) # y-values\n",
    "\n",
    "plt.show()"
   ]
  },
  {
   "cell_type": "markdown",
   "metadata": {},
   "source": [
    "`plot` has many optional parameters. We can change the default values of the parameters `color` and `linestyle`."
   ]
  },
  {
   "cell_type": "code",
   "execution_count": null,
   "metadata": {},
   "outputs": [],
   "source": [
    "fig, ax = plt.subplots()\n",
    "\n",
    "ax.plot(apple['Date'],  \n",
    "        apple['Close'],\n",
    "        color = 'red',    # color\n",
    "        linestyle = '--') # linestyle \n",
    "\n",
    "plt.show()"
   ]
  },
  {
   "cell_type": "markdown",
   "metadata": {},
   "source": [
    "See the [function documentation](https://matplotlib.org/stable/api/_as_gen/matplotlib.pyplot.plot.html) for an overview of the optional parameters in `plot`."
   ]
  },
  {
   "cell_type": "markdown",
   "metadata": {},
   "source": [
    "<div class=\"alert alert-info\">\n",
    "<h3> Your turn</h3>\n",
    "    <p> Create a line plot of the daily opening price of the Apple stock. Set the color of the line plot equal to <code>black</code> and the line style equal to <code>:</code>.\n",
    "</div>"
   ]
  },
  {
   "cell_type": "markdown",
   "metadata": {},
   "source": [
    "**Solution**\n",
    "\n",
    "<details>\n",
    "    \n",
    "<summary> Click to expand!</summary>\n",
    "<p> \n",
    "\n",
    "```c#\n",
    "fig, ax = plt.subplots()\n",
    "\n",
    "ax.plot(apple['Date'],  \n",
    "        apple['Open'],\n",
    "        color = 'black',    \n",
    "        linestyle = ':') \n",
    "\n",
    "plt.show()\n",
    "```\n",
    "\n",
    "</p>\n",
    "</details> "
   ]
  },
  {
   "cell_type": "code",
   "execution_count": null,
   "metadata": {},
   "outputs": [],
   "source": []
  },
  {
   "cell_type": "markdown",
   "metadata": {},
   "source": [
    "If we want to create line plots for several columns in the same figure, we can execute the `plot` function several times on the `Axes` object. Each time, we specify a new column to place on the y-axis."
   ]
  },
  {
   "cell_type": "code",
   "execution_count": null,
   "metadata": {},
   "outputs": [],
   "source": [
    "fig, ax = plt.subplots()\n",
    "\n",
    "# line plot 1\n",
    "ax.plot(apple['Date'],  \n",
    "        apple['High'])\n",
    "\n",
    "# line plot 2\n",
    "ax.plot(apple['Date'],  \n",
    "        apple['Low']) \n",
    "\n",
    "plt.show()"
   ]
  },
  {
   "cell_type": "markdown",
   "metadata": {},
   "source": [
    "<div class=\"alert alert-info\">\n",
    "<h3> Your turn</h3>\n",
    "    <p> Notice that when we add multiple line plots on the same <code>Axes</code> object, the y-values must be measured in the same units in order for the plot to make sense. What happens if we plot both the daily closing price and traded volume in the same plot?\n",
    "</div>"
   ]
  },
  {
   "cell_type": "markdown",
   "metadata": {},
   "source": [
    "**Solution**\n",
    "\n",
    "<details>\n",
    "    \n",
    "<summary> Click to expand!</summary>\n",
    "<p> \n",
    "\n",
    "```c#\n",
    "fig, ax = plt.subplots()\n",
    "\n",
    "# volume\n",
    "ax.plot(apple['Date'],  \n",
    "        apple['Volume']) \n",
    "\n",
    "# close price\n",
    "ax.plot(apple['Date'],\n",
    "        apple['Close'])\n",
    "\n",
    "plt.plot()\n",
    "```\n",
    "\n",
    "</p>\n",
    "</details> "
   ]
  },
  {
   "cell_type": "code",
   "execution_count": null,
   "metadata": {},
   "outputs": [],
   "source": []
  },
  {
   "cell_type": "markdown",
   "metadata": {},
   "source": [
    "### Scatter plot\n",
    "\n",
    "In scatter plots, we plot all of the observations in a `DataFrame` along two dimensions (i.e. columns). Scatter plots are usueful for visualizing the relationship between two columns."
   ]
  },
  {
   "cell_type": "markdown",
   "metadata": {},
   "source": [
    "Let us create a scatter plot between the daily opening and closing price."
   ]
  },
  {
   "cell_type": "markdown",
   "metadata": {},
   "source": [
    "We use `scatter` to create a scatter plot. We must give `scatter` the columns to plot on the x-axis and the y-axis, respectively."
   ]
  },
  {
   "cell_type": "code",
   "execution_count": null,
   "metadata": {},
   "outputs": [],
   "source": [
    "fig, ax = plt.subplots()\n",
    "\n",
    "ax.scatter(apple['Open'], # x-values\n",
    "           apple['Close'])  # y-values\n",
    "\n",
    "plt.show()"
   ]
  },
  {
   "cell_type": "markdown",
   "metadata": {},
   "source": [
    "We can change the default values of the parameters `color` and `marker`."
   ]
  },
  {
   "cell_type": "code",
   "execution_count": null,
   "metadata": {},
   "outputs": [],
   "source": [
    "fig, ax = plt.subplots()\n",
    "\n",
    "ax.scatter(apple['Open'], \n",
    "           apple['Close'],\n",
    "           color = 'green',  # color\n",
    "           marker = 'v')     # marker\n",
    "\n",
    "plt.show()"
   ]
  },
  {
   "cell_type": "markdown",
   "metadata": {},
   "source": [
    "See the [function documentation](https://matplotlib.org/stable/api/_as_gen/matplotlib.pyplot.scatter.html) for an overview of the optional parameters in `scatter`."
   ]
  },
  {
   "cell_type": "markdown",
   "metadata": {},
   "source": [
    "<div class=\"alert alert-info\">\n",
    "<h3> Your turn</h3>\n",
    "    <p> Create a scatter plot between the daily closing price and volume traded. Set the color of the scatter plot equal to <code>purple</code> and the marker style equal to <code>+</code>. (Notice that this graph makes more sense than the graph in the previous exercise as the volume traded and closing price are no longer measured on the same axis).\n",
    "</div>"
   ]
  },
  {
   "cell_type": "markdown",
   "metadata": {},
   "source": [
    "**Solution**\n",
    "\n",
    "<details>\n",
    "    \n",
    "<summary> Click to expand!</summary>\n",
    "<p> \n",
    "\n",
    "```c#\n",
    "fig, ax = plt.subplots()\n",
    "\n",
    "ax.scatter(apple['Close'], \n",
    "           apple['Volume'],\n",
    "           color = 'purple',  # color\n",
    "           marker = '+')      # marker\n",
    "\n",
    "plt.plot()\n",
    "```\n",
    "\n",
    "</p>\n",
    "</details> "
   ]
  },
  {
   "cell_type": "code",
   "execution_count": null,
   "metadata": {},
   "outputs": [],
   "source": []
  },
  {
   "cell_type": "markdown",
   "metadata": {},
   "source": [
    "### Bar plot\n",
    "\n",
    "Bar plots are used to represent categorical data, with the *height* of the bars proportional to the *value* in each category."
   ]
  },
  {
   "cell_type": "markdown",
   "metadata": {},
   "source": [
    "Let us create a bar plot of the number of passengers traveling 1st, 2nd and 3rd class."
   ]
  },
  {
   "cell_type": "code",
   "execution_count": null,
   "metadata": {},
   "outputs": [],
   "source": [
    "titanic = pd.read_csv('data/titanic.csv')\n",
    "\n",
    "titanic.head()"
   ]
  },
  {
   "cell_type": "markdown",
   "metadata": {},
   "source": [
    "First, we use `value_counts` to calculate the number of passengers traveling in 1st, 2nd and 3rd class. This returns a `Series`."
   ]
  },
  {
   "cell_type": "code",
   "execution_count": null,
   "metadata": {},
   "outputs": [],
   "source": [
    "pclass = titanic['Pclass'].value_counts()\n",
    "\n",
    "pclass"
   ]
  },
  {
   "cell_type": "markdown",
   "metadata": {},
   "source": [
    "We then create a list of categories to place on the x-axis."
   ]
  },
  {
   "cell_type": "code",
   "execution_count": null,
   "metadata": {},
   "outputs": [],
   "source": [
    "categories =  ['3rd class', '1st class', '2nd class']\n",
    "\n",
    "categories"
   ]
  },
  {
   "cell_type": "markdown",
   "metadata": {},
   "source": [
    "We use `bar` to create a bar plot. We give `bar` the categories to place on the x-axis, and the values for each category to plot on the y-axis."
   ]
  },
  {
   "cell_type": "code",
   "execution_count": null,
   "metadata": {
    "scrolled": true
   },
   "outputs": [],
   "source": [
    "fig, ax = plt.subplots()\n",
    "\n",
    "ax.bar(categories, # x-values\n",
    "       pclass)     # y-values\n",
    "\n",
    "plt.show()"
   ]
  },
  {
   "cell_type": "markdown",
   "metadata": {},
   "source": [
    "We can change the default values of the optional parameters `width` and `alpha`."
   ]
  },
  {
   "cell_type": "code",
   "execution_count": null,
   "metadata": {},
   "outputs": [],
   "source": [
    "fig, ax = plt.subplots()\n",
    "\n",
    "ax.bar(pclass.index, # use index instead of self-defined category names\n",
    "       pclass,\n",
    "       width = 0.5,  # width\n",
    "       alpha = 0.5)  # transparency\n",
    "\n",
    "plt.show()"
   ]
  },
  {
   "cell_type": "markdown",
   "metadata": {},
   "source": [
    "See the [function documentation](https://matplotlib.org/stable/api/_as_gen/matplotlib.pyplot.bar.html) for an overview of the optional parameters in `bar`."
   ]
  },
  {
   "cell_type": "markdown",
   "metadata": {},
   "source": [
    "<div class=\"alert alert-info\">\n",
    "<h3> Your turn</h3>\n",
    "    <p> Illustrate the number of passengers that survived and that did not survive in a bar plot. Set the color of the bars to <code>white</code> and the outline of the bars to <code>purple</code>.\n",
    "</div>"
   ]
  },
  {
   "cell_type": "markdown",
   "metadata": {},
   "source": [
    "**Solution**\n",
    "\n",
    "<details>\n",
    "    \n",
    "<summary> Click to expand!</summary>\n",
    "<p> \n",
    "\n",
    "```c#\n",
    "heights = titanic['Survived'].value_counts()\n",
    "labels = ['Not survived', 'Survived']\n",
    "\n",
    "fig, ax = plt.subplots()\n",
    "\n",
    "ax.bar(labels,\n",
    "       heights,\n",
    "       edgecolor = 'purple',\n",
    "       color = 'white', \n",
    "       linewidth = 3)\n",
    "\n",
    "plt.show()\n",
    "```\n",
    "\n",
    "</p>\n",
    "</details> "
   ]
  },
  {
   "cell_type": "code",
   "execution_count": null,
   "metadata": {},
   "outputs": [],
   "source": []
  },
  {
   "cell_type": "markdown",
   "metadata": {},
   "source": [
    "### Histograms\n",
    "\n",
    "We use histograms to visually represent the distribution (i.e. frequency) of a numeric column in a `DataFrame`."
   ]
  },
  {
   "cell_type": "markdown",
   "metadata": {},
   "source": [
    "`describe` gives us limited information about the distribution of the age of the passengers in our `titanic` data. \n",
    "\n",
    "However, we can create a histogram in order to see the full distribution."
   ]
  },
  {
   "cell_type": "code",
   "execution_count": null,
   "metadata": {},
   "outputs": [],
   "source": [
    "titanic.describe()"
   ]
  },
  {
   "cell_type": "markdown",
   "metadata": {},
   "source": [
    "We use `hist` to create a histogram. Notice that `hist` requires only one sequence of values.\n",
    "\n",
    "`hist` will split the sequence of values into bins and use these bins on the x-axis, while the number of occurrences within each bin will be on the y-axis."
   ]
  },
  {
   "cell_type": "code",
   "execution_count": null,
   "metadata": {},
   "outputs": [],
   "source": [
    "figure, ax = plt.subplots()\n",
    "\n",
    "ax.hist(titanic['Age'])\n",
    "\n",
    "plt.show()"
   ]
  },
  {
   "cell_type": "markdown",
   "metadata": {},
   "source": [
    "We can choose the number of bins to split the variable into by specifying the parameter `bins`. Notice that setting `density = True` will display the *shares* instead of *frequency counts* on the y-axis."
   ]
  },
  {
   "cell_type": "code",
   "execution_count": null,
   "metadata": {},
   "outputs": [],
   "source": [
    "figure, ax = plt.subplots()\n",
    "\n",
    "ax.hist(titanic['Age'],\n",
    "        bins = 80,       # bins\n",
    "        density = True)  # density\n",
    "\n",
    "plt.show()"
   ]
  },
  {
   "cell_type": "markdown",
   "metadata": {},
   "source": [
    "See the [function documentation](https://matplotlib.org/stable/api/_as_gen/matplotlib.pyplot.hist.html) for an overview of the optional parameters in `hist`."
   ]
  },
  {
   "cell_type": "markdown",
   "metadata": {},
   "source": [
    "<div class=\"alert alert-info\">\n",
    "<h3> Your turn</h3>\n",
    "    <p> Create a histogram of the closing price of the Apple stock. Set the number of bins equal to <code>50</code> and the color of the bars equal to <code>grey</code>.\n",
    "</div>"
   ]
  },
  {
   "cell_type": "markdown",
   "metadata": {},
   "source": [
    "**Solution**\n",
    "\n",
    "<details>\n",
    "    \n",
    "<summary> Click to expand!</summary>\n",
    "<p> \n",
    "\n",
    "```c#\n",
    "fig, ax = plt.subplots()\n",
    "\n",
    "ax.hist(apple['Close'], \n",
    "        bins = 50,\n",
    "        color = 'grey')\n",
    "\n",
    "plt.show()\n",
    "```\n",
    "\n",
    "</p>\n",
    "</details> "
   ]
  },
  {
   "cell_type": "code",
   "execution_count": null,
   "metadata": {},
   "outputs": [],
   "source": []
  },
  {
   "cell_type": "markdown",
   "metadata": {},
   "source": [
    "## Customize the plot\n",
    "\n",
    "We can use additional functions from `matplotlib` in order to customize the plot."
   ]
  },
  {
   "cell_type": "code",
   "execution_count": null,
   "metadata": {},
   "outputs": [],
   "source": [
    "fig, ax = plt.subplots() \n",
    "\n",
    "ax.plot(apple['Date'],\n",
    "        apple['Close'])\n",
    "\n",
    "plt.show()"
   ]
  },
  {
   "cell_type": "markdown",
   "metadata": {},
   "source": [
    "`subplots` has a parameter `figsize` that we can specify in order to change the size of the figure."
   ]
  },
  {
   "cell_type": "code",
   "execution_count": null,
   "metadata": {},
   "outputs": [],
   "source": [
    "# set figsize\n",
    "fig, ax = plt.subplots(figsize = (10, 3)) \n",
    "\n",
    "ax.plot(apple['Date'],\n",
    "        apple['Close'])\n",
    "\n",
    "plt.show()"
   ]
  },
  {
   "cell_type": "markdown",
   "metadata": {},
   "source": [
    "<div class=\"alert alert-info\">\n",
    "<h3> Your turn</h3>\n",
    "    <p> Use the histogram of the age of the passengers in the <code>titanic</code> data that we created above, and make the plot wider.\n",
    "        \n",
    "</div>"
   ]
  },
  {
   "cell_type": "markdown",
   "metadata": {},
   "source": [
    "**Solution**\n",
    "\n",
    "<details>\n",
    "    \n",
    "<summary> Click to expand!</summary>\n",
    "<p> \n",
    "\n",
    "```c#\n",
    "figure, ax = plt.subplots(figsize = (8, 3))\n",
    "\n",
    "ax.hist(titanic['Age'])\n",
    "\n",
    "plt.show()\n",
    "```\n",
    "\n",
    "</p>\n",
    "</details> "
   ]
  },
  {
   "cell_type": "code",
   "execution_count": null,
   "metadata": {},
   "outputs": [],
   "source": []
  },
  {
   "cell_type": "markdown",
   "metadata": {},
   "source": [
    "We can use the functions `set_ylabel` and `set_xlabel` to add labels on the figure's axes."
   ]
  },
  {
   "cell_type": "code",
   "execution_count": null,
   "metadata": {},
   "outputs": [],
   "source": [
    "fig, ax = plt.subplots(figsize = (10, 3))\n",
    "\n",
    "ax.plot(apple['Date'],\n",
    "        apple['Close'])\n",
    "\n",
    "# set axis label\n",
    "ax.set_ylabel('Price (USD)', fontsize = 12) \n",
    "\n",
    "plt.show()"
   ]
  },
  {
   "cell_type": "markdown",
   "metadata": {},
   "source": [
    "<div class=\"alert alert-info\">\n",
    "<h3> Your turn</h3>\n",
    "    <p> Continue with the histogram and add a label to the x-axis.\n",
    "        \n",
    "</div>"
   ]
  },
  {
   "cell_type": "markdown",
   "metadata": {},
   "source": [
    "**Solution**\n",
    "\n",
    "<details>\n",
    "    \n",
    "<summary> Click to expand!</summary>\n",
    "<p> \n",
    "\n",
    "```c#\n",
    "figure, ax = plt.subplots(figsize = (8, 3))\n",
    "\n",
    "ax.hist(titanic['Age'])\n",
    "\n",
    "ax.set_xlabel('Age')\n",
    "\n",
    "plt.show()\n",
    "```\n",
    "\n",
    "</p>\n",
    "</details> "
   ]
  },
  {
   "cell_type": "code",
   "execution_count": null,
   "metadata": {},
   "outputs": [],
   "source": []
  },
  {
   "cell_type": "markdown",
   "metadata": {},
   "source": [
    "We can use the functions `set_xlim` and `set_ylim` to restrict the ranges of the axis."
   ]
  },
  {
   "cell_type": "code",
   "execution_count": null,
   "metadata": {},
   "outputs": [],
   "source": [
    "apple['Date'].min()"
   ]
  },
  {
   "cell_type": "code",
   "execution_count": null,
   "metadata": {},
   "outputs": [],
   "source": [
    "apple['Date'].max()"
   ]
  },
  {
   "cell_type": "code",
   "execution_count": null,
   "metadata": {},
   "outputs": [],
   "source": [
    "fig, ax = plt.subplots(figsize = (10, 3))\n",
    "\n",
    "ax.plot(apple['Date'],\n",
    "        apple['Close'])\n",
    "\n",
    "ax.set_ylabel('Price (USD)', fontsize = 12)\n",
    "\n",
    "# set axis range\n",
    "ax.set_xlim(apple['Date'].min(), # minimum\n",
    "            apple['Date'].max()) # maximum\n",
    "\n",
    "plt.show()"
   ]
  },
  {
   "cell_type": "markdown",
   "metadata": {},
   "source": [
    "<div class=\"alert alert-info\">\n",
    "<h3> Your turn</h3>\n",
    "    <p> Set the ranges on the x-axis in the histogram equal to the minimum and maximum age observed in the <code>titanic</code> data.\n",
    "        \n",
    "</div>"
   ]
  },
  {
   "cell_type": "markdown",
   "metadata": {},
   "source": [
    "**Solution**\n",
    "\n",
    "<details>\n",
    "    \n",
    "<summary> Click to expand!</summary>\n",
    "<p> \n",
    "\n",
    "```c#\n",
    "figure, ax = plt.subplots(figsize = (8, 3))\n",
    "\n",
    "ax.hist(titanic['Age'])\n",
    "\n",
    "ax.set_xlabel('Age')\n",
    "\n",
    "ax.set_xlim(titanic['Age'].min(), titanic['Age'].max())\n",
    "\n",
    "plt.show()\n",
    "```\n",
    "\n",
    "</p>\n",
    "</details> "
   ]
  },
  {
   "cell_type": "code",
   "execution_count": null,
   "metadata": {},
   "outputs": [],
   "source": []
  },
  {
   "cell_type": "markdown",
   "metadata": {},
   "source": [
    "We can use `set_title` to add a title to the plot."
   ]
  },
  {
   "cell_type": "code",
   "execution_count": null,
   "metadata": {},
   "outputs": [],
   "source": [
    "fig, ax = plt.subplots(figsize = (10, 3))\n",
    "\n",
    "ax.plot(apple['Date'],\n",
    "        apple['Close'])\n",
    "\n",
    "ax.set_ylabel('Price (USD)', fontsize = 12)\n",
    "\n",
    "ax.set_xlim(apple['Date'].min(), \n",
    "            apple['Date'].max()) \n",
    "\n",
    "# set plot title\n",
    "ax.set_title('Apple, 2020')\n",
    "\n",
    "plt.show()"
   ]
  },
  {
   "cell_type": "markdown",
   "metadata": {},
   "source": [
    "<div class=\"alert alert-info\">\n",
    "<h3> Your turn</h3>\n",
    "    <p> Add a short title that explains what is plotted in the histogram.\n",
    "        \n",
    "</div>"
   ]
  },
  {
   "cell_type": "markdown",
   "metadata": {},
   "source": [
    "**Solution**\n",
    "\n",
    "<details>\n",
    "    \n",
    "<summary> Click to expand!</summary>\n",
    "<p> \n",
    "\n",
    "```c#\n",
    "figure, ax = plt.subplots(figsize = (8, 3))\n",
    "\n",
    "ax.hist(titanic['Age'])\n",
    "\n",
    "ax.set_xlabel('Age')\n",
    "\n",
    "ax.set_xlim(titanic['Age'].min(), titanic['Age'].max())\n",
    "\n",
    "ax.set_title('Age distribution of passengers on Titanic')\n",
    "\n",
    "plt.show()\n",
    "```\n",
    "\n",
    "</p>\n",
    "</details> "
   ]
  },
  {
   "cell_type": "code",
   "execution_count": null,
   "metadata": {},
   "outputs": [],
   "source": []
  },
  {
   "cell_type": "markdown",
   "metadata": {},
   "source": [
    "We have so far only displayed the plots inside our program. Once we terminate the program, all of our plots are lost.\n",
    "\n",
    "`savefig` saves the plot to our comupter. As a default, the plot is saved in the same folder as the notebook. However, we can save the figure in a subfolder by specifying the path to the folder.\n",
    "\n",
    "(Notice that we no longer need use `show` in order to display the plot)."
   ]
  },
  {
   "cell_type": "code",
   "execution_count": null,
   "metadata": {},
   "outputs": [],
   "source": [
    "fig, ax = plt.subplots(figsize = (10, 3))\n",
    "\n",
    "ax.plot(apple['Date'],\n",
    "        apple['Close'])\n",
    "\n",
    "ax.set_ylabel('Price (USD)', fontsize = 12)\n",
    "\n",
    "ax.set_xlim(apple['Date'].min(), \n",
    "            apple['Date'].max()) \n",
    "\n",
    "\n",
    "ax.set_title('Daily closing price for Apple, 2020')\n",
    "\n",
    "# save figure\n",
    "plt.savefig('plots/Apple.png')"
   ]
  },
  {
   "cell_type": "markdown",
   "metadata": {},
   "source": [
    "<div class=\"alert alert-info\">\n",
    "<h3> Your turn</h3>\n",
    "    <p> Save the final histogram in the <code>plots</code> folder. Notice that the label on the x-axis is cut off... Google and see if you can find a solution (hint: you need to specify an additional parameter in <code>savefig</code>.\n",
    "        \n",
    "</div>"
   ]
  },
  {
   "cell_type": "markdown",
   "metadata": {},
   "source": [
    "**Solution**\n",
    "\n",
    "<details>\n",
    "    \n",
    "<summary> Click to expand!</summary>\n",
    "<p> \n",
    "\n",
    "```c#\n",
    "figure, ax = plt.subplots(figsize = (8, 3))\n",
    "\n",
    "ax.hist(titanic['Age'])\n",
    "\n",
    "ax.set_xlabel('Age')\n",
    "\n",
    "ax.set_xlim(titanic['Age'].min(), titanic['Age'].max())\n",
    "\n",
    "ax.set_title('Age distribution of passengers on Titanic')\n",
    "\n",
    "plt.savefig('plots/Titanic.png', bbox_inches = 'tight')\n",
    "```\n",
    "\n",
    "</p>\n",
    "</details> "
   ]
  },
  {
   "cell_type": "code",
   "execution_count": null,
   "metadata": {},
   "outputs": [],
   "source": []
  },
  {
   "cell_type": "markdown",
   "metadata": {},
   "source": [
    "We can use `legend` to add a legend in the plot. However, we must then also specify a `label` in the `plot` function."
   ]
  },
  {
   "cell_type": "code",
   "execution_count": null,
   "metadata": {},
   "outputs": [],
   "source": [
    "fig, ax = plt.subplots(figsize = (10, 3))\n",
    "\n",
    "ax.plot(apple['Date'],\n",
    "        apple['Close'],\n",
    "        label = 'Close') # add label\n",
    "\n",
    "ax.set_ylabel('Price (USD)', fontsize = 12)\n",
    "\n",
    "ax.set_xlim(apple['Date'].min(), \n",
    "            apple['Date'].max()) \n",
    "\n",
    "\n",
    "ax.set_title('Apple, 2020')\n",
    "\n",
    "# add legend\n",
    "ax.legend()\n",
    "\n",
    "plt.show()"
   ]
  },
  {
   "cell_type": "markdown",
   "metadata": {},
   "source": [
    "<div class=\"alert alert-info\">\n",
    "<h3> Your turn</h3>\n",
    "    <p> Use the figure with the line plots for both the <code>High</code> and <code>Low</code> columns in the <code>apple</code> data that we created above. Add a legend to the figure that indicates which line is <code>High</code> and which line is <code>Low</code>.\n",
    "        \n",
    "</div>"
   ]
  },
  {
   "cell_type": "markdown",
   "metadata": {},
   "source": [
    "**Solution**\n",
    "\n",
    "<details>\n",
    "    \n",
    "<summary> Click to expand!</summary>\n",
    "<p> \n",
    "\n",
    "```c#\n",
    "fig, ax = plt.subplots(figsize = (10, 5))\n",
    "\n",
    "ax.plot(apple['Date'],  \n",
    "        apple['High'],\n",
    "        label = 'High')\n",
    "\n",
    "ax.plot(apple['Date'],  \n",
    "        apple['Low'],\n",
    "        label = 'Low') \n",
    "\n",
    "ax.legend()\n",
    "\n",
    "ax.set_xlim(apple['Date'].min(), apple['Date'].max())\n",
    "ax.set_ylabel('Price (USD)')\n",
    "ax.set_title('Apple, 2020', fontsize = 16)\n",
    "\n",
    "plt.show()\n",
    "```\n",
    "\n",
    "</p>\n",
    "</details> "
   ]
  },
  {
   "cell_type": "code",
   "execution_count": null,
   "metadata": {},
   "outputs": [],
   "source": []
  },
  {
   "cell_type": "markdown",
   "metadata": {},
   "source": [
    "## Subplots\n",
    "\n",
    "Notice that a single `Figure` object can hold several `Axes` objects. We create multiple axes in the same figure by giving values to the `nrows` and `ncols` parameters in the `subplots` function.\n",
    "\n",
    "This gives us multiple plots in the same figure (i.e. subplots)."
   ]
  },
  {
   "cell_type": "code",
   "execution_count": null,
   "metadata": {},
   "outputs": [],
   "source": [
    "fig, ax = plt.subplots(nrows = 1,        # 1 row\n",
    "                       ncols = 2,        # 2 columns\n",
    "                       figsize = (9, 3)) \n",
    "\n",
    "plt.show()"
   ]
  },
  {
   "cell_type": "markdown",
   "metadata": {},
   "source": [
    "`ax` now contains two `Axes` object for plotting."
   ]
  },
  {
   "cell_type": "code",
   "execution_count": null,
   "metadata": {},
   "outputs": [],
   "source": [
    "len(ax)"
   ]
  },
  {
   "cell_type": "code",
   "execution_count": null,
   "metadata": {},
   "outputs": [],
   "source": [
    "ax[0]"
   ]
  },
  {
   "cell_type": "code",
   "execution_count": null,
   "metadata": {},
   "outputs": [],
   "source": [
    "ax[1]"
   ]
  },
  {
   "cell_type": "markdown",
   "metadata": {},
   "source": [
    "When plotting, we must now select which `Axes` object to plot on."
   ]
  },
  {
   "cell_type": "markdown",
   "metadata": {},
   "source": [
    "Let us create line plots for the daily opening and closing price of the Apple stock in two seperate plots side by side."
   ]
  },
  {
   "cell_type": "code",
   "execution_count": null,
   "metadata": {},
   "outputs": [],
   "source": [
    "fig, ax = plt.subplots(nrows = 1,         # 1 row\n",
    "                       ncols = 2,         # 2 columns\n",
    "                       figsize = (12, 3))\n",
    "\n",
    "# opening price\n",
    "ax[0].plot(apple['Date'],\n",
    "           apple['Open'])\n",
    "\n",
    "# closing price\n",
    "ax[1].plot(apple['Date'],\n",
    "           apple['Close'])\n",
    "\n",
    "plt.show()"
   ]
  },
  {
   "cell_type": "markdown",
   "metadata": {},
   "source": [
    "Alternatively, we can stack the plots on top of each other."
   ]
  },
  {
   "cell_type": "code",
   "execution_count": null,
   "metadata": {},
   "outputs": [],
   "source": [
    "fig, ax = plt.subplots(nrows = 2,         # 1 row\n",
    "                       ncols = 1,         # 2 columns\n",
    "                       figsize = (9, 5))\n",
    "\n",
    "# opening price\n",
    "ax[0].plot(apple['Date'],\n",
    "           apple['Open'])\n",
    "\n",
    "# closing price\n",
    "ax[1].plot(apple['Date'],\n",
    "           apple['Close'])\n",
    "\n",
    "plt.show()"
   ]
  },
  {
   "cell_type": "markdown",
   "metadata": {},
   "source": [
    "We can still customize the plots as we previously did. However, we must specify which of the `Axes` objects that we want to customize."
   ]
  },
  {
   "cell_type": "markdown",
   "metadata": {},
   "source": [
    "Let us customize the subplots by adding titles to the subplots and figure."
   ]
  },
  {
   "cell_type": "code",
   "execution_count": null,
   "metadata": {},
   "outputs": [],
   "source": [
    "fig, ax = plt.subplots(nrows = 2,         \n",
    "                       ncols = 1,         \n",
    "                       figsize = (9, 5))\n",
    "\n",
    "# opening price\n",
    "ax[0].plot(apple['Date'],\n",
    "           apple['Open']) \n",
    "\n",
    "# closing price\n",
    "ax[1].plot(apple['Date'],\n",
    "           apple['Volume'])\n",
    "\n",
    "# add subplot titles\n",
    "ax[0].set_title('Daily opening price')     # subplot 1 title\n",
    "ax[1].set_title('Daily volume traded')     # subplot 2 title\n",
    "\n",
    "# modify figure\n",
    "fig.suptitle('Apple, 2020', fontsize = 16) # figure title\n",
    "fig.tight_layout()                         # add this to increase space between subplots\n",
    "\n",
    "plt.show()"
   ]
  },
  {
   "cell_type": "markdown",
   "metadata": {},
   "source": [
    "<div class=\"alert alert-info\">\n",
    "<h3> Your turn</h3>\n",
    "    <p> Add a label on the y-axis in each of the subplots in the figure above and store the final figure in the <code>plots</code> folder.\n",
    "        \n",
    "</div>"
   ]
  },
  {
   "cell_type": "markdown",
   "metadata": {},
   "source": [
    "**Solution**\n",
    "\n",
    "<details>\n",
    "    \n",
    "<summary> Click to expand!</summary>\n",
    "<p> \n",
    "\n",
    "```c#\n",
    "fig, ax = plt.subplots(nrows = 2,         \n",
    "                       ncols = 1,         \n",
    "                       figsize = (9, 5))\n",
    "\n",
    "# opening price\n",
    "ax[0].plot(apple['Date'],\n",
    "           apple['Open']) \n",
    "\n",
    "# closing price\n",
    "ax[1].plot(apple['Date'],\n",
    "           apple['Volume'])\n",
    "\n",
    "# add axis labels\n",
    "ax[0].set_ylabel('Price (USD)')\n",
    "ax[1].set_ylabel('Price (USD)')\n",
    "\n",
    "# add subplot titles\n",
    "ax[0].set_title('Daily opening price')     \n",
    "ax[1].set_title('Daily volume traded')     \n",
    "\n",
    "# modify figure\n",
    "fig.suptitle('Apple, 2020', fontsize = 16) \n",
    "fig.tight_layout()                         \n",
    "\n",
    "plt.savefig('plots/Apple_subplots.png',  # path to plot\n",
    "           bbox_inches = 'tight',        # add as a precautionary\n",
    "           dpi = 300                     # increase resolution\n",
    ")\n",
    "```\n",
    "\n",
    "</p>\n",
    "</details> "
   ]
  },
  {
   "cell_type": "code",
   "execution_count": null,
   "metadata": {},
   "outputs": [],
   "source": []
  },
  {
   "cell_type": "markdown",
   "metadata": {},
   "source": [
    "We can create as many subplots as we want by changing the values given to `nrows` and `ncols`."
   ]
  },
  {
   "cell_type": "code",
   "execution_count": null,
   "metadata": {},
   "outputs": [],
   "source": [
    "fig, ax = plt.subplots(nrows = 2,        # 2 rows\n",
    "                       ncols = 2,        # 2 columns\n",
    "                       figsize = (9, 6))\n",
    "\n",
    "plt.show()"
   ]
  },
  {
   "cell_type": "markdown",
   "metadata": {},
   "source": [
    "`ax` is now a 2 x 2 matrix containing the `Axes` objects."
   ]
  },
  {
   "cell_type": "code",
   "execution_count": null,
   "metadata": {},
   "outputs": [],
   "source": [
    "ax.shape"
   ]
  },
  {
   "cell_type": "code",
   "execution_count": null,
   "metadata": {},
   "outputs": [],
   "source": [
    "ax[0, 0] # 1st row, 1st column"
   ]
  },
  {
   "cell_type": "code",
   "execution_count": null,
   "metadata": {},
   "outputs": [],
   "source": [
    "ax[1, 1] # 2nd row, 2nd column"
   ]
  },
  {
   "cell_type": "code",
   "execution_count": null,
   "metadata": {},
   "outputs": [],
   "source": []
  },
  {
   "cell_type": "code",
   "execution_count": null,
   "metadata": {},
   "outputs": [],
   "source": []
  },
  {
   "cell_type": "markdown",
   "metadata": {},
   "source": [
    "## Mandatory exercise, part 2\n",
    "\n",
    "Again, import the file <code>mpg.xlsx</code> as a <code>DataFrame</code> and explore the data visually.\n",
    "\n",
    "Create a figure with 2 x 2 subplots:\n",
    "\n",
    "- In the first row, first column, show a histogram of <code>mpg</code>.\n",
    "\n",
    "\n",
    "- In the first row, second column, show a scatter plot of <code>mpg</code> and <code>horsepower</code>.\n",
    "\n",
    "\n",
    "- In the second row, first column, show a scatter plot of <code>mpg</code> and <code>weight</code>.\n",
    "\n",
    "\n",
    "- In the second row, second column, show a scatter plot of <code>mpg</code> and <code>acceleration</code>.\n",
    "\n",
    "\n",
    "Style the plots to make them look nice and save the figure as `mpg_plot.png`."
   ]
  },
  {
   "cell_type": "code",
   "execution_count": null,
   "metadata": {},
   "outputs": [],
   "source": []
  },
  {
   "cell_type": "code",
   "execution_count": null,
   "metadata": {},
   "outputs": [],
   "source": []
  }
 ],
 "metadata": {
  "kernelspec": {
   "display_name": "Python 3 (ipykernel)",
   "language": "python",
   "name": "python3"
  },
  "language_info": {
   "codemirror_mode": {
    "name": "ipython",
    "version": 3
   },
   "file_extension": ".py",
   "mimetype": "text/x-python",
   "name": "python",
   "nbconvert_exporter": "python",
   "pygments_lexer": "ipython3",
   "version": "3.9.7"
  }
 },
 "nbformat": 4,
 "nbformat_minor": 4
}
