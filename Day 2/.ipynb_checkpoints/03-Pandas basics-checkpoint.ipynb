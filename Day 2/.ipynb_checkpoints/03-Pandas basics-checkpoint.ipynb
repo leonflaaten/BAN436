{
 "cells": [
  {
   "cell_type": "markdown",
   "metadata": {},
   "source": [
    "# 02-Pandas basics\n",
    "\n",
    "This notebook gives an introduction to `pandas`, which is the Python package for data handling and manipulation.\n",
    "\n",
    "https://pandas.pydata.org/docs/getting_started/index.html"
   ]
  },
  {
   "cell_type": "markdown",
   "metadata": {},
   "source": [
    "Before we can use `pandas`, we must first import it in to our program/Jupyter notebook. It is convention to import `pandas` as `pd`. "
   ]
  },
  {
   "cell_type": "code",
   "execution_count": null,
   "metadata": {},
   "outputs": [],
   "source": [
    "import pandas as pd"
   ]
  },
  {
   "cell_type": "code",
   "execution_count": null,
   "metadata": {},
   "outputs": [],
   "source": []
  },
  {
   "cell_type": "markdown",
   "metadata": {},
   "source": [
    "## Series and DataFrame\n",
    "\n",
    "`pandas` offers data types for tabular data.\n",
    "\n",
    "<img src=\"images/table.png\" width = \"50%\" align=\"left\"/>"
   ]
  },
  {
   "cell_type": "markdown",
   "metadata": {},
   "source": [
    "`pandas` has two data types: `Series` and `DataFrame`. \n",
    "\n",
    "A `Series` is a column in table, while a `DataFrame` is a collecton of columns. "
   ]
  },
  {
   "cell_type": "markdown",
   "metadata": {},
   "source": [
    "We create a `Series` by passing a list of values to the `Series` function."
   ]
  },
  {
   "cell_type": "code",
   "execution_count": null,
   "metadata": {},
   "outputs": [],
   "source": [
    "name_lst = ['Ole', 'Jenny', 'Chang', 'Jonas']\n",
    "\n",
    "name_lst"
   ]
  },
  {
   "cell_type": "code",
   "execution_count": null,
   "metadata": {},
   "outputs": [],
   "source": [
    "series = pd.Series(name_lst)"
   ]
  },
  {
   "cell_type": "code",
   "execution_count": null,
   "metadata": {},
   "outputs": [],
   "source": [
    "series"
   ]
  },
  {
   "cell_type": "markdown",
   "metadata": {},
   "source": [
    "A `Series` has an `index` attribute."
   ]
  },
  {
   "cell_type": "code",
   "execution_count": null,
   "metadata": {},
   "outputs": [],
   "source": [
    "series.index"
   ]
  },
  {
   "cell_type": "markdown",
   "metadata": {},
   "source": [
    "However, we usually work with two-dimensional data, i.e. several variables for each observation. We can store two-dimensional data in a `pandas` `DataFrame`.\n",
    "\n",
    "First, we create a dictionary with the keys as the column names and the values as the data."
   ]
  },
  {
   "cell_type": "code",
   "execution_count": null,
   "metadata": {},
   "outputs": [],
   "source": [
    "grade_dict = {'Name'  : ['Ole', 'Jenny', 'Chang', 'Jonas'],\n",
    "              'Score' : [65.0, 58.0, 79.0, 95.0],\n",
    "              'Pass'  : ['yes', 'no', 'yes', 'yes']}\n",
    "\n",
    "grade_dict"
   ]
  },
  {
   "cell_type": "markdown",
   "metadata": {},
   "source": [
    "Second, we create a `DataFrame` by giving the dictionary with column names and values to the `DataFrame` function."
   ]
  },
  {
   "cell_type": "code",
   "execution_count": null,
   "metadata": {},
   "outputs": [],
   "source": [
    "df = pd.DataFrame(grade_dict)"
   ]
  },
  {
   "cell_type": "code",
   "execution_count": null,
   "metadata": {},
   "outputs": [],
   "source": [
    "df"
   ]
  },
  {
   "cell_type": "markdown",
   "metadata": {},
   "source": [
    "<div class=\"alert alert-info\">\n",
    "<h3> Your turn</h3>\n",
    "    <p> Take the dictionary <code>temps_dict</code> that you created in the mandatory exercise on day 1, and convert it to a <code>DataFrame</code> called <code>temps_df</code>.\n",
    "</div>"
   ]
  },
  {
   "cell_type": "markdown",
   "metadata": {},
   "source": [
    "**Solution**\n",
    "\n",
    "<details>\n",
    "    \n",
    "<summary> Click to expand!</summary>\n",
    "<p> \n",
    "\n",
    "```c#\n",
    "temps_dict = {\n",
    "    'oslo' : [0, -4, -3, 0, 3, 5, 4],\n",
    "    'bergen' : [4, 3, 4, 3, 3, 7, 8],\n",
    "    'trondheim' : [0, -1, -3, -2, -2, -5, -6]\n",
    "}\n",
    "\n",
    "temps_df = pd.DataFrame(temps_dict)\n",
    "```\n",
    "\n",
    "</p>\n",
    "</details> "
   ]
  },
  {
   "cell_type": "code",
   "execution_count": null,
   "metadata": {},
   "outputs": [],
   "source": []
  },
  {
   "cell_type": "markdown",
   "metadata": {},
   "source": [
    "A `DataFrame` has both an `index` and a `columns` attribute."
   ]
  },
  {
   "cell_type": "code",
   "execution_count": null,
   "metadata": {},
   "outputs": [],
   "source": [
    "df.index"
   ]
  },
  {
   "cell_type": "code",
   "execution_count": null,
   "metadata": {},
   "outputs": [],
   "source": [
    "df.columns"
   ]
  },
  {
   "cell_type": "markdown",
   "metadata": {},
   "source": [
    "In general, we select rows and columns from a `DataFrame` by using the index operator `[]`."
   ]
  },
  {
   "cell_type": "markdown",
   "metadata": {},
   "source": [
    "To select a column, we place the column name inside `[]`."
   ]
  },
  {
   "cell_type": "code",
   "execution_count": null,
   "metadata": {},
   "outputs": [],
   "source": [
    "df['Name']"
   ]
  },
  {
   "cell_type": "markdown",
   "metadata": {},
   "source": [
    "To select multiple columns, we place a *list* of column names inside `[]`."
   ]
  },
  {
   "cell_type": "code",
   "execution_count": null,
   "metadata": {},
   "outputs": [],
   "source": [
    "df[['Name', 'Score']]"
   ]
  },
  {
   "cell_type": "markdown",
   "metadata": {},
   "source": [
    "<div class=\"alert alert-info\">\n",
    "<h3> Your turn</h3>\n",
    "    <p> Select the columns with the daily temperature observations for Oslo and Bergen from <code>temps_df</code>.\n",
    "</div>"
   ]
  },
  {
   "cell_type": "markdown",
   "metadata": {},
   "source": [
    "**Solution**\n",
    "\n",
    "<details>\n",
    "    \n",
    "<summary> Click to expand!</summary>\n",
    "<p> \n",
    "\n",
    "```c#\n",
    "temps_df[['oslo', 'bergen']]\n",
    "```\n",
    "\n",
    "</p>\n",
    "</details> "
   ]
  },
  {
   "cell_type": "code",
   "execution_count": null,
   "metadata": {},
   "outputs": [],
   "source": []
  },
  {
   "cell_type": "markdown",
   "metadata": {},
   "source": [
    "To select rows, we combine the index operator `[]` with the `loc` attribute."
   ]
  },
  {
   "cell_type": "code",
   "execution_count": null,
   "metadata": {},
   "outputs": [],
   "source": [
    "df.loc[3]"
   ]
  },
  {
   "cell_type": "markdown",
   "metadata": {},
   "source": [
    "We can select the value in a specific row and column by specifying both the row label and column label inside the square brackets."
   ]
  },
  {
   "cell_type": "code",
   "execution_count": null,
   "metadata": {},
   "outputs": [],
   "source": [
    "df.loc[0, 'Name']"
   ]
  },
  {
   "cell_type": "markdown",
   "metadata": {},
   "source": [
    "We can also *slice* the rows the same way as we did with strings and lists. Notice that when slicing rows, it is no longer necessary to use the `loc` atribute."
   ]
  },
  {
   "cell_type": "code",
   "execution_count": null,
   "metadata": {},
   "outputs": [],
   "source": [
    "df[:2]"
   ]
  },
  {
   "cell_type": "markdown",
   "metadata": {},
   "source": [
    "<div class=\"alert alert-info\">\n",
    "<h3> Your turn</h3>\n",
    "    <p> Show two different ways of selecting the last row in <code>temps_df</code>.\n",
    "</div>"
   ]
  },
  {
   "cell_type": "markdown",
   "metadata": {},
   "source": [
    "**Solution**\n",
    "\n",
    "<details>\n",
    "    \n",
    "<summary> Click to expand!</summary>\n",
    "<p> \n",
    "\n",
    "```c#\n",
    "# extract last row using loc command\n",
    "temps_df.loc[6]\n",
    " \n",
    "# extract last row by slicing\n",
    "temps_df[6:]\n",
    "```\n",
    "\n",
    "</p>\n",
    "</details> "
   ]
  },
  {
   "cell_type": "code",
   "execution_count": null,
   "metadata": {},
   "outputs": [],
   "source": []
  },
  {
   "cell_type": "markdown",
   "metadata": {},
   "source": [
    "Instead of simply displaying the subset of rows/columns, we can save the subset as a new `DataFrame` by assigning it a variable name.\n",
    "\n",
    "However, notice that when creating a subset of a `DataFrame`, `pandas` is not actually returning a new `DataFrame` with the selected rows/columns. Instead, `pandas` is displaying the original `DataFrame` with some rows/columns hidden."
   ]
  },
  {
   "cell_type": "code",
   "execution_count": null,
   "metadata": {},
   "outputs": [],
   "source": [
    "df[:2]"
   ]
  },
  {
   "cell_type": "markdown",
   "metadata": {},
   "source": [
    "In order to actually create a new `DataFrame`, we need to append `copy` at the end of the subset."
   ]
  },
  {
   "cell_type": "code",
   "execution_count": null,
   "metadata": {},
   "outputs": [],
   "source": [
    "df_subset = df[:2].copy()\n",
    "\n",
    "df_subset"
   ]
  },
  {
   "cell_type": "markdown",
   "metadata": {},
   "source": [
    "<div class=\"alert alert-info\">\n",
    "<h3> Your turn</h3>\n",
    "    <p> Store the last row in <code>temps_df</code> in a new variable called <code>sunday_df</code>.\n",
    "</div>"
   ]
  },
  {
   "cell_type": "markdown",
   "metadata": {},
   "source": [
    "**Solution**\n",
    "\n",
    "<details>\n",
    "    \n",
    "<summary> Click to expand!</summary>\n",
    "<p> \n",
    "\n",
    "```c#\n",
    "sunday = temps_df[6:].copy()\n",
    "```\n",
    "\n",
    "</p>\n",
    "</details> "
   ]
  },
  {
   "cell_type": "code",
   "execution_count": null,
   "metadata": {},
   "outputs": [],
   "source": []
  },
  {
   "cell_type": "markdown",
   "metadata": {},
   "source": [
    "## Import and save files"
   ]
  },
  {
   "cell_type": "markdown",
   "metadata": {},
   "source": [
    "The file `titanic.csv` contains information on 891 of the passengers on the Titanic.\n",
    "\n",
    "The file consists of the following data columns:\n",
    "\n",
    "* PassengerId: Id of every passenger.\n",
    "* Survived: This column has value 0 and 1 (0 for not survived and 1 for survived).\n",
    "* Pclass: There are 3 classes (Class 1, Class 2 and Class 3).\n",
    "* Name: Name of passenger.\n",
    "* Sex: Gender of passenger.\n",
    "* Age: Age of passenger.\n",
    "* Fare: Ticket price paid by passenger"
   ]
  },
  {
   "cell_type": "markdown",
   "metadata": {},
   "source": [
    "We can import the file by supplying the file name to the `read_csv` function. \n",
    "\n",
    "As a default, `read_csv` will look for the file in the same folder as the notebook. \n",
    "\n",
    "However, if the file is in a subfolder, we must specify also the path to the file (i.e. the name of the subfolder)."
   ]
  },
  {
   "cell_type": "code",
   "execution_count": null,
   "metadata": {},
   "outputs": [],
   "source": [
    "titanic = pd.read_csv('data/titanic.csv')"
   ]
  },
  {
   "cell_type": "code",
   "execution_count": null,
   "metadata": {},
   "outputs": [],
   "source": [
    "titanic"
   ]
  },
  {
   "cell_type": "markdown",
   "metadata": {},
   "source": [
    "Notice that `read_csv` assumes that the values in the file is seperated by a comma `,`. We can change this by giving a new value to the otional parameter `sep`. \n",
    "\n",
    "A pipe-delimited version of the file can be read by setting `sep = '|'`."
   ]
  },
  {
   "cell_type": "code",
   "execution_count": null,
   "metadata": {},
   "outputs": [],
   "source": [
    "titanic_pipe = pd.read_csv('data/titanic_pipe.csv', sep = '|')\n",
    "\n",
    "titanic_pipe"
   ]
  },
  {
   "cell_type": "markdown",
   "metadata": {},
   "source": [
    "`read_csv` has many optional parameters that we can pass arguments to in order to customize how we import the file.\n",
    "\n",
    "For instance, we can give a list of column names to `usecols` in order to import only a subset of the columns."
   ]
  },
  {
   "cell_type": "code",
   "execution_count": null,
   "metadata": {},
   "outputs": [],
   "source": [
    "titanic_subset = pd.read_csv('data/titanic.csv', usecols = ['PassengerId', 'Survived', 'Name'])\n",
    "\n",
    "titanic_subset.head()"
   ]
  },
  {
   "cell_type": "markdown",
   "metadata": {},
   "source": [
    "See the [function documentation](https://pandas.pydata.org/docs/reference/api/pandas.read_csv.html) for an overview of the parameters in `read_csv`."
   ]
  },
  {
   "cell_type": "markdown",
   "metadata": {},
   "source": [
    "We can save the data as a spreadsheet in the `data` folder using the `to_excel` function."
   ]
  },
  {
   "cell_type": "code",
   "execution_count": null,
   "metadata": {},
   "outputs": [],
   "source": [
    "titanic.to_excel('data/titanic.xlsx')"
   ]
  },
  {
   "cell_type": "markdown",
   "metadata": {},
   "source": [
    "`to_excel` has many optional parameters that we can change.\n",
    "\n",
    "We can for instance specify the parameters `sheet_name` and `index`."
   ]
  },
  {
   "cell_type": "code",
   "execution_count": null,
   "metadata": {},
   "outputs": [],
   "source": [
    "titanic.to_excel('data/titanic.xlsx', sheet_name = 'passengers', index = False)"
   ]
  },
  {
   "cell_type": "markdown",
   "metadata": {},
   "source": [
    "See the [function documentation](https://pandas.pydata.org/docs/reference/api/pandas.DataFrame.to_excel.html) for an overview of the parameters in `to_excel`."
   ]
  },
  {
   "cell_type": "markdown",
   "metadata": {},
   "source": [
    "Notice that if we wanted to save the file as a CSV file, we have to use the `to_csv` function instead. See the [function documentation](https://pandas.pydata.org/docs/reference/api/pandas.DataFrame.to_csv.html) for an overview of the parameters in `to_csv`."
   ]
  },
  {
   "cell_type": "markdown",
   "metadata": {},
   "source": [
    "<div class=\"alert alert-info\">\n",
    "<h3> Your turn</h3>\n",
    "    <p> Save <code>temps_df</code> as <code>temperatures.xlsx</code> using <code>to_excel</code> and as <code>temperatures.csv</code> using <code>to_csv</code>.\n",
    "</div>"
   ]
  },
  {
   "cell_type": "markdown",
   "metadata": {},
   "source": [
    "**Solution**\n",
    "\n",
    "<details>\n",
    "    \n",
    "<summary> Click to expand!</summary>\n",
    "<p> \n",
    "\n",
    "```c#\n",
    "temps_df.to_excel('data/temperatures.xlsx', index = False)\n",
    "temps_df.to_csv('data/temperatures.csv', index = False)\n",
    "```\n",
    "\n",
    "</p>\n",
    "</details> "
   ]
  },
  {
   "cell_type": "code",
   "execution_count": null,
   "metadata": {},
   "outputs": [],
   "source": []
  },
  {
   "cell_type": "markdown",
   "metadata": {},
   "source": [
    "We can then import the excel file using the `read_excel` function."
   ]
  },
  {
   "cell_type": "code",
   "execution_count": null,
   "metadata": {},
   "outputs": [],
   "source": [
    "# (this will only work as long as we have created the excel file above)\n",
    "titanic = pd.read_excel('data/titanic.xlsx')\n",
    "\n",
    "titanic"
   ]
  },
  {
   "cell_type": "markdown",
   "metadata": {},
   "source": [
    "See the [function documentation](https://pandas.pydata.org/pandas-docs/stable/reference/api/pandas.read_excel.html) for an overview of the parameters in `read_excel`."
   ]
  },
  {
   "cell_type": "markdown",
   "metadata": {},
   "source": [
    "<div class=\"alert alert-info\">\n",
    "<h3> Your turn</h3>\n",
    "    <p> Use <code>read_excel</code> to import <code>temperatures.xlsx</code>.     \n",
    "</div>"
   ]
  },
  {
   "cell_type": "markdown",
   "metadata": {},
   "source": [
    "**Solution**\n",
    "\n",
    "<details>\n",
    "    \n",
    "<summary> Click to expand!</summary>\n",
    "<p> \n",
    "\n",
    "```c#\n",
    "temps_df = pd.read_excel('data/temperatures.xlsx')\n",
    " \n",
    "temps_df\n",
    "```\n",
    "\n",
    "</p>\n",
    "</details> "
   ]
  },
  {
   "cell_type": "code",
   "execution_count": null,
   "metadata": {},
   "outputs": [],
   "source": []
  },
  {
   "cell_type": "markdown",
   "metadata": {},
   "source": [
    "## Exploring the data\n",
    "\n",
    "After a file has been imported, it is important to explore the data in order to get a sense of what is going on in the data, and also to make sure that the file was imported correctly."
   ]
  },
  {
   "cell_type": "markdown",
   "metadata": {},
   "source": [
    "`head` and `tail` show the five first and five last rows."
   ]
  },
  {
   "cell_type": "code",
   "execution_count": null,
   "metadata": {},
   "outputs": [],
   "source": [
    "titanic.head()"
   ]
  },
  {
   "cell_type": "code",
   "execution_count": null,
   "metadata": {},
   "outputs": [],
   "source": [
    "titanic.tail()"
   ]
  },
  {
   "cell_type": "markdown",
   "metadata": {},
   "source": [
    "`info` displays the data types of the columns (notice that 'object' indicates a string)."
   ]
  },
  {
   "cell_type": "code",
   "execution_count": null,
   "metadata": {},
   "outputs": [],
   "source": [
    "titanic.info()"
   ]
  },
  {
   "cell_type": "markdown",
   "metadata": {},
   "source": [
    "`describe` displays descriptive statistics for the *numeric* columns."
   ]
  },
  {
   "cell_type": "code",
   "execution_count": null,
   "metadata": {},
   "outputs": [],
   "source": [
    "titanic.describe()"
   ]
  },
  {
   "cell_type": "markdown",
   "metadata": {},
   "source": [
    "<div class=\"alert alert-info\">\n",
    "<h3> Your turn</h3>\n",
    "    <p> In addition to <code>describe</code>, there are several functions that we can apply on columns to calculate statistics such as the average value, standard deviation, maximum value etc. See if you can find a <code>pandas</code> function to calculate the median age of the passengers in <code>titanic</code>.\n",
    "</div>"
   ]
  },
  {
   "cell_type": "markdown",
   "metadata": {},
   "source": [
    "**Solution**\n",
    "\n",
    "<details>\n",
    "    \n",
    "<summary> Click to expand!</summary>\n",
    "<p> \n",
    "\n",
    "```c#\n",
    "titanic['Age'].median()\n",
    "```\n",
    "\n",
    "</p>\n",
    "</details> "
   ]
  },
  {
   "cell_type": "code",
   "execution_count": null,
   "metadata": {},
   "outputs": [],
   "source": []
  },
  {
   "cell_type": "markdown",
   "metadata": {},
   "source": [
    "`nunique` and `unique` shows the *number of unique values* and the *unique values* in a specific column."
   ]
  },
  {
   "cell_type": "code",
   "execution_count": null,
   "metadata": {},
   "outputs": [],
   "source": [
    "titanic['Survived'].nunique()"
   ]
  },
  {
   "cell_type": "code",
   "execution_count": null,
   "metadata": {},
   "outputs": [],
   "source": [
    "titanic['Survived'].unique()"
   ]
  },
  {
   "cell_type": "markdown",
   "metadata": {},
   "source": [
    "`value_counts` counts the number of observations for each unique value in a column."
   ]
  },
  {
   "cell_type": "code",
   "execution_count": null,
   "metadata": {},
   "outputs": [],
   "source": [
    "titanic['Survived'].value_counts()"
   ]
  },
  {
   "cell_type": "markdown",
   "metadata": {},
   "source": [
    "<div class=\"alert alert-info\">\n",
    "<h3> Your turn</h3>\n",
    "    <p> How many passengers in <code>titanic</code> were in first class?\n",
    "</div>"
   ]
  },
  {
   "cell_type": "markdown",
   "metadata": {},
   "source": [
    "**Solution**\n",
    "\n",
    "<details>\n",
    "    \n",
    "<summary> Click to expand!</summary>\n",
    "<p> \n",
    "\n",
    "```c#\n",
    "first_class = titanic['Pclass'].value_counts().loc[1]\n",
    "\n",
    "print('There were ' + str(first_class) + ' passengers in first class.')\n",
    "```\n",
    "\n",
    "</p>\n",
    "</details> "
   ]
  },
  {
   "cell_type": "code",
   "execution_count": null,
   "metadata": {},
   "outputs": [],
   "source": []
  },
  {
   "cell_type": "markdown",
   "metadata": {},
   "source": [
    "`corr` calculates the correlation coefficient between all of the numeric columns in a `DataFrame`."
   ]
  },
  {
   "cell_type": "code",
   "execution_count": null,
   "metadata": {},
   "outputs": [],
   "source": [
    "titanic.corr()"
   ]
  },
  {
   "cell_type": "code",
   "execution_count": null,
   "metadata": {},
   "outputs": [],
   "source": []
  },
  {
   "cell_type": "markdown",
   "metadata": {},
   "source": [
    "#### Missing data\n",
    "\n",
    "Missing data in `pandas` is denoted by the value `NaN`, which stand for 'not a number'. "
   ]
  },
  {
   "cell_type": "code",
   "execution_count": null,
   "metadata": {},
   "outputs": [],
   "source": [
    "titanic.tail()"
   ]
  },
  {
   "cell_type": "markdown",
   "metadata": {},
   "source": [
    "We can count the total number of missing values in each column in a `DataFrame` by combining the `isna` and `sum` functions."
   ]
  },
  {
   "cell_type": "markdown",
   "metadata": {},
   "source": [
    "`isna` creates boolean values (`True`/`False`) for each cell in a `DataFrame` indicating whether or not cell has a missing value."
   ]
  },
  {
   "cell_type": "code",
   "execution_count": null,
   "metadata": {},
   "outputs": [],
   "source": [
    "titanic.isna()"
   ]
  },
  {
   "cell_type": "markdown",
   "metadata": {},
   "source": [
    "We can then use `sum` to count the number of `True` in each column."
   ]
  },
  {
   "cell_type": "code",
   "execution_count": null,
   "metadata": {},
   "outputs": [],
   "source": [
    "titanic.isna().sum()"
   ]
  },
  {
   "cell_type": "code",
   "execution_count": null,
   "metadata": {},
   "outputs": [],
   "source": []
  },
  {
   "cell_type": "markdown",
   "metadata": {},
   "source": [
    "## Converting `dtype`\n",
    "\n",
    "When we import files, `pandas` infer the data types of the columns in the file. \n",
    "\n",
    "However, sometimes we want to change the `dtype` of the columns. Either because `pandas` got it wrong, or because there are other data types that are more appropriate for our analysis. "
   ]
  },
  {
   "cell_type": "markdown",
   "metadata": {},
   "source": [
    "The file `AAPL.csv` contains data on stock prices and trading volume for Apple on every weekday in 2020."
   ]
  },
  {
   "cell_type": "code",
   "execution_count": null,
   "metadata": {},
   "outputs": [],
   "source": [
    "apple = pd.read_csv('data/AAPL.csv')\n",
    "\n",
    "apple.head()"
   ]
  },
  {
   "cell_type": "code",
   "execution_count": null,
   "metadata": {},
   "outputs": [],
   "source": [
    "len(apple)"
   ]
  },
  {
   "cell_type": "code",
   "execution_count": null,
   "metadata": {},
   "outputs": [],
   "source": [
    "apple.tail()"
   ]
  },
  {
   "cell_type": "markdown",
   "metadata": {},
   "source": [
    "`read_csv` imported the price data as floats, the trading volumes as integers, and the dates as strings."
   ]
  },
  {
   "cell_type": "code",
   "execution_count": null,
   "metadata": {},
   "outputs": [],
   "source": [
    "apple.info()"
   ]
  },
  {
   "cell_type": "markdown",
   "metadata": {},
   "source": [
    "We can apply `astype` on a column in order to change the `dtype` of a column to `str`, `float` or `int`.\n",
    "\n",
    "In order to modify the `DateFrame`, we must set the old column equal to the updated column using the `=` operator."
   ]
  },
  {
   "cell_type": "code",
   "execution_count": null,
   "metadata": {},
   "outputs": [],
   "source": [
    "apple['Volume'] = apple['Volume'].astype('str')\n",
    "\n",
    "apple.head()"
   ]
  },
  {
   "cell_type": "code",
   "execution_count": null,
   "metadata": {},
   "outputs": [],
   "source": [
    "apple.info()"
   ]
  },
  {
   "cell_type": "code",
   "execution_count": null,
   "metadata": {},
   "outputs": [],
   "source": [
    "apple['Volume'] = apple['Volume'].astype(float)\n",
    "\n",
    "apple.head()"
   ]
  },
  {
   "cell_type": "code",
   "execution_count": null,
   "metadata": {},
   "outputs": [],
   "source": [
    "apple['Volume'] = apple['Volume'].astype(int)\n",
    "\n",
    "apple.head()"
   ]
  },
  {
   "cell_type": "code",
   "execution_count": null,
   "metadata": {},
   "outputs": [],
   "source": [
    "apple.info()"
   ]
  },
  {
   "cell_type": "markdown",
   "metadata": {},
   "source": [
    "<div class=\"alert alert-info\">\n",
    "<h3> Your turn</h3>\n",
    "    <p> Notice that the values in the <code>Age</code> column in <code>titanic</code> are floats and not integers. However, we normally think of ages as whole numbers and not numbers with decimals. Try and convert the <code>Age</code> column to integers. Why does this not work?\n",
    "</div>"
   ]
  },
  {
   "cell_type": "markdown",
   "metadata": {},
   "source": [
    "**Solution**\n",
    "\n",
    "<details>\n",
    "    \n",
    "<summary> Click to expand!</summary>\n",
    "<p> \n",
    "\n",
    "```c#\n",
    "# try to convert to integers...\n",
    "titanic['Age'] = titanic['Age'].astype(int)\n",
    "    \n",
    "# but it will throw a ValueError since the Age column contains NaN\n",
    "# these are non-numbers and we cannot convert a non-number to an integer\n",
    "\n",
    "```\n",
    "\n",
    "</p>\n",
    "</details> "
   ]
  },
  {
   "cell_type": "code",
   "execution_count": null,
   "metadata": {},
   "outputs": [],
   "source": []
  },
  {
   "cell_type": "markdown",
   "metadata": {},
   "source": [
    "However, what data type is appropiate for the `Date` column? `str`, `float` or `int`?"
   ]
  },
  {
   "cell_type": "code",
   "execution_count": null,
   "metadata": {},
   "outputs": [],
   "source": [
    "apple.loc[0, 'Date']"
   ]
  },
  {
   "cell_type": "markdown",
   "metadata": {},
   "source": [
    "Although we can interpret the `Date` column as a string, `pandas` was actually developed in order to handle time series data (especially financial time series). `pandas` therefore comes with an additional data type known as `datetime`."
   ]
  },
  {
   "cell_type": "markdown",
   "metadata": {},
   "source": [
    "`to_datetime` will convert a series of dates to `datetime`."
   ]
  },
  {
   "cell_type": "code",
   "execution_count": null,
   "metadata": {},
   "outputs": [],
   "source": [
    "pd.to_datetime(apple['Date'])"
   ]
  },
  {
   "cell_type": "code",
   "execution_count": null,
   "metadata": {},
   "outputs": [],
   "source": [
    "apple['Date'] = pd.to_datetime(apple['Date'])"
   ]
  },
  {
   "cell_type": "code",
   "execution_count": null,
   "metadata": {},
   "outputs": [],
   "source": [
    "apple.info()"
   ]
  },
  {
   "cell_type": "markdown",
   "metadata": {},
   "source": [
    "The `Date` column is now `datetime`, meaning that each value in the column is interpreted as a *timestamp*."
   ]
  },
  {
   "cell_type": "code",
   "execution_count": null,
   "metadata": {},
   "outputs": [],
   "source": [
    "apple.loc[0, 'Date']"
   ]
  },
  {
   "cell_type": "code",
   "execution_count": null,
   "metadata": {},
   "outputs": [],
   "source": []
  },
  {
   "cell_type": "code",
   "execution_count": null,
   "metadata": {},
   "outputs": [],
   "source": []
  },
  {
   "cell_type": "markdown",
   "metadata": {},
   "source": [
    "## Mandatory exercise, part 1\n",
    "\n",
    "The file <code>mpg.xlsx</code> (in the data folder) contains observations on fuel economy and 6 additional attributes for 398 different car models. The column <code>mpg</code> is a measure of the car's fuel economy, i.e. the number of miles per gallon of petrol.\n",
    "        \n",
    "Import the file as a <code>DataFrame</code> and answer the following questions:\n",
    "\n",
    "1. Which columns in the dataframe are strings?\n",
    "\n",
    "\n",
    "2. What is the average number of miles per gallon of the car models in the data?\n",
    "\n",
    "\n",
    "3. What are the unique number of cylinders observed in the data?\n",
    "\n",
    "\n",
    "4. How many of the car models in the data were from Europe?\n",
    "\n",
    "\n",
    "5. What is the correlation between cars' fuel economy and horsepower?\n",
    "\n",
    "\n",
    "6. Are there any missing observations in the data?"
   ]
  },
  {
   "cell_type": "code",
   "execution_count": null,
   "metadata": {},
   "outputs": [],
   "source": []
  },
  {
   "cell_type": "code",
   "execution_count": null,
   "metadata": {},
   "outputs": [],
   "source": []
  }
 ],
 "metadata": {
  "kernelspec": {
   "display_name": "Python 3 (ipykernel)",
   "language": "python",
   "name": "python3"
  },
  "language_info": {
   "codemirror_mode": {
    "name": "ipython",
    "version": 3
   },
   "file_extension": ".py",
   "mimetype": "text/x-python",
   "name": "python",
   "nbconvert_exporter": "python",
   "pygments_lexer": "ipython3",
   "version": "3.9.7"
  }
 },
 "nbformat": 4,
 "nbformat_minor": 4
}
