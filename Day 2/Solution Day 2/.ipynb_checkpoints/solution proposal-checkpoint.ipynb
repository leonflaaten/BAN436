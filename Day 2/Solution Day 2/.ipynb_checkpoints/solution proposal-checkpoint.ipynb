{
 "cells": [
  {
   "cell_type": "markdown",
   "id": "aa73b8c4",
   "metadata": {},
   "source": [
    "# Solution proposal - day 2"
   ]
  },
  {
   "cell_type": "code",
   "execution_count": 12,
   "id": "9f1d6b1c",
   "metadata": {},
   "outputs": [],
   "source": [
    "import pandas as pd\n",
    "import matplotlib.pyplot as plt"
   ]
  },
  {
   "cell_type": "markdown",
   "id": "5b0312f3",
   "metadata": {},
   "source": [
    "## Part 1\n",
    "\n",
    "The file <code>mpg.xlsx</code> contains observations on fuel economy and 6 additional attributes for 398 different car models. The column <code>mpg</code> is a measure of the car's fuel economy, i.e. the number of miles per gallon of petrol.\n",
    "        \n",
    "Import the file as a <code>DataFrame</code> and answer the following questions:"
   ]
  },
  {
   "cell_type": "markdown",
   "id": "ad976130",
   "metadata": {},
   "source": [
    "1. Which columns in the dataframe are strings?"
   ]
  },
  {
   "cell_type": "code",
   "execution_count": 3,
   "id": "6f4edc52",
   "metadata": {},
   "outputs": [
    {
     "data": {
      "text/html": [
       "<div>\n",
       "<style scoped>\n",
       "    .dataframe tbody tr th:only-of-type {\n",
       "        vertical-align: middle;\n",
       "    }\n",
       "\n",
       "    .dataframe tbody tr th {\n",
       "        vertical-align: top;\n",
       "    }\n",
       "\n",
       "    .dataframe thead th {\n",
       "        text-align: right;\n",
       "    }\n",
       "</style>\n",
       "<table border=\"1\" class=\"dataframe\">\n",
       "  <thead>\n",
       "    <tr style=\"text-align: right;\">\n",
       "      <th></th>\n",
       "      <th>mpg</th>\n",
       "      <th>cylinders</th>\n",
       "      <th>horsepower</th>\n",
       "      <th>weight</th>\n",
       "      <th>acceleration</th>\n",
       "      <th>model_year</th>\n",
       "      <th>origin</th>\n",
       "      <th>name</th>\n",
       "    </tr>\n",
       "  </thead>\n",
       "  <tbody>\n",
       "    <tr>\n",
       "      <th>0</th>\n",
       "      <td>18.0</td>\n",
       "      <td>8</td>\n",
       "      <td>130.0</td>\n",
       "      <td>3504</td>\n",
       "      <td>12.0</td>\n",
       "      <td>70</td>\n",
       "      <td>usa</td>\n",
       "      <td>chevrolet chevelle malibu</td>\n",
       "    </tr>\n",
       "    <tr>\n",
       "      <th>1</th>\n",
       "      <td>15.0</td>\n",
       "      <td>8</td>\n",
       "      <td>165.0</td>\n",
       "      <td>3693</td>\n",
       "      <td>11.5</td>\n",
       "      <td>70</td>\n",
       "      <td>usa</td>\n",
       "      <td>buick skylark 320</td>\n",
       "    </tr>\n",
       "    <tr>\n",
       "      <th>2</th>\n",
       "      <td>18.0</td>\n",
       "      <td>8</td>\n",
       "      <td>150.0</td>\n",
       "      <td>3436</td>\n",
       "      <td>11.0</td>\n",
       "      <td>70</td>\n",
       "      <td>usa</td>\n",
       "      <td>plymouth satellite</td>\n",
       "    </tr>\n",
       "    <tr>\n",
       "      <th>3</th>\n",
       "      <td>16.0</td>\n",
       "      <td>8</td>\n",
       "      <td>150.0</td>\n",
       "      <td>3433</td>\n",
       "      <td>12.0</td>\n",
       "      <td>70</td>\n",
       "      <td>usa</td>\n",
       "      <td>amc rebel sst</td>\n",
       "    </tr>\n",
       "    <tr>\n",
       "      <th>4</th>\n",
       "      <td>17.0</td>\n",
       "      <td>8</td>\n",
       "      <td>140.0</td>\n",
       "      <td>3449</td>\n",
       "      <td>10.5</td>\n",
       "      <td>70</td>\n",
       "      <td>usa</td>\n",
       "      <td>ford torino</td>\n",
       "    </tr>\n",
       "  </tbody>\n",
       "</table>\n",
       "</div>"
      ],
      "text/plain": [
       "    mpg  cylinders  horsepower  weight  acceleration  model_year origin  \\\n",
       "0  18.0          8       130.0    3504          12.0          70    usa   \n",
       "1  15.0          8       165.0    3693          11.5          70    usa   \n",
       "2  18.0          8       150.0    3436          11.0          70    usa   \n",
       "3  16.0          8       150.0    3433          12.0          70    usa   \n",
       "4  17.0          8       140.0    3449          10.5          70    usa   \n",
       "\n",
       "                        name  \n",
       "0  chevrolet chevelle malibu  \n",
       "1          buick skylark 320  \n",
       "2         plymouth satellite  \n",
       "3              amc rebel sst  \n",
       "4                ford torino  "
      ]
     },
     "execution_count": 3,
     "metadata": {},
     "output_type": "execute_result"
    }
   ],
   "source": [
    "# load the data\n",
    "mpg_df = pd.read_excel('mpg.xlsx')\n",
    "\n",
    "mpg_df.head()"
   ]
  },
  {
   "cell_type": "code",
   "execution_count": 4,
   "id": "cba4f6ba",
   "metadata": {},
   "outputs": [
    {
     "name": "stdout",
     "output_type": "stream",
     "text": [
      "<class 'pandas.core.frame.DataFrame'>\n",
      "RangeIndex: 398 entries, 0 to 397\n",
      "Data columns (total 8 columns):\n",
      " #   Column        Non-Null Count  Dtype  \n",
      "---  ------        --------------  -----  \n",
      " 0   mpg           398 non-null    float64\n",
      " 1   cylinders     398 non-null    int64  \n",
      " 2   horsepower    392 non-null    float64\n",
      " 3   weight        398 non-null    int64  \n",
      " 4   acceleration  398 non-null    float64\n",
      " 5   model_year    398 non-null    int64  \n",
      " 6   origin        398 non-null    object \n",
      " 7   name          398 non-null    object \n",
      "dtypes: float64(3), int64(3), object(2)\n",
      "memory usage: 25.0+ KB\n"
     ]
    }
   ],
   "source": [
    "# there are two columns that are strings: origin and name\n",
    "mpg_df.info()"
   ]
  },
  {
   "cell_type": "markdown",
   "id": "372959e5",
   "metadata": {},
   "source": [
    "2. What is the average number of miles per gallon of the car models in the data?"
   ]
  },
  {
   "cell_type": "code",
   "execution_count": 5,
   "id": "ff709517",
   "metadata": {},
   "outputs": [
    {
     "data": {
      "text/html": [
       "<div>\n",
       "<style scoped>\n",
       "    .dataframe tbody tr th:only-of-type {\n",
       "        vertical-align: middle;\n",
       "    }\n",
       "\n",
       "    .dataframe tbody tr th {\n",
       "        vertical-align: top;\n",
       "    }\n",
       "\n",
       "    .dataframe thead th {\n",
       "        text-align: right;\n",
       "    }\n",
       "</style>\n",
       "<table border=\"1\" class=\"dataframe\">\n",
       "  <thead>\n",
       "    <tr style=\"text-align: right;\">\n",
       "      <th></th>\n",
       "      <th>mpg</th>\n",
       "      <th>cylinders</th>\n",
       "      <th>horsepower</th>\n",
       "      <th>weight</th>\n",
       "      <th>acceleration</th>\n",
       "      <th>model_year</th>\n",
       "    </tr>\n",
       "  </thead>\n",
       "  <tbody>\n",
       "    <tr>\n",
       "      <th>count</th>\n",
       "      <td>398.000000</td>\n",
       "      <td>398.000000</td>\n",
       "      <td>392.000000</td>\n",
       "      <td>398.000000</td>\n",
       "      <td>398.000000</td>\n",
       "      <td>398.000000</td>\n",
       "    </tr>\n",
       "    <tr>\n",
       "      <th>mean</th>\n",
       "      <td>23.514573</td>\n",
       "      <td>5.454774</td>\n",
       "      <td>104.469388</td>\n",
       "      <td>2970.424623</td>\n",
       "      <td>15.568090</td>\n",
       "      <td>76.010050</td>\n",
       "    </tr>\n",
       "    <tr>\n",
       "      <th>std</th>\n",
       "      <td>7.815984</td>\n",
       "      <td>1.701004</td>\n",
       "      <td>38.491160</td>\n",
       "      <td>846.841774</td>\n",
       "      <td>2.757689</td>\n",
       "      <td>3.697627</td>\n",
       "    </tr>\n",
       "    <tr>\n",
       "      <th>min</th>\n",
       "      <td>9.000000</td>\n",
       "      <td>3.000000</td>\n",
       "      <td>46.000000</td>\n",
       "      <td>1613.000000</td>\n",
       "      <td>8.000000</td>\n",
       "      <td>70.000000</td>\n",
       "    </tr>\n",
       "    <tr>\n",
       "      <th>25%</th>\n",
       "      <td>17.500000</td>\n",
       "      <td>4.000000</td>\n",
       "      <td>75.000000</td>\n",
       "      <td>2223.750000</td>\n",
       "      <td>13.825000</td>\n",
       "      <td>73.000000</td>\n",
       "    </tr>\n",
       "    <tr>\n",
       "      <th>50%</th>\n",
       "      <td>23.000000</td>\n",
       "      <td>4.000000</td>\n",
       "      <td>93.500000</td>\n",
       "      <td>2803.500000</td>\n",
       "      <td>15.500000</td>\n",
       "      <td>76.000000</td>\n",
       "    </tr>\n",
       "    <tr>\n",
       "      <th>75%</th>\n",
       "      <td>29.000000</td>\n",
       "      <td>8.000000</td>\n",
       "      <td>126.000000</td>\n",
       "      <td>3608.000000</td>\n",
       "      <td>17.175000</td>\n",
       "      <td>79.000000</td>\n",
       "    </tr>\n",
       "    <tr>\n",
       "      <th>max</th>\n",
       "      <td>46.600000</td>\n",
       "      <td>8.000000</td>\n",
       "      <td>230.000000</td>\n",
       "      <td>5140.000000</td>\n",
       "      <td>24.800000</td>\n",
       "      <td>82.000000</td>\n",
       "    </tr>\n",
       "  </tbody>\n",
       "</table>\n",
       "</div>"
      ],
      "text/plain": [
       "              mpg   cylinders  horsepower       weight  acceleration  \\\n",
       "count  398.000000  398.000000  392.000000   398.000000    398.000000   \n",
       "mean    23.514573    5.454774  104.469388  2970.424623     15.568090   \n",
       "std      7.815984    1.701004   38.491160   846.841774      2.757689   \n",
       "min      9.000000    3.000000   46.000000  1613.000000      8.000000   \n",
       "25%     17.500000    4.000000   75.000000  2223.750000     13.825000   \n",
       "50%     23.000000    4.000000   93.500000  2803.500000     15.500000   \n",
       "75%     29.000000    8.000000  126.000000  3608.000000     17.175000   \n",
       "max     46.600000    8.000000  230.000000  5140.000000     24.800000   \n",
       "\n",
       "       model_year  \n",
       "count  398.000000  \n",
       "mean    76.010050  \n",
       "std      3.697627  \n",
       "min     70.000000  \n",
       "25%     73.000000  \n",
       "50%     76.000000  \n",
       "75%     79.000000  \n",
       "max     82.000000  "
      ]
     },
     "execution_count": 5,
     "metadata": {},
     "output_type": "execute_result"
    }
   ],
   "source": [
    "# print full descriptives...\n",
    "mpg_df.describe()"
   ]
  },
  {
   "cell_type": "code",
   "execution_count": 6,
   "id": "b103a8dd",
   "metadata": {},
   "outputs": [
    {
     "data": {
      "text/plain": [
       "23.514572864321615"
      ]
     },
     "execution_count": 6,
     "metadata": {},
     "output_type": "execute_result"
    }
   ],
   "source": [
    "# ...or calculate only the average of mpg\n",
    "mpg_df['mpg'].mean()"
   ]
  },
  {
   "cell_type": "markdown",
   "id": "4642510c",
   "metadata": {},
   "source": [
    "3. What are the unique number of cylinders observed in the data?"
   ]
  },
  {
   "cell_type": "code",
   "execution_count": 7,
   "id": "e6b3510b",
   "metadata": {},
   "outputs": [
    {
     "data": {
      "text/plain": [
       "array([8, 4, 6, 3, 5], dtype=int64)"
      ]
     },
     "execution_count": 7,
     "metadata": {},
     "output_type": "execute_result"
    }
   ],
   "source": [
    "# there are 5 unique number of cylinders: 3, 4, 5, 6, 8\n",
    "mpg_df['cylinders'].unique()"
   ]
  },
  {
   "cell_type": "markdown",
   "id": "1b9af10b",
   "metadata": {},
   "source": [
    "4. How many of the car models in the data were from Europe?"
   ]
  },
  {
   "cell_type": "code",
   "execution_count": 8,
   "id": "2b59c5fd",
   "metadata": {},
   "outputs": [
    {
     "data": {
      "text/plain": [
       "usa       249\n",
       "japan      79\n",
       "europe     70\n",
       "Name: origin, dtype: int64"
      ]
     },
     "execution_count": 8,
     "metadata": {},
     "output_type": "execute_result"
    }
   ],
   "source": [
    "# 70 of the car models were from Europe\n",
    "mpg_df['origin'].value_counts()"
   ]
  },
  {
   "cell_type": "markdown",
   "id": "50f68981",
   "metadata": {},
   "source": [
    "5. What is the correlation between cars' fuel economy and horsepower?"
   ]
  },
  {
   "cell_type": "code",
   "execution_count": 9,
   "id": "6a39cbbc",
   "metadata": {},
   "outputs": [
    {
     "data": {
      "text/html": [
       "<div>\n",
       "<style scoped>\n",
       "    .dataframe tbody tr th:only-of-type {\n",
       "        vertical-align: middle;\n",
       "    }\n",
       "\n",
       "    .dataframe tbody tr th {\n",
       "        vertical-align: top;\n",
       "    }\n",
       "\n",
       "    .dataframe thead th {\n",
       "        text-align: right;\n",
       "    }\n",
       "</style>\n",
       "<table border=\"1\" class=\"dataframe\">\n",
       "  <thead>\n",
       "    <tr style=\"text-align: right;\">\n",
       "      <th></th>\n",
       "      <th>mpg</th>\n",
       "      <th>cylinders</th>\n",
       "      <th>horsepower</th>\n",
       "      <th>weight</th>\n",
       "      <th>acceleration</th>\n",
       "      <th>model_year</th>\n",
       "    </tr>\n",
       "  </thead>\n",
       "  <tbody>\n",
       "    <tr>\n",
       "      <th>mpg</th>\n",
       "      <td>1.000000</td>\n",
       "      <td>-0.775396</td>\n",
       "      <td>-0.778427</td>\n",
       "      <td>-0.831741</td>\n",
       "      <td>0.420289</td>\n",
       "      <td>0.579267</td>\n",
       "    </tr>\n",
       "    <tr>\n",
       "      <th>cylinders</th>\n",
       "      <td>-0.775396</td>\n",
       "      <td>1.000000</td>\n",
       "      <td>0.842983</td>\n",
       "      <td>0.896017</td>\n",
       "      <td>-0.505419</td>\n",
       "      <td>-0.348746</td>\n",
       "    </tr>\n",
       "    <tr>\n",
       "      <th>horsepower</th>\n",
       "      <td>-0.778427</td>\n",
       "      <td>0.842983</td>\n",
       "      <td>1.000000</td>\n",
       "      <td>0.864538</td>\n",
       "      <td>-0.689196</td>\n",
       "      <td>-0.416361</td>\n",
       "    </tr>\n",
       "    <tr>\n",
       "      <th>weight</th>\n",
       "      <td>-0.831741</td>\n",
       "      <td>0.896017</td>\n",
       "      <td>0.864538</td>\n",
       "      <td>1.000000</td>\n",
       "      <td>-0.417457</td>\n",
       "      <td>-0.306564</td>\n",
       "    </tr>\n",
       "    <tr>\n",
       "      <th>acceleration</th>\n",
       "      <td>0.420289</td>\n",
       "      <td>-0.505419</td>\n",
       "      <td>-0.689196</td>\n",
       "      <td>-0.417457</td>\n",
       "      <td>1.000000</td>\n",
       "      <td>0.288137</td>\n",
       "    </tr>\n",
       "    <tr>\n",
       "      <th>model_year</th>\n",
       "      <td>0.579267</td>\n",
       "      <td>-0.348746</td>\n",
       "      <td>-0.416361</td>\n",
       "      <td>-0.306564</td>\n",
       "      <td>0.288137</td>\n",
       "      <td>1.000000</td>\n",
       "    </tr>\n",
       "  </tbody>\n",
       "</table>\n",
       "</div>"
      ],
      "text/plain": [
       "                   mpg  cylinders  horsepower    weight  acceleration  \\\n",
       "mpg           1.000000  -0.775396   -0.778427 -0.831741      0.420289   \n",
       "cylinders    -0.775396   1.000000    0.842983  0.896017     -0.505419   \n",
       "horsepower   -0.778427   0.842983    1.000000  0.864538     -0.689196   \n",
       "weight       -0.831741   0.896017    0.864538  1.000000     -0.417457   \n",
       "acceleration  0.420289  -0.505419   -0.689196 -0.417457      1.000000   \n",
       "model_year    0.579267  -0.348746   -0.416361 -0.306564      0.288137   \n",
       "\n",
       "              model_year  \n",
       "mpg             0.579267  \n",
       "cylinders      -0.348746  \n",
       "horsepower     -0.416361  \n",
       "weight         -0.306564  \n",
       "acceleration    0.288137  \n",
       "model_year      1.000000  "
      ]
     },
     "execution_count": 9,
     "metadata": {},
     "output_type": "execute_result"
    }
   ],
   "source": [
    "# print full correlation table...\n",
    "mpg_df.corr()"
   ]
  },
  {
   "cell_type": "code",
   "execution_count": 10,
   "id": "a6db06fb",
   "metadata": {},
   "outputs": [
    {
     "data": {
      "text/plain": [
       "-0.7784267838977759"
      ]
     },
     "execution_count": 10,
     "metadata": {},
     "output_type": "execute_result"
    }
   ],
   "source": [
    "# ...or print correlation between two pandas series only\n",
    "mpg_df['mpg'].corr(mpg_df['horsepower'])"
   ]
  },
  {
   "cell_type": "markdown",
   "id": "b743b08b",
   "metadata": {},
   "source": [
    "6. Are there any missing observations in the data?"
   ]
  },
  {
   "cell_type": "code",
   "execution_count": 11,
   "id": "45106218",
   "metadata": {},
   "outputs": [
    {
     "data": {
      "text/plain": [
       "mpg             0\n",
       "cylinders       0\n",
       "horsepower      6\n",
       "weight          0\n",
       "acceleration    0\n",
       "model_year      0\n",
       "origin          0\n",
       "name            0\n",
       "dtype: int64"
      ]
     },
     "execution_count": 11,
     "metadata": {},
     "output_type": "execute_result"
    }
   ],
   "source": [
    "# 6 car models lack observation on horsepower\n",
    "mpg_df.isna().sum()"
   ]
  },
  {
   "cell_type": "markdown",
   "id": "3c7a3711",
   "metadata": {},
   "source": [
    "## Part 2\n",
    "\n",
    "Again, import the file <code>mpg.xlsx</code> as a <code>DataFrame</code> and explore the data visually.\n",
    "\n",
    "Create a figure with 2 x 2 subplots:\n",
    "\n",
    "- In the first row, first column, show a histogram of <code>mpg</code>.\n",
    "\n",
    "\n",
    "- In the first row, second column, show a scatter plot of <code>mpg</code> and <code>horsepower</code>.\n",
    "\n",
    "\n",
    "- In the second row, first column, show a scatter plot of <code>mpg</code> and <code>weight</code>.\n",
    "\n",
    "\n",
    "- In the second row, second column, show a scatter plot of <code>mpg</code> and <code>acceleration</code>.\n",
    "\n",
    "\n",
    "Style the plots to make them look nice and save the figure as `mpg_plot.png`."
   ]
  },
  {
   "cell_type": "code",
   "execution_count": 27,
   "id": "8a55d99a",
   "metadata": {},
   "outputs": [
    {
     "data": {
      "image/png": "[encoded data removed]",
      "text/plain": [
       "<Figure size 792x648 with 4 Axes>"
      ]
     },
     "metadata": {
      "needs_background": "light"
     },
     "output_type": "display_data"
    }
   ],
   "source": [
    "fig, ax = plt.subplots(nrows = 2,         # 2 rows\n",
    "                       ncols = 2,         # 2 columns\n",
    "                       figsize = (11, 9))\n",
    "\n",
    "# histogram\n",
    "ax[0, 0].hist(mpg_df['mpg'], \n",
    "              bins = 30, \n",
    "              color = 'red',\n",
    "              edgecolor = 'black',\n",
    "              alpha = 0.5)\n",
    "ax[0, 0].set_xlabel('mpg')\n",
    "ax[0, 0].set_ylabel('Frequency')\n",
    "\n",
    "# scatter plot 1\n",
    "ax[0, 1].scatter(mpg_df['horsepower'],\n",
    "                 mpg_df['mpg'],\n",
    "                 color = 'blue',\n",
    "                 marker = '^')\n",
    "ax[0, 1].set_xlabel('horsepower')\n",
    "ax[0, 1].set_ylabel('mpg')\n",
    "\n",
    "# scatter plot 2\n",
    "ax[1, 0].scatter(mpg_df['weight'],\n",
    "                 mpg_df['mpg'],\n",
    "                 color = 'green',\n",
    "                 marker = 'p')\n",
    "ax[1, 0].set_xlabel('weight')\n",
    "ax[1, 0].set_ylabel('mpg')\n",
    "\n",
    "# scatter plot 3\n",
    "ax[1, 1].scatter(mpg_df['acceleration'],\n",
    "                 mpg_df['mpg'], \n",
    "                 color = 'purple',\n",
    "                 marker = 'D')\n",
    "ax[1, 1].set_xlabel('acceleration')\n",
    "ax[1, 1].set_ylabel('mpg')\n",
    "\n",
    "plt.savefig('mpg_plot.png', dpi = 300)"
   ]
  },
  {
   "cell_type": "code",
   "execution_count": null,
   "id": "f44f6e80",
   "metadata": {},
   "outputs": [],
   "source": []
  },
  {
   "cell_type": "code",
   "execution_count": null,
   "id": "3e46e41f",
   "metadata": {},
   "outputs": [],
   "source": []
  }
 ],
 "metadata": {
  "kernelspec": {
   "display_name": "Python 3 (ipykernel)",
   "language": "python",
   "name": "python3"
  },
  "language_info": {
   "codemirror_mode": {
    "name": "ipython",
    "version": 3
   },
   "file_extension": ".py",
   "mimetype": "text/x-python",
   "name": "python",
   "nbconvert_exporter": "python",
   "pygments_lexer": "ipython3",
   "version": "3.9.7"
  }
 },
 "nbformat": 4,
 "nbformat_minor": 5
}
