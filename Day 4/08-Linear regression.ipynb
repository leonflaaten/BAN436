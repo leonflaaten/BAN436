{
 "cells": [
  {
   "cell_type": "markdown",
   "metadata": {},
   "source": [
    "# 08-Linear regression\n",
    "\n",
    "This notebook shows how to perform simple and multiple linear regression in Python."
   ]
  },
  {
   "cell_type": "markdown",
   "metadata": {},
   "source": [
    "So far, we have seen how to do simple data analysis, e.g. `value_counts`, `describe`, `corr` etc. \n",
    "\n",
    "In linear regression, we take the analysis one step further by estimating a line that quantifies the relationship between variables in our data. \n",
    "\n",
    "The most common method for finding the regression line is OLS (ordinary linear square), where we find the intercept and slope of the line by minimizing the sum of the squared residuals.\n",
    "\n",
    "<img src=\"images/regression_line.png\" width = \"45%\" align=\"left\"/>"
   ]
  },
  {
   "cell_type": "markdown",
   "metadata": {},
   "source": [
    "We will use the OLS estimator from the package `statsmodels`. Using the sub-module `formula` allows us to fit statistical models using R-style formulas.\n",
    "\n",
    "We import `statsmodels` by giving it the shorter name `smf`."
   ]
  },
  {
   "cell_type": "code",
   "execution_count": 2,
   "metadata": {},
   "outputs": [],
   "source": [
    "import statsmodels.formula.api as smf\n",
    "import pandas as pd\n",
    "import matplotlib.pyplot as plt"
   ]
  },
  {
   "cell_type": "code",
   "execution_count": 2,
   "metadata": {},
   "outputs": [],
   "source": [
    "plt.style.use('ggplot')"
   ]
  },
  {
   "cell_type": "code",
   "execution_count": null,
   "metadata": {},
   "outputs": [],
   "source": []
  },
  {
   "cell_type": "markdown",
   "metadata": {},
   "source": [
    "## Simple linear regression"
   ]
  },
  {
   "cell_type": "markdown",
   "metadata": {},
   "source": [
    "In simple linear regression, we use data to estimate the relationship between a variable $y$ and a single variable $x$:\n",
    "\n",
    "$y_i = \\alpha + \\beta x_i $\n",
    "\n",
    "where:\n",
    "- $y$ is the dependent variable\n",
    "- $x$ is the explanatory (independent) variable\n",
    "- $\\alpha$ is the constant term\n",
    "- $\\beta$ is the slope of the regression line"
   ]
  },
  {
   "cell_type": "markdown",
   "metadata": {},
   "source": [
    "Let us explore the variation in cars' fuel economy (mpg)."
   ]
  },
  {
   "cell_type": "code",
   "execution_count": 3,
   "metadata": {},
   "outputs": [
    {
     "data": {
      "text/html": [
       "<div>\n",
       "<style scoped>\n",
       "    .dataframe tbody tr th:only-of-type {\n",
       "        vertical-align: middle;\n",
       "    }\n",
       "\n",
       "    .dataframe tbody tr th {\n",
       "        vertical-align: top;\n",
       "    }\n",
       "\n",
       "    .dataframe thead th {\n",
       "        text-align: right;\n",
       "    }\n",
       "</style>\n",
       "<table border=\"1\" class=\"dataframe\">\n",
       "  <thead>\n",
       "    <tr style=\"text-align: right;\">\n",
       "      <th></th>\n",
       "      <th>mpg</th>\n",
       "      <th>cylinders</th>\n",
       "      <th>horsepower</th>\n",
       "      <th>weight</th>\n",
       "      <th>acceleration</th>\n",
       "      <th>model_year</th>\n",
       "      <th>origin</th>\n",
       "      <th>name</th>\n",
       "    </tr>\n",
       "  </thead>\n",
       "  <tbody>\n",
       "    <tr>\n",
       "      <th>0</th>\n",
       "      <td>18.0</td>\n",
       "      <td>8</td>\n",
       "      <td>130.0</td>\n",
       "      <td>3504</td>\n",
       "      <td>12.0</td>\n",
       "      <td>70</td>\n",
       "      <td>usa</td>\n",
       "      <td>chevrolet chevelle malibu</td>\n",
       "    </tr>\n",
       "    <tr>\n",
       "      <th>1</th>\n",
       "      <td>15.0</td>\n",
       "      <td>8</td>\n",
       "      <td>165.0</td>\n",
       "      <td>3693</td>\n",
       "      <td>11.5</td>\n",
       "      <td>70</td>\n",
       "      <td>usa</td>\n",
       "      <td>buick skylark 320</td>\n",
       "    </tr>\n",
       "    <tr>\n",
       "      <th>2</th>\n",
       "      <td>18.0</td>\n",
       "      <td>8</td>\n",
       "      <td>150.0</td>\n",
       "      <td>3436</td>\n",
       "      <td>11.0</td>\n",
       "      <td>70</td>\n",
       "      <td>usa</td>\n",
       "      <td>plymouth satellite</td>\n",
       "    </tr>\n",
       "    <tr>\n",
       "      <th>3</th>\n",
       "      <td>16.0</td>\n",
       "      <td>8</td>\n",
       "      <td>150.0</td>\n",
       "      <td>3433</td>\n",
       "      <td>12.0</td>\n",
       "      <td>70</td>\n",
       "      <td>usa</td>\n",
       "      <td>amc rebel sst</td>\n",
       "    </tr>\n",
       "    <tr>\n",
       "      <th>4</th>\n",
       "      <td>17.0</td>\n",
       "      <td>8</td>\n",
       "      <td>140.0</td>\n",
       "      <td>3449</td>\n",
       "      <td>10.5</td>\n",
       "      <td>70</td>\n",
       "      <td>usa</td>\n",
       "      <td>ford torino</td>\n",
       "    </tr>\n",
       "  </tbody>\n",
       "</table>\n",
       "</div>"
      ],
      "text/plain": [
       "    mpg  cylinders  horsepower  weight  acceleration  model_year origin  \\\n",
       "0  18.0          8       130.0    3504          12.0          70    usa   \n",
       "1  15.0          8       165.0    3693          11.5          70    usa   \n",
       "2  18.0          8       150.0    3436          11.0          70    usa   \n",
       "3  16.0          8       150.0    3433          12.0          70    usa   \n",
       "4  17.0          8       140.0    3449          10.5          70    usa   \n",
       "\n",
       "                        name  \n",
       "0  chevrolet chevelle malibu  \n",
       "1          buick skylark 320  \n",
       "2         plymouth satellite  \n",
       "3              amc rebel sst  \n",
       "4                ford torino  "
      ]
     },
     "execution_count": 3,
     "metadata": {},
     "output_type": "execute_result"
    }
   ],
   "source": [
    "mpg_df = pd.read_excel('data/mpg.xlsx')\n",
    "\n",
    "mpg_df.head()"
   ]
  },
  {
   "cell_type": "code",
   "execution_count": 4,
   "metadata": {},
   "outputs": [
    {
     "data": {
      "text/plain": [
       "398"
      ]
     },
     "execution_count": 4,
     "metadata": {},
     "output_type": "execute_result"
    }
   ],
   "source": [
    "len(mpg_df)"
   ]
  },
  {
   "cell_type": "markdown",
   "metadata": {},
   "source": [
    "`corr` shows a strong negative relationship between fuel economy and horsepower."
   ]
  },
  {
   "cell_type": "code",
   "execution_count": 5,
   "metadata": {},
   "outputs": [
    {
     "data": {
      "text/html": [
       "<div>\n",
       "<style scoped>\n",
       "    .dataframe tbody tr th:only-of-type {\n",
       "        vertical-align: middle;\n",
       "    }\n",
       "\n",
       "    .dataframe tbody tr th {\n",
       "        vertical-align: top;\n",
       "    }\n",
       "\n",
       "    .dataframe thead th {\n",
       "        text-align: right;\n",
       "    }\n",
       "</style>\n",
       "<table border=\"1\" class=\"dataframe\">\n",
       "  <thead>\n",
       "    <tr style=\"text-align: right;\">\n",
       "      <th></th>\n",
       "      <th>mpg</th>\n",
       "      <th>cylinders</th>\n",
       "      <th>horsepower</th>\n",
       "      <th>weight</th>\n",
       "      <th>acceleration</th>\n",
       "      <th>model_year</th>\n",
       "    </tr>\n",
       "  </thead>\n",
       "  <tbody>\n",
       "    <tr>\n",
       "      <th>mpg</th>\n",
       "      <td>1.000000</td>\n",
       "      <td>-0.775396</td>\n",
       "      <td>-0.778427</td>\n",
       "      <td>-0.831741</td>\n",
       "      <td>0.420289</td>\n",
       "      <td>0.579267</td>\n",
       "    </tr>\n",
       "    <tr>\n",
       "      <th>cylinders</th>\n",
       "      <td>-0.775396</td>\n",
       "      <td>1.000000</td>\n",
       "      <td>0.842983</td>\n",
       "      <td>0.896017</td>\n",
       "      <td>-0.505419</td>\n",
       "      <td>-0.348746</td>\n",
       "    </tr>\n",
       "    <tr>\n",
       "      <th>horsepower</th>\n",
       "      <td>-0.778427</td>\n",
       "      <td>0.842983</td>\n",
       "      <td>1.000000</td>\n",
       "      <td>0.864538</td>\n",
       "      <td>-0.689196</td>\n",
       "      <td>-0.416361</td>\n",
       "    </tr>\n",
       "    <tr>\n",
       "      <th>weight</th>\n",
       "      <td>-0.831741</td>\n",
       "      <td>0.896017</td>\n",
       "      <td>0.864538</td>\n",
       "      <td>1.000000</td>\n",
       "      <td>-0.417457</td>\n",
       "      <td>-0.306564</td>\n",
       "    </tr>\n",
       "    <tr>\n",
       "      <th>acceleration</th>\n",
       "      <td>0.420289</td>\n",
       "      <td>-0.505419</td>\n",
       "      <td>-0.689196</td>\n",
       "      <td>-0.417457</td>\n",
       "      <td>1.000000</td>\n",
       "      <td>0.288137</td>\n",
       "    </tr>\n",
       "    <tr>\n",
       "      <th>model_year</th>\n",
       "      <td>0.579267</td>\n",
       "      <td>-0.348746</td>\n",
       "      <td>-0.416361</td>\n",
       "      <td>-0.306564</td>\n",
       "      <td>0.288137</td>\n",
       "      <td>1.000000</td>\n",
       "    </tr>\n",
       "  </tbody>\n",
       "</table>\n",
       "</div>"
      ],
      "text/plain": [
       "                   mpg  cylinders  horsepower    weight  acceleration  \\\n",
       "mpg           1.000000  -0.775396   -0.778427 -0.831741      0.420289   \n",
       "cylinders    -0.775396   1.000000    0.842983  0.896017     -0.505419   \n",
       "horsepower   -0.778427   0.842983    1.000000  0.864538     -0.689196   \n",
       "weight       -0.831741   0.896017    0.864538  1.000000     -0.417457   \n",
       "acceleration  0.420289  -0.505419   -0.689196 -0.417457      1.000000   \n",
       "model_year    0.579267  -0.348746   -0.416361 -0.306564      0.288137   \n",
       "\n",
       "              model_year  \n",
       "mpg             0.579267  \n",
       "cylinders      -0.348746  \n",
       "horsepower     -0.416361  \n",
       "weight         -0.306564  \n",
       "acceleration    0.288137  \n",
       "model_year      1.000000  "
      ]
     },
     "execution_count": 5,
     "metadata": {},
     "output_type": "execute_result"
    }
   ],
   "source": [
    "mpg_df.corr()"
   ]
  },
  {
   "cell_type": "code",
   "execution_count": 11,
   "metadata": {},
   "outputs": [
    {
     "data": {
      "text/plain": [
       "-0.78"
      ]
     },
     "execution_count": 11,
     "metadata": {},
     "output_type": "execute_result"
    }
   ],
   "source": [
    "correlation = round(mpg_df.corr().loc['horsepower', 'mpg'], 2)\n",
    "\n",
    "correlation"
   ]
  },
  {
   "cell_type": "markdown",
   "metadata": {},
   "source": [
    "Let us create a scatter plot between mpg and horsepower, and add the correlation coefficient as a title to the plot."
   ]
  },
  {
   "cell_type": "code",
   "execution_count": 13,
   "metadata": {},
   "outputs": [
    {
     "data": {
      "image/png": "[encoded data removed]",
      "text/plain": [
       "<Figure size 432x288 with 1 Axes>"
      ]
     },
     "metadata": {},
     "output_type": "display_data"
    }
   ],
   "source": [
    "fig, ax = plt.subplots()\n",
    "\n",
    "ax.scatter(mpg_df['horsepower'],\n",
    "           mpg_df['mpg'])\n",
    "\n",
    "# add axis labels\n",
    "ax.set_xlabel('horsepower')\n",
    "ax.set_ylabel('mpg')\n",
    "\n",
    "# add title\n",
    "ax.set_title('R = ' + str(correlation))\n",
    "\n",
    "plt.show()"
   ]
  },
  {
   "cell_type": "markdown",
   "metadata": {},
   "source": [
    "However, notice that there are a few missing observations in the data."
   ]
  },
  {
   "cell_type": "code",
   "execution_count": 14,
   "metadata": {},
   "outputs": [
    {
     "data": {
      "text/plain": [
       "mpg             0\n",
       "cylinders       0\n",
       "horsepower      6\n",
       "weight          0\n",
       "acceleration    0\n",
       "model_year      0\n",
       "origin          0\n",
       "name            0\n",
       "dtype: int64"
      ]
     },
     "execution_count": 14,
     "metadata": {},
     "output_type": "execute_result"
    }
   ],
   "source": [
    "mpg_df.isna().sum()"
   ]
  },
  {
   "cell_type": "markdown",
   "metadata": {},
   "source": [
    "Before estimating a statistical model, we should use `dropna` in order to drop all rows with missing observations.\n",
    "\n",
    "Notice that by setting `subset = ['mpg', 'horsepower']`, we only drop the rows with `NaN` in the columns that we will be using in our statistical model."
   ]
  },
  {
   "cell_type": "code",
   "execution_count": 15,
   "metadata": {},
   "outputs": [
    {
     "data": {
      "text/plain": [
       "392"
      ]
     },
     "execution_count": 15,
     "metadata": {},
     "output_type": "execute_result"
    }
   ],
   "source": [
    "mpg_df.dropna(subset = ['mpg', 'horsepower'], axis = 0, inplace = True)\n",
    "\n",
    "len(mpg_df)"
   ]
  },
  {
   "cell_type": "markdown",
   "metadata": {},
   "source": [
    "We are estimating the following model:\n",
    "\n",
    "$mpg_i = \\alpha + \\beta \\times horsepower_i$"
   ]
  },
  {
   "cell_type": "markdown",
   "metadata": {},
   "source": [
    "We start by transforming the model to a R-style formula. Notice that we do not have to add a constant term to the model formula (the constant term will be added automatically)."
   ]
  },
  {
   "cell_type": "code",
   "execution_count": 41,
   "metadata": {},
   "outputs": [
    {
     "data": {
      "text/plain": [
       "'mpg ~ horsepower'"
      ]
     },
     "execution_count": 41,
     "metadata": {},
     "output_type": "execute_result"
    }
   ],
   "source": [
    "formula = 'mpg ~ horsepower'\n",
    "\n",
    "formula"
   ]
  },
  {
   "cell_type": "markdown",
   "metadata": {},
   "source": [
    "We create an OLS model by using the `ols` function from `smf`. \n",
    "\n",
    "`ols` requires two inputs: the model formula and the data that we want to estimate the model with."
   ]
  },
  {
   "cell_type": "code",
   "execution_count": 42,
   "metadata": {},
   "outputs": [],
   "source": [
    "# create OLS model\n",
    "model = smf.ols(formula, data = mpg_df)"
   ]
  },
  {
   "cell_type": "markdown",
   "metadata": {},
   "source": [
    "After we have created the OLS model, we must use `fit` in order to actually estimate the model."
   ]
  },
  {
   "cell_type": "code",
   "execution_count": 43,
   "metadata": {},
   "outputs": [],
   "source": [
    "# estimate model\n",
    "model = model.fit()"
   ]
  },
  {
   "cell_type": "code",
   "execution_count": 23,
   "metadata": {},
   "outputs": [
    {
     "data": {
      "text/plain": [
       "<statsmodels.regression.linear_model.RegressionResultsWrapper at 0x17b5fc4f430>"
      ]
     },
     "execution_count": 23,
     "metadata": {},
     "output_type": "execute_result"
    }
   ],
   "source": [
    "model"
   ]
  },
  {
   "cell_type": "markdown",
   "metadata": {},
   "source": [
    "In order to see the regression results, we apply the function `summary` on our `model`."
   ]
  },
  {
   "cell_type": "code",
   "execution_count": 44,
   "metadata": {},
   "outputs": [
    {
     "data": {
      "text/html": [
       "<table class=\"simpletable\">\n",
       "<caption>OLS Regression Results</caption>\n",
       "<tr>\n",
       "  <th>Dep. Variable:</th>           <td>mpg</td>       <th>  R-squared:         </th> <td>   0.606</td>\n",
       "</tr>\n",
       "<tr>\n",
       "  <th>Model:</th>                   <td>OLS</td>       <th>  Adj. R-squared:    </th> <td>   0.605</td>\n",
       "</tr>\n",
       "<tr>\n",
       "  <th>Method:</th>             <td>Least Squares</td>  <th>  F-statistic:       </th> <td>   599.7</td>\n",
       "</tr>\n",
       "<tr>\n",
       "  <th>Date:</th>             <td>Thu, 13 Jan 2022</td> <th>  Prob (F-statistic):</th> <td>7.03e-81</td>\n",
       "</tr>\n",
       "<tr>\n",
       "  <th>Time:</th>                 <td>13:29:59</td>     <th>  Log-Likelihood:    </th> <td> -1178.7</td>\n",
       "</tr>\n",
       "<tr>\n",
       "  <th>No. Observations:</th>      <td>   392</td>      <th>  AIC:               </th> <td>   2361.</td>\n",
       "</tr>\n",
       "<tr>\n",
       "  <th>Df Residuals:</th>          <td>   390</td>      <th>  BIC:               </th> <td>   2369.</td>\n",
       "</tr>\n",
       "<tr>\n",
       "  <th>Df Model:</th>              <td>     1</td>      <th>                     </th>     <td> </td>   \n",
       "</tr>\n",
       "<tr>\n",
       "  <th>Covariance Type:</th>      <td>nonrobust</td>    <th>                     </th>     <td> </td>   \n",
       "</tr>\n",
       "</table>\n",
       "<table class=\"simpletable\">\n",
       "<tr>\n",
       "       <td></td>         <th>coef</th>     <th>std err</th>      <th>t</th>      <th>P>|t|</th>  <th>[0.025</th>    <th>0.975]</th>  \n",
       "</tr>\n",
       "<tr>\n",
       "  <th>Intercept</th>  <td>   39.9359</td> <td>    0.717</td> <td>   55.660</td> <td> 0.000</td> <td>   38.525</td> <td>   41.347</td>\n",
       "</tr>\n",
       "<tr>\n",
       "  <th>horsepower</th> <td>   -0.1578</td> <td>    0.006</td> <td>  -24.489</td> <td> 0.000</td> <td>   -0.171</td> <td>   -0.145</td>\n",
       "</tr>\n",
       "</table>\n",
       "<table class=\"simpletable\">\n",
       "<tr>\n",
       "  <th>Omnibus:</th>       <td>16.432</td> <th>  Durbin-Watson:     </th> <td>   1.319</td>\n",
       "</tr>\n",
       "<tr>\n",
       "  <th>Prob(Omnibus):</th> <td> 0.000</td> <th>  Jarque-Bera (JB):  </th> <td>  17.305</td>\n",
       "</tr>\n",
       "<tr>\n",
       "  <th>Skew:</th>          <td> 0.492</td> <th>  Prob(JB):          </th> <td>0.000175</td>\n",
       "</tr>\n",
       "<tr>\n",
       "  <th>Kurtosis:</th>      <td> 3.299</td> <th>  Cond. No.          </th> <td>    322.</td>\n",
       "</tr>\n",
       "</table><br/><br/>Notes:<br/>[1] Standard Errors assume that the covariance matrix of the errors is correctly specified."
      ],
      "text/plain": [
       "<class 'statsmodels.iolib.summary.Summary'>\n",
       "\"\"\"\n",
       "                            OLS Regression Results                            \n",
       "==============================================================================\n",
       "Dep. Variable:                    mpg   R-squared:                       0.606\n",
       "Model:                            OLS   Adj. R-squared:                  0.605\n",
       "Method:                 Least Squares   F-statistic:                     599.7\n",
       "Date:                Thu, 13 Jan 2022   Prob (F-statistic):           7.03e-81\n",
       "Time:                        13:29:59   Log-Likelihood:                -1178.7\n",
       "No. Observations:                 392   AIC:                             2361.\n",
       "Df Residuals:                     390   BIC:                             2369.\n",
       "Df Model:                           1                                         \n",
       "Covariance Type:            nonrobust                                         \n",
       "==============================================================================\n",
       "                 coef    std err          t      P>|t|      [0.025      0.975]\n",
       "------------------------------------------------------------------------------\n",
       "Intercept     39.9359      0.717     55.660      0.000      38.525      41.347\n",
       "horsepower    -0.1578      0.006    -24.489      0.000      -0.171      -0.145\n",
       "==============================================================================\n",
       "Omnibus:                       16.432   Durbin-Watson:                   1.319\n",
       "Prob(Omnibus):                  0.000   Jarque-Bera (JB):               17.305\n",
       "Skew:                           0.492   Prob(JB):                     0.000175\n",
       "Kurtosis:                       3.299   Cond. No.                         322.\n",
       "==============================================================================\n",
       "\n",
       "Notes:\n",
       "[1] Standard Errors assume that the covariance matrix of the errors is correctly specified.\n",
       "\"\"\""
      ]
     },
     "execution_count": 44,
     "metadata": {},
     "output_type": "execute_result"
    }
   ],
   "source": [
    "model.summary()"
   ]
  },
  {
   "cell_type": "markdown",
   "metadata": {},
   "source": [
    "The table contains a lof of information that is stored in the `model` attributes."
   ]
  },
  {
   "cell_type": "markdown",
   "metadata": {},
   "source": [
    "- The `param` attribute of `model` contains the model coefficients (intercept and slope)."
   ]
  },
  {
   "cell_type": "code",
   "execution_count": 137,
   "metadata": {},
   "outputs": [
    {
     "data": {
      "text/plain": [
       "Intercept              37.373489\n",
       "C(model_year)[T.71]    -2.009969\n",
       "C(model_year)[T.72]    -2.656946\n",
       "C(model_year)[T.73]    -2.900221\n",
       "C(model_year)[T.74]    -2.057055\n",
       "C(model_year)[T.75]    -3.649392\n",
       "C(model_year)[T.76]    -2.335741\n",
       "C(model_year)[T.77]    -0.007808\n",
       "C(model_year)[T.78]    -0.037664\n",
       "C(model_year)[T.79]     1.195717\n",
       "C(model_year)[T.80]     6.747184\n",
       "C(model_year)[T.81]     3.602455\n",
       "C(model_year)[T.82]     5.474123\n",
       "horsepower             -0.133154\n",
       "dtype: float64"
      ]
     },
     "execution_count": 137,
     "metadata": {},
     "output_type": "execute_result"
    }
   ],
   "source": [
    "model.params"
   ]
  },
  {
   "cell_type": "code",
   "execution_count": 26,
   "metadata": {},
   "outputs": [
    {
     "data": {
      "text/plain": [
       "39.935861021170474"
      ]
     },
     "execution_count": 26,
     "metadata": {},
     "output_type": "execute_result"
    }
   ],
   "source": [
    "model.params['Intercept']"
   ]
  },
  {
   "cell_type": "markdown",
   "metadata": {},
   "source": [
    "- The `bse` attribute of `model` contains the standard errors of the coefficients."
   ]
  },
  {
   "cell_type": "code",
   "execution_count": 46,
   "metadata": {},
   "outputs": [
    {
     "data": {
      "text/plain": [
       "Intercept     0.717499\n",
       "horsepower    0.006446\n",
       "dtype: float64"
      ]
     },
     "execution_count": 46,
     "metadata": {},
     "output_type": "execute_result"
    }
   ],
   "source": [
    "model.bse"
   ]
  },
  {
   "cell_type": "markdown",
   "metadata": {},
   "source": [
    "- The `rsquared` and `rsquared_adj` attributes of `model` contains the model's R-squared and adjusted R-squared."
   ]
  },
  {
   "cell_type": "code",
   "execution_count": 81,
   "metadata": {},
   "outputs": [
    {
     "data": {
      "text/plain": [
       "0.605948257889435"
      ]
     },
     "execution_count": 81,
     "metadata": {},
     "output_type": "execute_result"
    }
   ],
   "source": [
    "model.rsquared"
   ]
  },
  {
   "cell_type": "code",
   "execution_count": 48,
   "metadata": {},
   "outputs": [
    {
     "data": {
      "text/plain": [
       "0.6049378688071001"
      ]
     },
     "execution_count": 48,
     "metadata": {},
     "output_type": "execute_result"
    }
   ],
   "source": [
    "model.rsquared_adj"
   ]
  },
  {
   "cell_type": "markdown",
   "metadata": {},
   "source": [
    "<div class = \"alert alert-info\">\n",
    "<h3> Your turn</h3>\n",
    "    \n",
    "<p> Use instead <code>weight</code> as the only explanatory variable for explaining variation in <code>mpg</code>. Print the model's adjusted R-squared.\n",
    "    \n",
    "</p>\n",
    "</div>"
   ]
  },
  {
   "cell_type": "markdown",
   "metadata": {},
   "source": [
    "**Solution**\n",
    "\n",
    "<details>\n",
    "    \n",
    "<summary> Click to expand!</summary>\n",
    "<p> \n",
    "\n",
    "```c#\n",
    "# define model formula\n",
    "formula2 = 'mpg ~ weight'\n",
    "\n",
    "# create and fit OLS model\n",
    "model2 = smf.ols(formula2, data = mpg_df).fit()\n",
    "\n",
    "# store adj. R-squared\n",
    "rsqr = round(model2.rsquared_adj, 3)\n",
    "\n",
    "print('The adjusted R-squared: ' + str(rsqr))\n",
    "```\n",
    "\n",
    "</p>\n",
    "</details> "
   ]
  },
  {
   "cell_type": "code",
   "execution_count": 40,
   "metadata": {},
   "outputs": [
    {
     "data": {
      "text/plain": [
       "0.6926304331206254"
      ]
     },
     "execution_count": 40,
     "metadata": {},
     "output_type": "execute_result"
    }
   ],
   "source": [
    "formula = 'mpg ~ weight'\n",
    "model2 = smf.ols(formula,data=mpg_df)\n",
    "model2 = model2.fit()\n",
    "model2.summary()\n",
    "\n",
    "model2.rsquared"
   ]
  },
  {
   "cell_type": "markdown",
   "metadata": {},
   "source": [
    "#### In-sample prediction\n",
    "\n",
    "Once we have estimated the OLS model, can use it to create a prediction for the dependent variable given our observations on the explanatory variable (this will allow us to visualize the regression line). "
   ]
  },
  {
   "cell_type": "markdown",
   "metadata": {},
   "source": [
    "We apply `predict` on the `model` in order to generate predictions. \n",
    "\n",
    "As a default, `predict` will predict the fuel economy for each observation of horsepower in the data."
   ]
  },
  {
   "cell_type": "code",
   "execution_count": 49,
   "metadata": {},
   "outputs": [
    {
     "data": {
      "text/plain": [
       "array([32.67500329, 32.67500329, 32.35931382, 32.35931382, 32.35931382,\n",
       "       32.20146909, 31.72793489, 31.72793489, 31.72793489, 31.72793489,\n",
       "       31.57009015, 31.57009015, 31.41224542, 30.78086649, 30.78086649,\n",
       "       30.46517702, 30.46517702, 30.46517702, 30.46517702, 30.46517702,\n",
       "       30.30733229, 30.14948755, 30.14948755, 29.99164282, 29.99164282,\n",
       "       29.99164282, 29.83379809, 29.67595335, 29.67595335, 29.67595335,\n",
       "       29.67595335, 29.67595335, 29.67595335, 29.67595335, 29.67595335,\n",
       "       29.67595335, 29.67595335, 29.51810862, 29.36026389, 29.36026389,\n",
       "       29.36026389, 29.36026389, 29.36026389, 29.36026389, 29.36026389,\n",
       "       29.36026389, 29.36026389, 29.36026389, 29.36026389, 29.36026389,\n",
       "       29.20241915, 29.20241915, 29.20241915, 29.20241915, 29.20241915,\n",
       "       29.20241915, 29.04457442, 29.04457442, 29.04457442, 28.88672969,\n",
       "       28.88672969, 28.88672969, 28.88672969, 28.88672969, 28.88672969,\n",
       "       28.88672969, 28.88672969, 28.88672969, 28.88672969, 28.88672969,\n",
       "       28.88672969, 28.72888495, 28.72888495, 28.72888495, 28.72888495,\n",
       "       28.72888495, 28.57104022, 28.57104022, 28.57104022, 28.57104022,\n",
       "       28.57104022, 28.57104022, 28.25535075, 28.25535075, 28.25535075,\n",
       "       28.09750602, 28.09750602, 28.09750602, 28.09750602, 28.09750602,\n",
       "       28.09750602, 28.09750602, 28.09750602, 28.09750602, 28.09750602,\n",
       "       28.09750602, 28.09750602, 28.09750602, 28.09750602, 27.93966129,\n",
       "       27.93966129, 27.93966129, 27.93966129, 27.78181655, 27.62397182,\n",
       "       27.62397182, 27.62397182, 27.62397182, 27.62397182, 27.62397182,\n",
       "       27.46612709, 27.46612709, 27.30828235, 27.30828235, 27.30828235,\n",
       "       27.30828235, 27.30828235, 27.30828235, 27.30828235, 27.15043762,\n",
       "       27.15043762, 26.99259289, 26.83474815, 26.83474815, 26.83474815,\n",
       "       26.83474815, 26.67690342, 26.67690342, 26.67690342, 26.67690342,\n",
       "       26.67690342, 26.67690342, 26.51905869, 26.51905869, 26.51905869,\n",
       "       26.51905869, 26.51905869, 26.51905869, 26.51905869, 26.51905869,\n",
       "       26.51905869, 26.36121395, 26.36121395, 26.36121395, 26.36121395,\n",
       "       26.36121395, 26.20336922, 26.20336922, 26.04552449, 26.04552449,\n",
       "       26.04552449, 26.04552449, 26.04552449, 26.04552449, 26.04552449,\n",
       "       26.04552449, 26.04552449, 26.04552449, 26.04552449, 26.04552449,\n",
       "       26.04552449, 26.04552449, 26.04552449, 26.04552449, 26.04552449,\n",
       "       26.04552449, 26.04552449, 25.88767975, 25.72983502, 25.72983502,\n",
       "       25.72983502, 25.72983502, 25.72983502, 25.72983502, 25.72983502,\n",
       "       25.72983502, 25.72983502, 25.72983502, 25.72983502, 25.72983502,\n",
       "       25.72983502, 25.72983502, 25.72983502, 25.72983502, 25.72983502,\n",
       "       25.72983502, 25.72983502, 25.72983502, 25.57199029, 25.41414555,\n",
       "       25.41414555, 25.41414555, 25.41414555, 25.41414555, 25.41414555,\n",
       "       25.25630082, 25.09845609, 24.94061135, 24.94061135, 24.94061135,\n",
       "       24.94061135, 24.94061135, 24.94061135, 24.94061135, 24.94061135,\n",
       "       24.94061135, 24.94061135, 24.94061135, 24.94061135, 24.94061135,\n",
       "       24.94061135, 24.78276662, 24.78276662, 24.78276662, 24.62492189,\n",
       "       24.62492189, 24.62492189, 24.62492189, 24.62492189, 24.62492189,\n",
       "       24.62492189, 24.62492189, 24.62492189, 24.46707715, 24.46707715,\n",
       "       24.15138769, 24.15138769, 24.15138769, 24.15138769, 24.15138769,\n",
       "       24.15138769, 24.15138769, 24.15138769, 24.15138769, 24.15138769,\n",
       "       24.15138769, 24.15138769, 24.15138769, 24.15138769, 24.15138769,\n",
       "       24.15138769, 24.15138769, 23.83569822, 23.67785349, 23.36216402,\n",
       "       23.36216402, 23.36216402, 23.36216402, 23.36216402, 23.36216402,\n",
       "       23.36216402, 23.36216402, 23.36216402, 23.36216402, 23.36216402,\n",
       "       23.36216402, 23.04647455, 22.88862982, 22.57294035, 22.57294035,\n",
       "       22.57294035, 22.57294035, 22.57294035, 22.57294035, 22.57294035,\n",
       "       22.57294035, 22.57294035, 22.57294035, 22.57294035, 22.57294035,\n",
       "       22.57294035, 22.57294035, 22.57294035, 22.57294035, 22.57294035,\n",
       "       22.57294035, 22.25725089, 22.25725089, 22.25725089, 22.09940615,\n",
       "       21.78371669, 21.78371669, 21.78371669, 21.78371669, 21.78371669,\n",
       "       21.62587195, 20.99449302, 20.99449302, 20.99449302, 20.99449302,\n",
       "       20.67880355, 20.20526935, 20.20526935, 20.20526935, 19.57389042,\n",
       "       19.57389042, 19.41604569, 19.41604569, 19.41604569, 19.41604569,\n",
       "       19.41604569, 19.10035622, 18.94251149, 18.62682202, 18.31113255,\n",
       "       18.15328782, 17.99544309, 17.99544309, 17.83759835, 17.83759835,\n",
       "       17.83759835, 17.83759835, 17.83759835, 17.83759835, 17.83759835,\n",
       "       17.52190888, 17.04837468, 17.04837468, 17.04837468, 17.04837468,\n",
       "       17.04837468, 17.04837468, 17.04837468, 16.57484048, 16.41699575,\n",
       "       16.25915102, 16.25915102, 16.25915102, 16.25915102, 16.25915102,\n",
       "       16.25915102, 16.25915102, 16.25915102, 16.25915102, 16.25915102,\n",
       "       16.25915102, 16.25915102, 16.25915102, 16.25915102, 16.25915102,\n",
       "       16.25915102, 16.25915102, 16.25915102, 16.25915102, 16.25915102,\n",
       "       16.25915102, 16.25915102, 15.94346155, 15.78561682, 15.78561682,\n",
       "       15.46992735, 15.46992735, 14.99639315, 14.68070368, 14.68070368,\n",
       "       13.89148002, 13.89148002, 13.89148002, 13.89148002, 13.57579055,\n",
       "       13.10225635, 13.10225635, 13.10225635, 13.10225635, 13.10225635,\n",
       "       12.31303268, 12.31303268, 12.31303268, 12.31303268, 12.31303268,\n",
       "       11.52380902, 11.52380902, 11.52380902, 11.52380902, 11.52380902,\n",
       "        9.94536168,  9.94536168,  9.94536168,  9.47182748,  8.68260382,\n",
       "        8.68260382,  8.36691435,  7.10415648,  6.78846702,  5.99924335,\n",
       "        5.99924335,  5.99924335,  5.21001968,  4.42079602,  4.42079602,\n",
       "        4.42079602,  3.63157235])"
      ]
     },
     "execution_count": 49,
     "metadata": {},
     "output_type": "execute_result"
    }
   ],
   "source": [
    "# in-sample predictions\n",
    "pred = model.predict()\n",
    "\n",
    "pred"
   ]
  },
  {
   "cell_type": "markdown",
   "metadata": {},
   "source": [
    "We can store the predictions in the original `DataFrame` by assigning the sequence of prediction to a new column `pred`."
   ]
  },
  {
   "cell_type": "code",
   "execution_count": 50,
   "metadata": {},
   "outputs": [
    {
     "data": {
      "text/html": [
       "<div>\n",
       "<style scoped>\n",
       "    .dataframe tbody tr th:only-of-type {\n",
       "        vertical-align: middle;\n",
       "    }\n",
       "\n",
       "    .dataframe tbody tr th {\n",
       "        vertical-align: top;\n",
       "    }\n",
       "\n",
       "    .dataframe thead th {\n",
       "        text-align: right;\n",
       "    }\n",
       "</style>\n",
       "<table border=\"1\" class=\"dataframe\">\n",
       "  <thead>\n",
       "    <tr style=\"text-align: right;\">\n",
       "      <th></th>\n",
       "      <th>mpg</th>\n",
       "      <th>cylinders</th>\n",
       "      <th>horsepower</th>\n",
       "      <th>weight</th>\n",
       "      <th>acceleration</th>\n",
       "      <th>model_year</th>\n",
       "      <th>origin</th>\n",
       "      <th>name</th>\n",
       "      <th>pred</th>\n",
       "    </tr>\n",
       "  </thead>\n",
       "  <tbody>\n",
       "    <tr>\n",
       "      <th>19</th>\n",
       "      <td>26.0</td>\n",
       "      <td>4</td>\n",
       "      <td>46.0</td>\n",
       "      <td>1835</td>\n",
       "      <td>20.5</td>\n",
       "      <td>70</td>\n",
       "      <td>europe</td>\n",
       "      <td>volkswagen 1131 deluxe sedan</td>\n",
       "      <td>32.675003</td>\n",
       "    </tr>\n",
       "    <tr>\n",
       "      <th>102</th>\n",
       "      <td>26.0</td>\n",
       "      <td>4</td>\n",
       "      <td>46.0</td>\n",
       "      <td>1950</td>\n",
       "      <td>21.0</td>\n",
       "      <td>73</td>\n",
       "      <td>europe</td>\n",
       "      <td>volkswagen super beetle</td>\n",
       "      <td>32.675003</td>\n",
       "    </tr>\n",
       "    <tr>\n",
       "      <th>326</th>\n",
       "      <td>43.4</td>\n",
       "      <td>4</td>\n",
       "      <td>48.0</td>\n",
       "      <td>2335</td>\n",
       "      <td>23.7</td>\n",
       "      <td>80</td>\n",
       "      <td>europe</td>\n",
       "      <td>vw dasher (diesel)</td>\n",
       "      <td>32.359314</td>\n",
       "    </tr>\n",
       "    <tr>\n",
       "      <th>325</th>\n",
       "      <td>44.3</td>\n",
       "      <td>4</td>\n",
       "      <td>48.0</td>\n",
       "      <td>2085</td>\n",
       "      <td>21.7</td>\n",
       "      <td>80</td>\n",
       "      <td>europe</td>\n",
       "      <td>vw rabbit c (diesel)</td>\n",
       "      <td>32.359314</td>\n",
       "    </tr>\n",
       "    <tr>\n",
       "      <th>244</th>\n",
       "      <td>43.1</td>\n",
       "      <td>4</td>\n",
       "      <td>48.0</td>\n",
       "      <td>1985</td>\n",
       "      <td>21.5</td>\n",
       "      <td>78</td>\n",
       "      <td>europe</td>\n",
       "      <td>volkswagen rabbit custom diesel</td>\n",
       "      <td>32.359314</td>\n",
       "    </tr>\n",
       "  </tbody>\n",
       "</table>\n",
       "</div>"
      ],
      "text/plain": [
       "      mpg  cylinders  horsepower  weight  acceleration  model_year  origin  \\\n",
       "19   26.0          4        46.0    1835          20.5          70  europe   \n",
       "102  26.0          4        46.0    1950          21.0          73  europe   \n",
       "326  43.4          4        48.0    2335          23.7          80  europe   \n",
       "325  44.3          4        48.0    2085          21.7          80  europe   \n",
       "244  43.1          4        48.0    1985          21.5          78  europe   \n",
       "\n",
       "                                name       pred  \n",
       "19      volkswagen 1131 deluxe sedan  32.675003  \n",
       "102          volkswagen super beetle  32.675003  \n",
       "326               vw dasher (diesel)  32.359314  \n",
       "325             vw rabbit c (diesel)  32.359314  \n",
       "244  volkswagen rabbit custom diesel  32.359314  "
      ]
     },
     "execution_count": 50,
     "metadata": {},
     "output_type": "execute_result"
    }
   ],
   "source": [
    "mpg_df['pred'] = pred\n",
    "\n",
    "mpg_df.head()"
   ]
  },
  {
   "cell_type": "markdown",
   "metadata": {},
   "source": [
    "Let us create a line plot of `pred` on the y-axis, and `horsepower` on the x-axis. This will show us the regression line.\n",
    "\n",
    "However, notice that in order to get a nice line, we first have to sort the data according to the explanatory variable, `horsepower`."
   ]
  },
  {
   "cell_type": "code",
   "execution_count": 36,
   "metadata": {},
   "outputs": [],
   "source": [
    "# sort values\n",
    "mpg_df.sort_values('horsepower', inplace = True)"
   ]
  },
  {
   "cell_type": "code",
   "execution_count": 51,
   "metadata": {},
   "outputs": [
    {
     "data": {
      "image/png": "[encoded data removed]",
      "text/plain": [
       "<Figure size 432x288 with 1 Axes>"
      ]
     },
     "metadata": {},
     "output_type": "display_data"
    }
   ],
   "source": [
    "fig, ax = plt.subplots()\n",
    "\n",
    "# line plot\n",
    "ax.plot(mpg_df['horsepower'],\n",
    "        mpg_df['pred'],\n",
    "        color = 'black')\n",
    "\n",
    "# add axis labels\n",
    "ax.set_xlabel('horsepower')\n",
    "ax.set_ylabel('mpg')\n",
    "\n",
    "# add title\n",
    "ax.set_title(formula)\n",
    "\n",
    "plt.show()"
   ]
  },
  {
   "cell_type": "markdown",
   "metadata": {},
   "source": [
    "Let us add a scatter plot of actual `mpg` and `horsepower` to the plot with the regression line."
   ]
  },
  {
   "cell_type": "code",
   "execution_count": 52,
   "metadata": {},
   "outputs": [
    {
     "data": {
      "image/png": "[encoded data removed]",
      "text/plain": [
       "<Figure size 432x288 with 1 Axes>"
      ]
     },
     "metadata": {},
     "output_type": "display_data"
    }
   ],
   "source": [
    "fig, ax = plt.subplots()\n",
    "\n",
    "# scatter plot\n",
    "ax.scatter(mpg_df['horsepower'],\n",
    "           mpg_df['mpg'])\n",
    "\n",
    "# line plot\n",
    "ax.plot(mpg_df['horsepower'],\n",
    "        mpg_df['pred'],\n",
    "        color = 'black')\n",
    "\n",
    "# add axis labels\n",
    "ax.set_xlabel('horsepower')\n",
    "ax.set_ylabel('mpg')\n",
    "\n",
    "# add title\n",
    "ax.set_title(formula)\n",
    "\n",
    "plt.show()"
   ]
  },
  {
   "cell_type": "markdown",
   "metadata": {},
   "source": [
    "<div class = \"alert alert-info\">\n",
    "<h3> Your turn</h3>\n",
    "    \n",
    "<p> Plot the regression line from the model that explains <code>mpg</code> using <code>weight</code> as the explanatory variable, along with a scatter plot of <code>mpg</code> and <code>weight</code>.\n",
    "    \n",
    "</p>\n",
    "</div>"
   ]
  },
  {
   "cell_type": "markdown",
   "metadata": {},
   "source": [
    "**Solution**\n",
    "\n",
    "<details>\n",
    "    \n",
    "<summary> Click to expand!</summary>\n",
    "<p> \n",
    "\n",
    "```c#\n",
    "### Re-run the model ###\n",
    "\n",
    "# define model formula\n",
    "formula2 = 'mpg ~ weight'\n",
    "\n",
    "# create and fit OLS model\n",
    "model2 = smf.ols(formula2, data = mpg_df).fit()\n",
    "\n",
    "# store adj. R-squared\n",
    "rsqr = round(model2.rsquared_adj, 3)\n",
    "\n",
    "print('The adjusted R-squared: ' + str(rsqr))\n",
    "\n",
    "# in-sample predictions\n",
    "mpg_df['pred2'] = model2.predict()\n",
    "\n",
    "# sort values\n",
    "mpg_df.sort_values('weight', inplace = True)\n",
    "\n",
    "\n",
    "### Plot ###\n",
    "fig, ax = plt.subplots()\n",
    "\n",
    "# scatter plot\n",
    "ax.scatter(mpg_df['weight'],\n",
    "           mpg_df['mpg'])\n",
    "\n",
    "# line plot\n",
    "ax.plot(mpg_df['weight'],\n",
    "        mpg_df['pred2'],\n",
    "        color = 'black')\n",
    "\n",
    "# add axis labels\n",
    "ax.set_xlabel('weight')\n",
    "ax.set_ylabel('mpg')\n",
    "\n",
    "# add title\n",
    "ax.set_title(formula2)\n",
    "\n",
    "plt.show()\n",
    "```\n",
    "\n",
    "</p>\n",
    "</details> "
   ]
  },
  {
   "cell_type": "code",
   "execution_count": 62,
   "metadata": {},
   "outputs": [
    {
     "data": {
      "text/plain": [
       "Text(0.5, 1.0, 'mpg ~ weight')"
      ]
     },
     "execution_count": 62,
     "metadata": {},
     "output_type": "execute_result"
    },
    {
     "data": {
      "image/png": "[encoded data removed]",
      "text/plain": [
       "<Figure size 432x288 with 1 Axes>"
      ]
     },
     "metadata": {},
     "output_type": "display_data"
    }
   ],
   "source": [
    "formula2 = 'mpg ~ weight'\n",
    "model2 = smf.ols(formula,data=mpg_df)\n",
    "model2 = model2.fit()\n",
    "#model2.summary()\n",
    "#model2.rsquared\n",
    "pred2 = model2.predict()\n",
    "mpg_df['pred2'] = pred2\n",
    "mpg_df.sort_values(\"weight\",inplace=True)\n",
    "\n",
    "\n",
    "fig, ax = plt.subplots()\n",
    "\n",
    "ax.plot(mpg_df['weight'],\n",
    "       mpg_df['pred2'],\n",
    "       color='black')\n",
    "\n",
    "ax.scatter(mpg_df['weight'],\n",
    "          mpg_df['mpg'])\n",
    "\n",
    "ax.set_xlabel('weight')\n",
    "ax.set_ylabel('mpg')\n",
    "\n",
    "ax.set_title(formula2)\n"
   ]
  },
  {
   "cell_type": "markdown",
   "metadata": {},
   "source": [
    "In addition, we can visually inspect how well `horsepower` explains variation in fuel economy.\n",
    "- First, we create a 45 degree line by plotting actual `mpg` against actual `mpg`.\n",
    "- Second, we create a scatter plot of actual `mpg` and `pred`.\n",
    "\n",
    "The closer the predictions are to the 45 degree line, the better job does our model at explaining the variation in fuel economy."
   ]
  },
  {
   "cell_type": "code",
   "execution_count": 64,
   "metadata": {},
   "outputs": [
    {
     "data": {
      "image/png": "[encoded data removed]",
      "text/plain": [
       "<Figure size 576x576 with 1 Axes>"
      ]
     },
     "metadata": {},
     "output_type": "display_data"
    }
   ],
   "source": [
    "fig, ax = plt.subplots(figsize=(8,8))\n",
    "\n",
    "# 45 degree line\n",
    "ax.plot(mpg_df['mpg'], \n",
    "        mpg_df['mpg'], \n",
    "        color = 'black')\n",
    "\n",
    "# scatter plot\n",
    "ax.scatter(mpg_df['mpg'],\n",
    "           mpg_df['pred'])\n",
    "\n",
    "# add axis labels\n",
    "ax.set_xlabel('mpg')\n",
    "ax.set_ylabel('pred')\n",
    "\n",
    "# add title\n",
    "ax.set_title(formula)\n",
    "\n",
    "plt.show()"
   ]
  },
  {
   "cell_type": "markdown",
   "metadata": {},
   "source": [
    "According to the plot, the model seems to do a good job at explaining fuel economy at low levels of mpg. However, at high levels of mpg, the model underpredicts the mpg."
   ]
  },
  {
   "cell_type": "markdown",
   "metadata": {},
   "source": [
    "<div class = \"alert alert-info\">\n",
    "<h3> Your turn </h3>\n",
    "    \n",
    "<p> Plot the predictions along the 45 degree line for the regression model with <code>weight</code> as the explanatory variable.\n",
    "    \n",
    "</p>\n",
    "</div>"
   ]
  },
  {
   "cell_type": "markdown",
   "metadata": {},
   "source": [
    "**Solution**\n",
    "\n",
    "<details>\n",
    "    \n",
    "<summary> Click to expand!</summary>\n",
    "<p> \n",
    "\n",
    "```c#\n",
    "fig, ax = plt.subplots()\n",
    "\n",
    "# 45 degree line\n",
    "ax.plot(mpg_df['mpg'], \n",
    "        mpg_df['mpg'], \n",
    "        color = 'black')\n",
    "\n",
    "# scatter plot\n",
    "ax.scatter(mpg_df['mpg'],\n",
    "           mpg_df['pred2'])\n",
    "\n",
    "# add axis labels\n",
    "ax.set_xlabel('mpg')\n",
    "ax.set_ylabel('pred')\n",
    "\n",
    "# add title\n",
    "ax.set_title(formula2)\n",
    "\n",
    "plt.show()\n",
    "```\n",
    "\n",
    "</p>\n",
    "</details> "
   ]
  },
  {
   "cell_type": "code",
   "execution_count": 65,
   "metadata": {},
   "outputs": [
    {
     "data": {
      "image/png": "[encoded data removed]",
      "text/plain": [
       "<Figure size 576x576 with 1 Axes>"
      ]
     },
     "metadata": {},
     "output_type": "display_data"
    }
   ],
   "source": [
    "fig, ax = plt.subplots(figsize=(8,8))\n",
    "\n",
    "ax.plot(mpg_df['mpg'],\n",
    "       mpg_df['mpg'],\n",
    "       color='black')\n",
    "\n",
    "ax.scatter(mpg_df['mpg'],\n",
    "          mpg_df['pred2'])\n",
    "\n",
    "ax.set_xlabel('mpg')\n",
    "ax.set_ylabel('pred2')\n",
    "\n",
    "# add title\n",
    "ax.set_title(formula2)\n",
    "\n",
    "plt.show()"
   ]
  },
  {
   "cell_type": "markdown",
   "metadata": {},
   "source": [
    "Notice that if we want to use other explanatory variables than `horsepower`, we have two options:\n",
    "\n",
    "- Re-write our program above using a new explanatory variable. Boring!\n",
    "- Write a function that estimates an OLS model for any given explanatory variable. Fun!"
   ]
  },
  {
   "cell_type": "markdown",
   "metadata": {},
   "source": [
    "Let us create three functions:"
   ]
  },
  {
   "cell_type": "markdown",
   "metadata": {},
   "source": [
    "1. `get_model` that estimates an OLS model given a model formula and data:"
   ]
  },
  {
   "cell_type": "code",
   "execution_count": 6,
   "metadata": {},
   "outputs": [],
   "source": [
    "def get_model(formula, df):\n",
    "    \n",
    "    # create OLS model\n",
    "    model = smf.ols(formula, data = df)\n",
    "\n",
    "    # estimate model\n",
    "    model = model.fit()\n",
    "    \n",
    "    return model"
   ]
  },
  {
   "cell_type": "markdown",
   "metadata": {},
   "source": [
    "2. `get_pred` that creates the in-sample predictions using the model from `get_model`."
   ]
  },
  {
   "cell_type": "code",
   "execution_count": 7,
   "metadata": {},
   "outputs": [],
   "source": [
    "def get_pred(df, model):\n",
    "    \n",
    "    # make predictions\n",
    "    pred = model.predict()\n",
    "    \n",
    "    # add predictions to df\n",
    "    df['pred'] = pred\n",
    "    \n",
    "    return df"
   ]
  },
  {
   "cell_type": "markdown",
   "metadata": {},
   "source": [
    "3. `plot_pred` that plots the predictions along with the 45 degree line."
   ]
  },
  {
   "cell_type": "code",
   "execution_count": 8,
   "metadata": {},
   "outputs": [],
   "source": [
    "def plot_pred(df):\n",
    "    \n",
    "    fig, ax = plt.subplots(figsize=(8,8))\n",
    "\n",
    "    # 45 degree line\n",
    "    ax.plot(df['mpg'], \n",
    "            df['mpg'], \n",
    "            color = 'black')\n",
    "\n",
    "    # scatter plot\n",
    "    ax.scatter(df['mpg'],\n",
    "               df['pred'])\n",
    "\n",
    "    # add axis labels\n",
    "    ax.set_xlabel('mpg')\n",
    "    ax.set_ylabel('pred')\n",
    "    \n",
    "    # add title\n",
    "    ax.set_title(formula)\n",
    "    \n",
    "    plt.show()"
   ]
  },
  {
   "cell_type": "markdown",
   "metadata": {},
   "source": [
    "Let us re-run the estimation above, but using our functions instead."
   ]
  },
  {
   "cell_type": "markdown",
   "metadata": {},
   "source": [
    "- Step 1: estimate the model"
   ]
  },
  {
   "cell_type": "code",
   "execution_count": 9,
   "metadata": {},
   "outputs": [
    {
     "data": {
      "text/html": [
       "<table class=\"simpletable\">\n",
       "<caption>OLS Regression Results</caption>\n",
       "<tr>\n",
       "  <th>Dep. Variable:</th>           <td>mpg</td>       <th>  R-squared:         </th> <td>   0.606</td>\n",
       "</tr>\n",
       "<tr>\n",
       "  <th>Model:</th>                   <td>OLS</td>       <th>  Adj. R-squared:    </th> <td>   0.605</td>\n",
       "</tr>\n",
       "<tr>\n",
       "  <th>Method:</th>             <td>Least Squares</td>  <th>  F-statistic:       </th> <td>   599.7</td>\n",
       "</tr>\n",
       "<tr>\n",
       "  <th>Date:</th>             <td>Fri, 14 Jan 2022</td> <th>  Prob (F-statistic):</th> <td>7.03e-81</td>\n",
       "</tr>\n",
       "<tr>\n",
       "  <th>Time:</th>                 <td>08:27:16</td>     <th>  Log-Likelihood:    </th> <td> -1178.7</td>\n",
       "</tr>\n",
       "<tr>\n",
       "  <th>No. Observations:</th>      <td>   392</td>      <th>  AIC:               </th> <td>   2361.</td>\n",
       "</tr>\n",
       "<tr>\n",
       "  <th>Df Residuals:</th>          <td>   390</td>      <th>  BIC:               </th> <td>   2369.</td>\n",
       "</tr>\n",
       "<tr>\n",
       "  <th>Df Model:</th>              <td>     1</td>      <th>                     </th>     <td> </td>   \n",
       "</tr>\n",
       "<tr>\n",
       "  <th>Covariance Type:</th>      <td>nonrobust</td>    <th>                     </th>     <td> </td>   \n",
       "</tr>\n",
       "</table>\n",
       "<table class=\"simpletable\">\n",
       "<tr>\n",
       "       <td></td>         <th>coef</th>     <th>std err</th>      <th>t</th>      <th>P>|t|</th>  <th>[0.025</th>    <th>0.975]</th>  \n",
       "</tr>\n",
       "<tr>\n",
       "  <th>Intercept</th>  <td>   39.9359</td> <td>    0.717</td> <td>   55.660</td> <td> 0.000</td> <td>   38.525</td> <td>   41.347</td>\n",
       "</tr>\n",
       "<tr>\n",
       "  <th>horsepower</th> <td>   -0.1578</td> <td>    0.006</td> <td>  -24.489</td> <td> 0.000</td> <td>   -0.171</td> <td>   -0.145</td>\n",
       "</tr>\n",
       "</table>\n",
       "<table class=\"simpletable\">\n",
       "<tr>\n",
       "  <th>Omnibus:</th>       <td>16.432</td> <th>  Durbin-Watson:     </th> <td>   0.920</td>\n",
       "</tr>\n",
       "<tr>\n",
       "  <th>Prob(Omnibus):</th> <td> 0.000</td> <th>  Jarque-Bera (JB):  </th> <td>  17.305</td>\n",
       "</tr>\n",
       "<tr>\n",
       "  <th>Skew:</th>          <td> 0.492</td> <th>  Prob(JB):          </th> <td>0.000175</td>\n",
       "</tr>\n",
       "<tr>\n",
       "  <th>Kurtosis:</th>      <td> 3.299</td> <th>  Cond. No.          </th> <td>    322.</td>\n",
       "</tr>\n",
       "</table><br/><br/>Notes:<br/>[1] Standard Errors assume that the covariance matrix of the errors is correctly specified."
      ],
      "text/plain": [
       "<class 'statsmodels.iolib.summary.Summary'>\n",
       "\"\"\"\n",
       "                            OLS Regression Results                            \n",
       "==============================================================================\n",
       "Dep. Variable:                    mpg   R-squared:                       0.606\n",
       "Model:                            OLS   Adj. R-squared:                  0.605\n",
       "Method:                 Least Squares   F-statistic:                     599.7\n",
       "Date:                Fri, 14 Jan 2022   Prob (F-statistic):           7.03e-81\n",
       "Time:                        08:27:16   Log-Likelihood:                -1178.7\n",
       "No. Observations:                 392   AIC:                             2361.\n",
       "Df Residuals:                     390   BIC:                             2369.\n",
       "Df Model:                           1                                         \n",
       "Covariance Type:            nonrobust                                         \n",
       "==============================================================================\n",
       "                 coef    std err          t      P>|t|      [0.025      0.975]\n",
       "------------------------------------------------------------------------------\n",
       "Intercept     39.9359      0.717     55.660      0.000      38.525      41.347\n",
       "horsepower    -0.1578      0.006    -24.489      0.000      -0.171      -0.145\n",
       "==============================================================================\n",
       "Omnibus:                       16.432   Durbin-Watson:                   0.920\n",
       "Prob(Omnibus):                  0.000   Jarque-Bera (JB):               17.305\n",
       "Skew:                           0.492   Prob(JB):                     0.000175\n",
       "Kurtosis:                       3.299   Cond. No.                         322.\n",
       "==============================================================================\n",
       "\n",
       "Notes:\n",
       "[1] Standard Errors assume that the covariance matrix of the errors is correctly specified.\n",
       "\"\"\""
      ]
     },
     "execution_count": 9,
     "metadata": {},
     "output_type": "execute_result"
    }
   ],
   "source": [
    "# define formula\n",
    "formula = 'mpg ~ horsepower'\n",
    "\n",
    "# estimate model\n",
    "model = get_model(formula, mpg_df)\n",
    "\n",
    "model.summary()"
   ]
  },
  {
   "cell_type": "markdown",
   "metadata": {},
   "source": [
    "- Step 2: generate in-sample predictions"
   ]
  },
  {
   "cell_type": "code",
   "execution_count": 74,
   "metadata": {},
   "outputs": [
    {
     "data": {
      "text/html": [
       "<div>\n",
       "<style scoped>\n",
       "    .dataframe tbody tr th:only-of-type {\n",
       "        vertical-align: middle;\n",
       "    }\n",
       "\n",
       "    .dataframe tbody tr th {\n",
       "        vertical-align: top;\n",
       "    }\n",
       "\n",
       "    .dataframe thead th {\n",
       "        text-align: right;\n",
       "    }\n",
       "</style>\n",
       "<table border=\"1\" class=\"dataframe\">\n",
       "  <thead>\n",
       "    <tr style=\"text-align: right;\">\n",
       "      <th></th>\n",
       "      <th>mpg</th>\n",
       "      <th>cylinders</th>\n",
       "      <th>horsepower</th>\n",
       "      <th>weight</th>\n",
       "      <th>acceleration</th>\n",
       "      <th>model_year</th>\n",
       "      <th>origin</th>\n",
       "      <th>name</th>\n",
       "      <th>pred</th>\n",
       "      <th>pred2</th>\n",
       "    </tr>\n",
       "  </thead>\n",
       "  <tbody>\n",
       "    <tr>\n",
       "      <th>54</th>\n",
       "      <td>35.0</td>\n",
       "      <td>4</td>\n",
       "      <td>69.0</td>\n",
       "      <td>1613</td>\n",
       "      <td>18.0</td>\n",
       "      <td>71</td>\n",
       "      <td>japan</td>\n",
       "      <td>datsun 1200</td>\n",
       "      <td>29.044574</td>\n",
       "      <td>33.881361</td>\n",
       "    </tr>\n",
       "    <tr>\n",
       "      <th>144</th>\n",
       "      <td>31.0</td>\n",
       "      <td>4</td>\n",
       "      <td>52.0</td>\n",
       "      <td>1649</td>\n",
       "      <td>16.5</td>\n",
       "      <td>74</td>\n",
       "      <td>japan</td>\n",
       "      <td>toyota corona</td>\n",
       "      <td>31.727935</td>\n",
       "      <td>33.606057</td>\n",
       "    </tr>\n",
       "    <tr>\n",
       "      <th>343</th>\n",
       "      <td>39.1</td>\n",
       "      <td>4</td>\n",
       "      <td>58.0</td>\n",
       "      <td>1755</td>\n",
       "      <td>16.9</td>\n",
       "      <td>81</td>\n",
       "      <td>japan</td>\n",
       "      <td>toyota starlet</td>\n",
       "      <td>30.780866</td>\n",
       "      <td>32.795438</td>\n",
       "    </tr>\n",
       "    <tr>\n",
       "      <th>345</th>\n",
       "      <td>35.1</td>\n",
       "      <td>4</td>\n",
       "      <td>60.0</td>\n",
       "      <td>1760</td>\n",
       "      <td>16.1</td>\n",
       "      <td>81</td>\n",
       "      <td>japan</td>\n",
       "      <td>honda civic 1300</td>\n",
       "      <td>30.465177</td>\n",
       "      <td>32.757202</td>\n",
       "    </tr>\n",
       "    <tr>\n",
       "      <th>53</th>\n",
       "      <td>31.0</td>\n",
       "      <td>4</td>\n",
       "      <td>65.0</td>\n",
       "      <td>1773</td>\n",
       "      <td>19.0</td>\n",
       "      <td>71</td>\n",
       "      <td>japan</td>\n",
       "      <td>toyota corolla 1200</td>\n",
       "      <td>29.675953</td>\n",
       "      <td>32.657786</td>\n",
       "    </tr>\n",
       "  </tbody>\n",
       "</table>\n",
       "</div>"
      ],
      "text/plain": [
       "      mpg  cylinders  horsepower  weight  acceleration  model_year origin  \\\n",
       "54   35.0          4        69.0    1613          18.0          71  japan   \n",
       "144  31.0          4        52.0    1649          16.5          74  japan   \n",
       "343  39.1          4        58.0    1755          16.9          81  japan   \n",
       "345  35.1          4        60.0    1760          16.1          81  japan   \n",
       "53   31.0          4        65.0    1773          19.0          71  japan   \n",
       "\n",
       "                    name       pred      pred2  \n",
       "54           datsun 1200  29.044574  33.881361  \n",
       "144        toyota corona  31.727935  33.606057  \n",
       "343       toyota starlet  30.780866  32.795438  \n",
       "345     honda civic 1300  30.465177  32.757202  \n",
       "53   toyota corolla 1200  29.675953  32.657786  "
      ]
     },
     "execution_count": 74,
     "metadata": {},
     "output_type": "execute_result"
    }
   ],
   "source": [
    "# get predictions\n",
    "mpg_df = get_pred(mpg_df, model)\n",
    "\n",
    "mpg_df.head()"
   ]
  },
  {
   "cell_type": "markdown",
   "metadata": {},
   "source": [
    "- Step 3: plot predictions"
   ]
  },
  {
   "cell_type": "code",
   "execution_count": 75,
   "metadata": {},
   "outputs": [
    {
     "data": {
      "image/png": "[encoded data removed]",
      "text/plain": [
       "<Figure size 576x576 with 1 Axes>"
      ]
     },
     "metadata": {},
     "output_type": "display_data"
    }
   ],
   "source": [
    "# plot predictions\n",
    "plot_pred(mpg_df)"
   ]
  },
  {
   "cell_type": "markdown",
   "metadata": {},
   "source": [
    "<div class = \"alert alert-info\">\n",
    "<h3> Your turn</h3>\n",
    "    \n",
    "<p> Create a function called <code>get_rsqr</code> that takes the two inputs: a model formula and a <code>DataFrame</code>.\n",
    "The function should estimate a regression model using the model formula and the data, and return the model's adjusted R-squared.\n",
    "    \n",
    "</p>\n",
    "</div>"
   ]
  },
  {
   "cell_type": "markdown",
   "metadata": {},
   "source": [
    "**Solution**\n",
    "\n",
    "<details>\n",
    "    \n",
    "<summary> Click to expand!</summary>\n",
    "<p> \n",
    "\n",
    "```c#\n",
    "def get_rsqr(formula, df):\n",
    "    \n",
    "    # create and fit an OLS model\n",
    "    model = smf.ols(formula, data = df).fit()\n",
    "    \n",
    "    # store adj. R-squared\n",
    "    rsqr = model.rsquared_adj\n",
    "    \n",
    "    return rsqr\n",
    "\n",
    "formula2 = 'mpg ~ weight'\n",
    "\n",
    "get_rsqr(formula2, mpg_df)\n",
    "```\n",
    "\n",
    "</p>\n",
    "</details> "
   ]
  },
  {
   "cell_type": "code",
   "execution_count": 83,
   "metadata": {},
   "outputs": [
    {
     "data": {
      "text/plain": [
       "0.6926304331206254"
      ]
     },
     "execution_count": 83,
     "metadata": {},
     "output_type": "execute_result"
    }
   ],
   "source": [
    "def get_rsqr(formula, df):\n",
    "    \n",
    "    #model = get_model(formula, df)\n",
    "    model = smf.ols(formula, data = df)\n",
    "    model = model.fit()\n",
    "\n",
    "    rsqr = model.rsquared\n",
    "    \n",
    "    return rsqr\n",
    "\n",
    "formula2 = 'mpg ~ weight'\n",
    "\n",
    "get_rsqr(formula2, mpg_df)"
   ]
  },
  {
   "cell_type": "markdown",
   "metadata": {},
   "source": [
    "## Multiple linear regression\n",
    "\n",
    "In multiple linear regression, we expand the simple model to include multiple explanatory variables:\n",
    "\n",
    "$y_i = \\alpha + \\beta_1 x_{i, 1} + \\beta_2 x_{i, 2} + \\beta_3 x_{i, 3}$ ...\n",
    "\n",
    "In general, we can increase the explanatory power of our model (R-squared) by including more explanatory variables. "
   ]
  },
  {
   "cell_type": "markdown",
   "metadata": {},
   "source": [
    "`corr` shows that there is also a high correlation between a cars' fuel economy and their weight."
   ]
  },
  {
   "cell_type": "code",
   "execution_count": 84,
   "metadata": {},
   "outputs": [
    {
     "data": {
      "text/html": [
       "<div>\n",
       "<style scoped>\n",
       "    .dataframe tbody tr th:only-of-type {\n",
       "        vertical-align: middle;\n",
       "    }\n",
       "\n",
       "    .dataframe tbody tr th {\n",
       "        vertical-align: top;\n",
       "    }\n",
       "\n",
       "    .dataframe thead th {\n",
       "        text-align: right;\n",
       "    }\n",
       "</style>\n",
       "<table border=\"1\" class=\"dataframe\">\n",
       "  <thead>\n",
       "    <tr style=\"text-align: right;\">\n",
       "      <th></th>\n",
       "      <th>mpg</th>\n",
       "      <th>cylinders</th>\n",
       "      <th>horsepower</th>\n",
       "      <th>weight</th>\n",
       "      <th>acceleration</th>\n",
       "      <th>model_year</th>\n",
       "      <th>pred</th>\n",
       "      <th>pred2</th>\n",
       "    </tr>\n",
       "  </thead>\n",
       "  <tbody>\n",
       "    <tr>\n",
       "      <th>mpg</th>\n",
       "      <td>1.000000</td>\n",
       "      <td>-0.777618</td>\n",
       "      <td>-0.778427</td>\n",
       "      <td>-0.832244</td>\n",
       "      <td>0.423329</td>\n",
       "      <td>0.580541</td>\n",
       "      <td>0.778427</td>\n",
       "      <td>0.832244</td>\n",
       "    </tr>\n",
       "    <tr>\n",
       "      <th>cylinders</th>\n",
       "      <td>-0.777618</td>\n",
       "      <td>1.000000</td>\n",
       "      <td>0.842983</td>\n",
       "      <td>0.897527</td>\n",
       "      <td>-0.504683</td>\n",
       "      <td>-0.345647</td>\n",
       "      <td>-0.842983</td>\n",
       "      <td>-0.897527</td>\n",
       "    </tr>\n",
       "    <tr>\n",
       "      <th>horsepower</th>\n",
       "      <td>-0.778427</td>\n",
       "      <td>0.842983</td>\n",
       "      <td>1.000000</td>\n",
       "      <td>0.864538</td>\n",
       "      <td>-0.689196</td>\n",
       "      <td>-0.416361</td>\n",
       "      <td>-1.000000</td>\n",
       "      <td>-0.864538</td>\n",
       "    </tr>\n",
       "    <tr>\n",
       "      <th>weight</th>\n",
       "      <td>-0.832244</td>\n",
       "      <td>0.897527</td>\n",
       "      <td>0.864538</td>\n",
       "      <td>1.000000</td>\n",
       "      <td>-0.416839</td>\n",
       "      <td>-0.309120</td>\n",
       "      <td>-0.864538</td>\n",
       "      <td>-1.000000</td>\n",
       "    </tr>\n",
       "    <tr>\n",
       "      <th>acceleration</th>\n",
       "      <td>0.423329</td>\n",
       "      <td>-0.504683</td>\n",
       "      <td>-0.689196</td>\n",
       "      <td>-0.416839</td>\n",
       "      <td>1.000000</td>\n",
       "      <td>0.290316</td>\n",
       "      <td>0.689196</td>\n",
       "      <td>0.416839</td>\n",
       "    </tr>\n",
       "    <tr>\n",
       "      <th>model_year</th>\n",
       "      <td>0.580541</td>\n",
       "      <td>-0.345647</td>\n",
       "      <td>-0.416361</td>\n",
       "      <td>-0.309120</td>\n",
       "      <td>0.290316</td>\n",
       "      <td>1.000000</td>\n",
       "      <td>0.416361</td>\n",
       "      <td>0.309120</td>\n",
       "    </tr>\n",
       "    <tr>\n",
       "      <th>pred</th>\n",
       "      <td>0.778427</td>\n",
       "      <td>-0.842983</td>\n",
       "      <td>-1.000000</td>\n",
       "      <td>-0.864538</td>\n",
       "      <td>0.689196</td>\n",
       "      <td>0.416361</td>\n",
       "      <td>1.000000</td>\n",
       "      <td>0.864538</td>\n",
       "    </tr>\n",
       "    <tr>\n",
       "      <th>pred2</th>\n",
       "      <td>0.832244</td>\n",
       "      <td>-0.897527</td>\n",
       "      <td>-0.864538</td>\n",
       "      <td>-1.000000</td>\n",
       "      <td>0.416839</td>\n",
       "      <td>0.309120</td>\n",
       "      <td>0.864538</td>\n",
       "      <td>1.000000</td>\n",
       "    </tr>\n",
       "  </tbody>\n",
       "</table>\n",
       "</div>"
      ],
      "text/plain": [
       "                   mpg  cylinders  horsepower    weight  acceleration  \\\n",
       "mpg           1.000000  -0.777618   -0.778427 -0.832244      0.423329   \n",
       "cylinders    -0.777618   1.000000    0.842983  0.897527     -0.504683   \n",
       "horsepower   -0.778427   0.842983    1.000000  0.864538     -0.689196   \n",
       "weight       -0.832244   0.897527    0.864538  1.000000     -0.416839   \n",
       "acceleration  0.423329  -0.504683   -0.689196 -0.416839      1.000000   \n",
       "model_year    0.580541  -0.345647   -0.416361 -0.309120      0.290316   \n",
       "pred          0.778427  -0.842983   -1.000000 -0.864538      0.689196   \n",
       "pred2         0.832244  -0.897527   -0.864538 -1.000000      0.416839   \n",
       "\n",
       "              model_year      pred     pred2  \n",
       "mpg             0.580541  0.778427  0.832244  \n",
       "cylinders      -0.345647 -0.842983 -0.897527  \n",
       "horsepower     -0.416361 -1.000000 -0.864538  \n",
       "weight         -0.309120 -0.864538 -1.000000  \n",
       "acceleration    0.290316  0.689196  0.416839  \n",
       "model_year      1.000000  0.416361  0.309120  \n",
       "pred            0.416361  1.000000  0.864538  \n",
       "pred2           0.309120  0.864538  1.000000  "
      ]
     },
     "execution_count": 84,
     "metadata": {},
     "output_type": "execute_result"
    }
   ],
   "source": [
    "mpg_df.corr()"
   ]
  },
  {
   "cell_type": "markdown",
   "metadata": {},
   "source": [
    "We will now estimate the following model:\n",
    "\n",
    "$mpg_i = \\alpha + \\beta_1 \\times horsepower_i + \\beta_2 \\times weight_i$"
   ]
  },
  {
   "cell_type": "markdown",
   "metadata": {},
   "source": [
    "We expand the model formula with weight as an explanatory variable."
   ]
  },
  {
   "cell_type": "code",
   "execution_count": 85,
   "metadata": {},
   "outputs": [],
   "source": [
    "formula = 'mpg ~ horsepower + weight'"
   ]
  },
  {
   "cell_type": "markdown",
   "metadata": {},
   "source": [
    "Let us use the functions that we created above and execute the same three steps:"
   ]
  },
  {
   "cell_type": "markdown",
   "metadata": {},
   "source": [
    "- Step 1: estimate the model"
   ]
  },
  {
   "cell_type": "code",
   "execution_count": 86,
   "metadata": {},
   "outputs": [
    {
     "data": {
      "text/html": [
       "<table class=\"simpletable\">\n",
       "<caption>OLS Regression Results</caption>\n",
       "<tr>\n",
       "  <th>Dep. Variable:</th>           <td>mpg</td>       <th>  R-squared:         </th> <td>   0.706</td> \n",
       "</tr>\n",
       "<tr>\n",
       "  <th>Model:</th>                   <td>OLS</td>       <th>  Adj. R-squared:    </th> <td>   0.705</td> \n",
       "</tr>\n",
       "<tr>\n",
       "  <th>Method:</th>             <td>Least Squares</td>  <th>  F-statistic:       </th> <td>   467.9</td> \n",
       "</tr>\n",
       "<tr>\n",
       "  <th>Date:</th>             <td>Thu, 13 Jan 2022</td> <th>  Prob (F-statistic):</th> <td>3.06e-104</td>\n",
       "</tr>\n",
       "<tr>\n",
       "  <th>Time:</th>                 <td>14:09:05</td>     <th>  Log-Likelihood:    </th> <td> -1121.0</td> \n",
       "</tr>\n",
       "<tr>\n",
       "  <th>No. Observations:</th>      <td>   392</td>      <th>  AIC:               </th> <td>   2248.</td> \n",
       "</tr>\n",
       "<tr>\n",
       "  <th>Df Residuals:</th>          <td>   389</td>      <th>  BIC:               </th> <td>   2260.</td> \n",
       "</tr>\n",
       "<tr>\n",
       "  <th>Df Model:</th>              <td>     2</td>      <th>                     </th>     <td> </td>    \n",
       "</tr>\n",
       "<tr>\n",
       "  <th>Covariance Type:</th>      <td>nonrobust</td>    <th>                     </th>     <td> </td>    \n",
       "</tr>\n",
       "</table>\n",
       "<table class=\"simpletable\">\n",
       "<tr>\n",
       "       <td></td>         <th>coef</th>     <th>std err</th>      <th>t</th>      <th>P>|t|</th>  <th>[0.025</th>    <th>0.975]</th>  \n",
       "</tr>\n",
       "<tr>\n",
       "  <th>Intercept</th>  <td>   45.6402</td> <td>    0.793</td> <td>   57.540</td> <td> 0.000</td> <td>   44.081</td> <td>   47.200</td>\n",
       "</tr>\n",
       "<tr>\n",
       "  <th>horsepower</th> <td>   -0.0473</td> <td>    0.011</td> <td>   -4.267</td> <td> 0.000</td> <td>   -0.069</td> <td>   -0.026</td>\n",
       "</tr>\n",
       "<tr>\n",
       "  <th>weight</th>     <td>   -0.0058</td> <td>    0.001</td> <td>  -11.535</td> <td> 0.000</td> <td>   -0.007</td> <td>   -0.005</td>\n",
       "</tr>\n",
       "</table>\n",
       "<table class=\"simpletable\">\n",
       "<tr>\n",
       "  <th>Omnibus:</th>       <td>35.336</td> <th>  Durbin-Watson:     </th> <td>   1.729</td>\n",
       "</tr>\n",
       "<tr>\n",
       "  <th>Prob(Omnibus):</th> <td> 0.000</td> <th>  Jarque-Bera (JB):  </th> <td>  45.973</td>\n",
       "</tr>\n",
       "<tr>\n",
       "  <th>Skew:</th>          <td> 0.683</td> <th>  Prob(JB):          </th> <td>1.04e-10</td>\n",
       "</tr>\n",
       "<tr>\n",
       "  <th>Kurtosis:</th>      <td> 3.974</td> <th>  Cond. No.          </th> <td>1.15e+04</td>\n",
       "</tr>\n",
       "</table><br/><br/>Notes:<br/>[1] Standard Errors assume that the covariance matrix of the errors is correctly specified.<br/>[2] The condition number is large, 1.15e+04. This might indicate that there are<br/>strong multicollinearity or other numerical problems."
      ],
      "text/plain": [
       "<class 'statsmodels.iolib.summary.Summary'>\n",
       "\"\"\"\n",
       "                            OLS Regression Results                            \n",
       "==============================================================================\n",
       "Dep. Variable:                    mpg   R-squared:                       0.706\n",
       "Model:                            OLS   Adj. R-squared:                  0.705\n",
       "Method:                 Least Squares   F-statistic:                     467.9\n",
       "Date:                Thu, 13 Jan 2022   Prob (F-statistic):          3.06e-104\n",
       "Time:                        14:09:05   Log-Likelihood:                -1121.0\n",
       "No. Observations:                 392   AIC:                             2248.\n",
       "Df Residuals:                     389   BIC:                             2260.\n",
       "Df Model:                           2                                         \n",
       "Covariance Type:            nonrobust                                         \n",
       "==============================================================================\n",
       "                 coef    std err          t      P>|t|      [0.025      0.975]\n",
       "------------------------------------------------------------------------------\n",
       "Intercept     45.6402      0.793     57.540      0.000      44.081      47.200\n",
       "horsepower    -0.0473      0.011     -4.267      0.000      -0.069      -0.026\n",
       "weight        -0.0058      0.001    -11.535      0.000      -0.007      -0.005\n",
       "==============================================================================\n",
       "Omnibus:                       35.336   Durbin-Watson:                   1.729\n",
       "Prob(Omnibus):                  0.000   Jarque-Bera (JB):               45.973\n",
       "Skew:                           0.683   Prob(JB):                     1.04e-10\n",
       "Kurtosis:                       3.974   Cond. No.                     1.15e+04\n",
       "==============================================================================\n",
       "\n",
       "Notes:\n",
       "[1] Standard Errors assume that the covariance matrix of the errors is correctly specified.\n",
       "[2] The condition number is large, 1.15e+04. This might indicate that there are\n",
       "strong multicollinearity or other numerical problems.\n",
       "\"\"\""
      ]
     },
     "execution_count": 86,
     "metadata": {},
     "output_type": "execute_result"
    }
   ],
   "source": [
    "# estimate model\n",
    "model = get_model(formula, mpg_df)\n",
    "\n",
    "# model summary\n",
    "model.summary()"
   ]
  },
  {
   "cell_type": "markdown",
   "metadata": {},
   "source": [
    "- Step 2: generate in-sample predictions"
   ]
  },
  {
   "cell_type": "code",
   "execution_count": 87,
   "metadata": {},
   "outputs": [
    {
     "data": {
      "text/html": [
       "<div>\n",
       "<style scoped>\n",
       "    .dataframe tbody tr th:only-of-type {\n",
       "        vertical-align: middle;\n",
       "    }\n",
       "\n",
       "    .dataframe tbody tr th {\n",
       "        vertical-align: top;\n",
       "    }\n",
       "\n",
       "    .dataframe thead th {\n",
       "        text-align: right;\n",
       "    }\n",
       "</style>\n",
       "<table border=\"1\" class=\"dataframe\">\n",
       "  <thead>\n",
       "    <tr style=\"text-align: right;\">\n",
       "      <th></th>\n",
       "      <th>mpg</th>\n",
       "      <th>cylinders</th>\n",
       "      <th>horsepower</th>\n",
       "      <th>weight</th>\n",
       "      <th>acceleration</th>\n",
       "      <th>model_year</th>\n",
       "      <th>origin</th>\n",
       "      <th>name</th>\n",
       "      <th>pred</th>\n",
       "      <th>pred2</th>\n",
       "    </tr>\n",
       "  </thead>\n",
       "  <tbody>\n",
       "    <tr>\n",
       "      <th>54</th>\n",
       "      <td>35.0</td>\n",
       "      <td>4</td>\n",
       "      <td>69.0</td>\n",
       "      <td>1613</td>\n",
       "      <td>18.0</td>\n",
       "      <td>71</td>\n",
       "      <td>japan</td>\n",
       "      <td>datsun 1200</td>\n",
       "      <td>33.030337</td>\n",
       "      <td>33.881361</td>\n",
       "    </tr>\n",
       "    <tr>\n",
       "      <th>144</th>\n",
       "      <td>31.0</td>\n",
       "      <td>4</td>\n",
       "      <td>52.0</td>\n",
       "      <td>1649</td>\n",
       "      <td>16.5</td>\n",
       "      <td>74</td>\n",
       "      <td>japan</td>\n",
       "      <td>toyota corona</td>\n",
       "      <td>33.625896</td>\n",
       "      <td>33.606057</td>\n",
       "    </tr>\n",
       "    <tr>\n",
       "      <th>343</th>\n",
       "      <td>39.1</td>\n",
       "      <td>4</td>\n",
       "      <td>58.0</td>\n",
       "      <td>1755</td>\n",
       "      <td>16.9</td>\n",
       "      <td>81</td>\n",
       "      <td>japan</td>\n",
       "      <td>toyota starlet</td>\n",
       "      <td>32.727899</td>\n",
       "      <td>32.795438</td>\n",
       "    </tr>\n",
       "    <tr>\n",
       "      <th>345</th>\n",
       "      <td>35.1</td>\n",
       "      <td>4</td>\n",
       "      <td>60.0</td>\n",
       "      <td>1760</td>\n",
       "      <td>16.1</td>\n",
       "      <td>81</td>\n",
       "      <td>japan</td>\n",
       "      <td>honda civic 1300</td>\n",
       "      <td>32.604322</td>\n",
       "      <td>32.757202</td>\n",
       "    </tr>\n",
       "    <tr>\n",
       "      <th>53</th>\n",
       "      <td>31.0</td>\n",
       "      <td>4</td>\n",
       "      <td>65.0</td>\n",
       "      <td>1773</td>\n",
       "      <td>19.0</td>\n",
       "      <td>71</td>\n",
       "      <td>japan</td>\n",
       "      <td>toyota corolla 1200</td>\n",
       "      <td>32.292484</td>\n",
       "      <td>32.657786</td>\n",
       "    </tr>\n",
       "  </tbody>\n",
       "</table>\n",
       "</div>"
      ],
      "text/plain": [
       "      mpg  cylinders  horsepower  weight  acceleration  model_year origin  \\\n",
       "54   35.0          4        69.0    1613          18.0          71  japan   \n",
       "144  31.0          4        52.0    1649          16.5          74  japan   \n",
       "343  39.1          4        58.0    1755          16.9          81  japan   \n",
       "345  35.1          4        60.0    1760          16.1          81  japan   \n",
       "53   31.0          4        65.0    1773          19.0          71  japan   \n",
       "\n",
       "                    name       pred      pred2  \n",
       "54           datsun 1200  33.030337  33.881361  \n",
       "144        toyota corona  33.625896  33.606057  \n",
       "343       toyota starlet  32.727899  32.795438  \n",
       "345     honda civic 1300  32.604322  32.757202  \n",
       "53   toyota corolla 1200  32.292484  32.657786  "
      ]
     },
     "execution_count": 87,
     "metadata": {},
     "output_type": "execute_result"
    }
   ],
   "source": [
    "# create in-sample predictions\n",
    "mpg_df = get_pred(mpg_df, model)\n",
    "\n",
    "mpg_df.head()"
   ]
  },
  {
   "cell_type": "markdown",
   "metadata": {},
   "source": [
    "- Step 3: plot predictions"
   ]
  },
  {
   "cell_type": "code",
   "execution_count": 88,
   "metadata": {},
   "outputs": [
    {
     "data": {
      "image/png": "[encoded data removed]",
      "text/plain": [
       "<Figure size 576x576 with 1 Axes>"
      ]
     },
     "metadata": {},
     "output_type": "display_data"
    }
   ],
   "source": [
    "plot_pred(mpg_df)"
   ]
  },
  {
   "cell_type": "markdown",
   "metadata": {},
   "source": [
    "As before, if the model does a good job at explaining the variation in fuel economy, we would expect the predictions to be close to actual observations. From the plot, we can see that the model still under-predicts fuel economy for high levels of mpg."
   ]
  },
  {
   "cell_type": "markdown",
   "metadata": {},
   "source": [
    "<div class = \"alert alert-info\">\n",
    "<h3> Your turn</h3>\n",
    "    \n",
    "<p> Notice that we still need to execute a lot of code in order to get the plot with the predictions from the OLS model.\n",
    "\n",
    "Create a function called <code>main</code> that executes all of the three steps by using the functions  <code>get_model</code>, <code>get_pred</code> and <code>plot_pred</code>. The function should take two inputs: a model formula and a <code>DataFrame</code>, and it should display the plot with the predictions.\n",
    "    \n",
    "Use <code>main</code> to reproduce the same plot as above for the regression model with <code>horsepower</code> and <code>weight</code> as the explanatory variables.\n",
    "    \n",
    "</p>\n",
    "</div>"
   ]
  },
  {
   "cell_type": "markdown",
   "metadata": {},
   "source": [
    "**Solution**\n",
    "\n",
    "<details>\n",
    "    \n",
    "<summary> Click to expand!</summary>\n",
    "<p> \n",
    "\n",
    "```c#\n",
    "def main(df, formula):\n",
    "    \n",
    "    # estimate model\n",
    "    model = get_model(formula, df)\n",
    "    \n",
    "    # create in-sample predictions\n",
    "    df = get_pred(df, model)\n",
    "    \n",
    "    plot_pred(df)\n",
    "    \n",
    "main(mpg_df, 'mpg ~ horsepower + weight')\n",
    "```\n",
    "\n",
    "</p>\n",
    "</details> "
   ]
  },
  {
   "cell_type": "code",
   "execution_count": 92,
   "metadata": {},
   "outputs": [
    {
     "data": {
      "image/png": "[encoded data removed]",
      "text/plain": [
       "<Figure size 576x576 with 1 Axes>"
      ]
     },
     "metadata": {},
     "output_type": "display_data"
    }
   ],
   "source": [
    "\n",
    "def main(formula,df):\n",
    "    \n",
    "    model=get_model(formula,df)\n",
    "    pred = get_pred(df,model)\n",
    "    plot_pred(df)\n",
    "    \n",
    "main('mpg ~ horsepower + weight',mpg_df)"
   ]
  },
  {
   "cell_type": "markdown",
   "metadata": {},
   "source": [
    "#### Polynomial regression\n"
   ]
  },
  {
   "cell_type": "markdown",
   "metadata": {},
   "source": [
    "From the scatter plot, we can see that the relationship between cars' fuel economy and horsepower does not seem to be linear."
   ]
  },
  {
   "cell_type": "code",
   "execution_count": 94,
   "metadata": {},
   "outputs": [
    {
     "data": {
      "image/png": "[encoded data removed]",
      "text/plain": [
       "<Figure size 432x288 with 1 Axes>"
      ]
     },
     "metadata": {},
     "output_type": "display_data"
    }
   ],
   "source": [
    "fig, ax = plt.subplots()\n",
    "\n",
    "ax.scatter(mpg_df['horsepower'],\n",
    "           mpg_df['mpg'])\n",
    "\n",
    "# add axis labels\n",
    "ax.set_xlabel('horsepower')\n",
    "ax.set_ylabel('mpg')\n",
    "\n",
    "plt.show()"
   ]
  },
  {
   "cell_type": "markdown",
   "metadata": {},
   "source": [
    "When the relationship between a dependent and independent variable is not linear, a polynomial model is usually more appropiate. \n",
    "\n",
    "In a 2nd order polynomial model, we expand the model to also include the squared of the explanatory variable."
   ]
  },
  {
   "cell_type": "markdown",
   "metadata": {},
   "source": [
    "Let us estimate the following 2nd order polynomial model:\n",
    "\n",
    "$mpg_i = \\alpha + \\beta_1 \\times horsepower_i + \\beta_2 \\times horsepower_i^2$"
   ]
  },
  {
   "cell_type": "markdown",
   "metadata": {},
   "source": [
    "In R-style formula, we can include the squared explanatory variable by adding the term `I(horsepower**2)`. "
   ]
  },
  {
   "cell_type": "code",
   "execution_count": 95,
   "metadata": {},
   "outputs": [],
   "source": [
    "formula = 'mpg ~ horsepower + I(horsepower**2)'"
   ]
  },
  {
   "cell_type": "markdown",
   "metadata": {},
   "source": [
    "Again, we use `get_model` to estimate the OLS model."
   ]
  },
  {
   "cell_type": "code",
   "execution_count": 96,
   "metadata": {},
   "outputs": [
    {
     "data": {
      "text/html": [
       "<table class=\"simpletable\">\n",
       "<caption>OLS Regression Results</caption>\n",
       "<tr>\n",
       "  <th>Dep. Variable:</th>           <td>mpg</td>       <th>  R-squared:         </th> <td>   0.688</td>\n",
       "</tr>\n",
       "<tr>\n",
       "  <th>Model:</th>                   <td>OLS</td>       <th>  Adj. R-squared:    </th> <td>   0.686</td>\n",
       "</tr>\n",
       "<tr>\n",
       "  <th>Method:</th>             <td>Least Squares</td>  <th>  F-statistic:       </th> <td>   428.0</td>\n",
       "</tr>\n",
       "<tr>\n",
       "  <th>Date:</th>             <td>Thu, 13 Jan 2022</td> <th>  Prob (F-statistic):</th> <td>5.40e-99</td>\n",
       "</tr>\n",
       "<tr>\n",
       "  <th>Time:</th>                 <td>14:28:53</td>     <th>  Log-Likelihood:    </th> <td> -1133.2</td>\n",
       "</tr>\n",
       "<tr>\n",
       "  <th>No. Observations:</th>      <td>   392</td>      <th>  AIC:               </th> <td>   2272.</td>\n",
       "</tr>\n",
       "<tr>\n",
       "  <th>Df Residuals:</th>          <td>   389</td>      <th>  BIC:               </th> <td>   2284.</td>\n",
       "</tr>\n",
       "<tr>\n",
       "  <th>Df Model:</th>              <td>     2</td>      <th>                     </th>     <td> </td>   \n",
       "</tr>\n",
       "<tr>\n",
       "  <th>Covariance Type:</th>      <td>nonrobust</td>    <th>                     </th>     <td> </td>   \n",
       "</tr>\n",
       "</table>\n",
       "<table class=\"simpletable\">\n",
       "<tr>\n",
       "           <td></td>             <th>coef</th>     <th>std err</th>      <th>t</th>      <th>P>|t|</th>  <th>[0.025</th>    <th>0.975]</th>  \n",
       "</tr>\n",
       "<tr>\n",
       "  <th>Intercept</th>          <td>   56.9001</td> <td>    1.800</td> <td>   31.604</td> <td> 0.000</td> <td>   53.360</td> <td>   60.440</td>\n",
       "</tr>\n",
       "<tr>\n",
       "  <th>horsepower</th>         <td>   -0.4662</td> <td>    0.031</td> <td>  -14.978</td> <td> 0.000</td> <td>   -0.527</td> <td>   -0.405</td>\n",
       "</tr>\n",
       "<tr>\n",
       "  <th>I(horsepower ** 2)</th> <td>    0.0012</td> <td>    0.000</td> <td>   10.080</td> <td> 0.000</td> <td>    0.001</td> <td>    0.001</td>\n",
       "</tr>\n",
       "</table>\n",
       "<table class=\"simpletable\">\n",
       "<tr>\n",
       "  <th>Omnibus:</th>       <td>16.158</td> <th>  Durbin-Watson:     </th> <td>   1.835</td>\n",
       "</tr>\n",
       "<tr>\n",
       "  <th>Prob(Omnibus):</th> <td> 0.000</td> <th>  Jarque-Bera (JB):  </th> <td>  30.662</td>\n",
       "</tr>\n",
       "<tr>\n",
       "  <th>Skew:</th>          <td> 0.218</td> <th>  Prob(JB):          </th> <td>2.20e-07</td>\n",
       "</tr>\n",
       "<tr>\n",
       "  <th>Kurtosis:</th>      <td> 4.299</td> <th>  Cond. No.          </th> <td>1.29e+05</td>\n",
       "</tr>\n",
       "</table><br/><br/>Notes:<br/>[1] Standard Errors assume that the covariance matrix of the errors is correctly specified.<br/>[2] The condition number is large, 1.29e+05. This might indicate that there are<br/>strong multicollinearity or other numerical problems."
      ],
      "text/plain": [
       "<class 'statsmodels.iolib.summary.Summary'>\n",
       "\"\"\"\n",
       "                            OLS Regression Results                            \n",
       "==============================================================================\n",
       "Dep. Variable:                    mpg   R-squared:                       0.688\n",
       "Model:                            OLS   Adj. R-squared:                  0.686\n",
       "Method:                 Least Squares   F-statistic:                     428.0\n",
       "Date:                Thu, 13 Jan 2022   Prob (F-statistic):           5.40e-99\n",
       "Time:                        14:28:53   Log-Likelihood:                -1133.2\n",
       "No. Observations:                 392   AIC:                             2272.\n",
       "Df Residuals:                     389   BIC:                             2284.\n",
       "Df Model:                           2                                         \n",
       "Covariance Type:            nonrobust                                         \n",
       "======================================================================================\n",
       "                         coef    std err          t      P>|t|      [0.025      0.975]\n",
       "--------------------------------------------------------------------------------------\n",
       "Intercept             56.9001      1.800     31.604      0.000      53.360      60.440\n",
       "horsepower            -0.4662      0.031    -14.978      0.000      -0.527      -0.405\n",
       "I(horsepower ** 2)     0.0012      0.000     10.080      0.000       0.001       0.001\n",
       "==============================================================================\n",
       "Omnibus:                       16.158   Durbin-Watson:                   1.835\n",
       "Prob(Omnibus):                  0.000   Jarque-Bera (JB):               30.662\n",
       "Skew:                           0.218   Prob(JB):                     2.20e-07\n",
       "Kurtosis:                       4.299   Cond. No.                     1.29e+05\n",
       "==============================================================================\n",
       "\n",
       "Notes:\n",
       "[1] Standard Errors assume that the covariance matrix of the errors is correctly specified.\n",
       "[2] The condition number is large, 1.29e+05. This might indicate that there are\n",
       "strong multicollinearity or other numerical problems.\n",
       "\"\"\""
      ]
     },
     "execution_count": 96,
     "metadata": {},
     "output_type": "execute_result"
    }
   ],
   "source": [
    "# estimate model\n",
    "model = get_model(formula, mpg_df)\n",
    "\n",
    "# model summary\n",
    "model.summary()"
   ]
  },
  {
   "cell_type": "markdown",
   "metadata": {},
   "source": [
    "We use `get_pred` to the in-sample predictions from the model."
   ]
  },
  {
   "cell_type": "code",
   "execution_count": 100,
   "metadata": {},
   "outputs": [
    {
     "data": {
      "text/html": [
       "<div>\n",
       "<style scoped>\n",
       "    .dataframe tbody tr th:only-of-type {\n",
       "        vertical-align: middle;\n",
       "    }\n",
       "\n",
       "    .dataframe tbody tr th {\n",
       "        vertical-align: top;\n",
       "    }\n",
       "\n",
       "    .dataframe thead th {\n",
       "        text-align: right;\n",
       "    }\n",
       "</style>\n",
       "<table border=\"1\" class=\"dataframe\">\n",
       "  <thead>\n",
       "    <tr style=\"text-align: right;\">\n",
       "      <th></th>\n",
       "      <th>mpg</th>\n",
       "      <th>cylinders</th>\n",
       "      <th>horsepower</th>\n",
       "      <th>weight</th>\n",
       "      <th>acceleration</th>\n",
       "      <th>model_year</th>\n",
       "      <th>origin</th>\n",
       "      <th>name</th>\n",
       "      <th>pred</th>\n",
       "      <th>pred2</th>\n",
       "    </tr>\n",
       "  </thead>\n",
       "  <tbody>\n",
       "    <tr>\n",
       "      <th>102</th>\n",
       "      <td>26.0</td>\n",
       "      <td>4</td>\n",
       "      <td>46.0</td>\n",
       "      <td>1950</td>\n",
       "      <td>21.0</td>\n",
       "      <td>73</td>\n",
       "      <td>europe</td>\n",
       "      <td>volkswagen super beetle</td>\n",
       "      <td>30.591598</td>\n",
       "      <td>31.304207</td>\n",
       "    </tr>\n",
       "    <tr>\n",
       "      <th>19</th>\n",
       "      <td>26.0</td>\n",
       "      <td>4</td>\n",
       "      <td>46.0</td>\n",
       "      <td>1835</td>\n",
       "      <td>20.5</td>\n",
       "      <td>70</td>\n",
       "      <td>europe</td>\n",
       "      <td>volkswagen 1131 deluxe sedan</td>\n",
       "      <td>35.985609</td>\n",
       "      <td>32.183651</td>\n",
       "    </tr>\n",
       "    <tr>\n",
       "      <th>326</th>\n",
       "      <td>43.4</td>\n",
       "      <td>4</td>\n",
       "      <td>48.0</td>\n",
       "      <td>2335</td>\n",
       "      <td>23.7</td>\n",
       "      <td>80</td>\n",
       "      <td>europe</td>\n",
       "      <td>vw dasher (diesel)</td>\n",
       "      <td>34.000625</td>\n",
       "      <td>28.359980</td>\n",
       "    </tr>\n",
       "    <tr>\n",
       "      <th>325</th>\n",
       "      <td>44.3</td>\n",
       "      <td>4</td>\n",
       "      <td>48.0</td>\n",
       "      <td>2085</td>\n",
       "      <td>21.7</td>\n",
       "      <td>80</td>\n",
       "      <td>europe</td>\n",
       "      <td>vw rabbit c (diesel)</td>\n",
       "      <td>33.358652</td>\n",
       "      <td>30.271815</td>\n",
       "    </tr>\n",
       "    <tr>\n",
       "      <th>244</th>\n",
       "      <td>43.1</td>\n",
       "      <td>4</td>\n",
       "      <td>48.0</td>\n",
       "      <td>1985</td>\n",
       "      <td>21.5</td>\n",
       "      <td>78</td>\n",
       "      <td>europe</td>\n",
       "      <td>volkswagen rabbit custom diesel</td>\n",
       "      <td>31.796789</td>\n",
       "      <td>31.036550</td>\n",
       "    </tr>\n",
       "  </tbody>\n",
       "</table>\n",
       "</div>"
      ],
      "text/plain": [
       "      mpg  cylinders  horsepower  weight  acceleration  model_year  origin  \\\n",
       "102  26.0          4        46.0    1950          21.0          73  europe   \n",
       "19   26.0          4        46.0    1835          20.5          70  europe   \n",
       "326  43.4          4        48.0    2335          23.7          80  europe   \n",
       "325  44.3          4        48.0    2085          21.7          80  europe   \n",
       "244  43.1          4        48.0    1985          21.5          78  europe   \n",
       "\n",
       "                                name       pred      pred2  \n",
       "102          volkswagen super beetle  30.591598  31.304207  \n",
       "19      volkswagen 1131 deluxe sedan  35.985609  32.183651  \n",
       "326               vw dasher (diesel)  34.000625  28.359980  \n",
       "325             vw rabbit c (diesel)  33.358652  30.271815  \n",
       "244  volkswagen rabbit custom diesel  31.796789  31.036550  "
      ]
     },
     "execution_count": 100,
     "metadata": {},
     "output_type": "execute_result"
    }
   ],
   "source": [
    "# create in-sample predictions\n",
    "mpg_df = get_pred(mpg_df, model)\n",
    "\n",
    "mpg_df.head()"
   ]
  },
  {
   "cell_type": "markdown",
   "metadata": {},
   "source": [
    "Since there is technically only one explanatory variable in the model (`horsepower`), we can visualize the regression line."
   ]
  },
  {
   "cell_type": "markdown",
   "metadata": {},
   "source": [
    "Remember, we must sort the `DataFrame` according to the explanatory variable in order to get a nice-looking line."
   ]
  },
  {
   "cell_type": "code",
   "execution_count": 101,
   "metadata": {},
   "outputs": [],
   "source": [
    "# sort values\n",
    "mpg_df.sort_values('horsepower', inplace = True)"
   ]
  },
  {
   "cell_type": "code",
   "execution_count": 102,
   "metadata": {},
   "outputs": [
    {
     "data": {
      "image/png": "[encoded data removed]",
      "text/plain": [
       "<Figure size 432x288 with 1 Axes>"
      ]
     },
     "metadata": {},
     "output_type": "display_data"
    }
   ],
   "source": [
    "fig, ax = plt.subplots()\n",
    "\n",
    "# scatter plot\n",
    "ax.scatter(mpg_df['horsepower'],\n",
    "           mpg_df['mpg'])\n",
    "\n",
    "# line plot\n",
    "ax.plot(mpg_df['horsepower'],\n",
    "        mpg_df['pred'],\n",
    "        color = 'black')\n",
    "\n",
    "# add axis labels\n",
    "ax.set_xlabel('horsepower')\n",
    "ax.set_ylabel('mpg')\n",
    "\n",
    "# add title\n",
    "ax.set_title(formula)\n",
    "\n",
    "plt.show()"
   ]
  },
  {
   "cell_type": "markdown",
   "metadata": {},
   "source": [
    "As before, we can use `plot_pred` to visually inspect the predictions of the model."
   ]
  },
  {
   "cell_type": "code",
   "execution_count": 103,
   "metadata": {},
   "outputs": [
    {
     "data": {
      "image/png": "[encoded data removed]",
      "text/plain": [
       "<Figure size 576x576 with 1 Axes>"
      ]
     },
     "metadata": {},
     "output_type": "display_data"
    }
   ],
   "source": [
    "plot_pred(mpg_df)"
   ]
  },
  {
   "cell_type": "markdown",
   "metadata": {},
   "source": [
    "From the plot, it seems that 2nd order polynomial model does a better job at predicting fuel economy. However, the model still slightly under-predicts fuel economy at high levels of mpg."
   ]
  },
  {
   "cell_type": "markdown",
   "metadata": {},
   "source": [
    "Notice that there seems to be a non-linear relationship between `mpg` and the potential explanatory variables `horsepower`, `weight`, `acceleration`, and `model_year`."
   ]
  },
  {
   "cell_type": "code",
   "execution_count": 104,
   "metadata": {},
   "outputs": [],
   "source": [
    "var_lst = ['horsepower', 'weight', 'acceleration', 'model_year']"
   ]
  },
  {
   "cell_type": "code",
   "execution_count": 106,
   "metadata": {},
   "outputs": [
    {
     "data": {
      "image/png": "[encoded data removed]",
      "text/plain": [
       "<Figure size 1008x216 with 4 Axes>"
      ]
     },
     "metadata": {},
     "output_type": "display_data"
    }
   ],
   "source": [
    "fig, ax = plt.subplots(nrows = 1, ncols = 4, figsize = (14, 3))\n",
    "\n",
    "for i in range(len(var_lst)):\n",
    "\n",
    "    # create a scatter plot with mpg\n",
    "    ax[i].scatter(mpg_df[var_lst[i]],\n",
    "                  mpg_df['mpg'])\n",
    "    \n",
    "    # add ylabel\n",
    "    ax[i].set_xlabel(var_lst[i])\n",
    "\n",
    "ax[0].set_ylabel('mpg')\n",
    "\n",
    "plt.show()"
   ]
  },
  {
   "cell_type": "markdown",
   "metadata": {},
   "source": [
    "<div class = \"alert alert-info\">\n",
    "<h3> Your turn</h3>\n",
    "    \n",
    "<p> Create a <code>for</code> loop where you estimate a 2nd order polynomial model using only one of the potential explanatory variables: <code>horsepower</code>, <code>weight</code>, <code>acceleration</code> and <code>model_year</code>. \n",
    "    \n",
    "In each iteration:\n",
    "    \n",
    "- Create the model formula.\n",
    "- Use the function <code>get_rsqr</code> that you created above to extract the model's adj. R-squared.\n",
    "- Store the adj. R-squared in a list.\n",
    "    \n",
    "Which 2nd order polynomial model has the highest adj. R-squared?\n",
    "    \n",
    "</p>\n",
    "</div>"
   ]
  },
  {
   "cell_type": "markdown",
   "metadata": {},
   "source": [
    "**Solution**\n",
    "\n",
    "<details>\n",
    "    \n",
    "<summary> Click to expand!</summary>\n",
    "<p> \n",
    "\n",
    "```c#\n",
    "rsqr_lst = []\n",
    "\n",
    "for var in ['horsepower', 'weight', 'acceleration', 'model_year']:\n",
    "    \n",
    "    # create model formula\n",
    "    formula = 'mpg ~ ' + var + ' + I(' + var + '**2)'\n",
    "    \n",
    "    # extract ad. R-squared\n",
    "    rsqr = get_rsqr(formula, mpg_df)\n",
    "    \n",
    "    # append to list\n",
    "    rsqr_lst.append(rsqr)\n",
    "    \n",
    "print(rsqr_lst)\n",
    "```\n",
    "\n",
    "</p>\n",
    "</details> "
   ]
  },
  {
   "cell_type": "code",
   "execution_count": 116,
   "metadata": {},
   "outputs": [
    {
     "data": {
      "text/plain": [
       "{'horsepower': 0.6875590305127515,\n",
       " 'weight': 0.7151475557845139,\n",
       " 'acceleration': 0.19396401103217586,\n",
       " 'model_year': 0.3675258408630109}"
      ]
     },
     "execution_count": 116,
     "metadata": {},
     "output_type": "execute_result"
    }
   ],
   "source": [
    "var_lst = ['horsepower', 'weight', 'acceleration', 'model_year']\n",
    "rsqr_List = []\n",
    "for i in var_lst:\n",
    "\n",
    "    formula = 'mpg ~ '+str(i)+\" + I(\"+str(i)+'**2)'\n",
    "    rsqr_List.append(get_rsqr(formula, mpg_df))\n",
    "\n",
    "rsqr_dict = {var_lst[0]:rsqr_List[0],\n",
    "            var_lst[1]:rsqr_List[1],\n",
    "            var_lst[2]:rsqr_List[2],\n",
    "            var_lst[3]:rsqr_List[3],}\n",
    "rsqr_dict"
   ]
  },
  {
   "cell_type": "markdown",
   "metadata": {},
   "source": [
    "#### Categorical variables\n",
    "\n",
    "In linear regression models we often want to include categorical variables in order to allow different intercepts for different groups in our data."
   ]
  },
  {
   "cell_type": "markdown",
   "metadata": {},
   "source": [
    "Notice that our `mpg` data contains the categorical variable `origin`. In fact, the average fuel economy is very different for cars from the US compared to cars from Europe and Japan."
   ]
  },
  {
   "cell_type": "code",
   "execution_count": 117,
   "metadata": {},
   "outputs": [
    {
     "data": {
      "text/plain": [
       "origin\n",
       "europe    27.602941\n",
       "japan     30.450633\n",
       "usa       20.033469\n",
       "Name: mpg, dtype: float64"
      ]
     },
     "execution_count": 117,
     "metadata": {},
     "output_type": "execute_result"
    }
   ],
   "source": [
    "mpg_df.groupby('origin')['mpg'].mean()"
   ]
  },
  {
   "cell_type": "markdown",
   "metadata": {},
   "source": [
    "In R-style formula, we can include categorical variables by adding the term `C(origin)`. "
   ]
  },
  {
   "cell_type": "code",
   "execution_count": 118,
   "metadata": {},
   "outputs": [],
   "source": [
    "formula = 'mpg ~ horsepower + C(origin)'"
   ]
  },
  {
   "cell_type": "code",
   "execution_count": 119,
   "metadata": {},
   "outputs": [
    {
     "data": {
      "text/html": [
       "<table class=\"simpletable\">\n",
       "<caption>OLS Regression Results</caption>\n",
       "<tr>\n",
       "  <th>Dep. Variable:</th>           <td>mpg</td>       <th>  R-squared:         </th> <td>   0.662</td>\n",
       "</tr>\n",
       "<tr>\n",
       "  <th>Model:</th>                   <td>OLS</td>       <th>  Adj. R-squared:    </th> <td>   0.659</td>\n",
       "</tr>\n",
       "<tr>\n",
       "  <th>Method:</th>             <td>Least Squares</td>  <th>  F-statistic:       </th> <td>   253.4</td>\n",
       "</tr>\n",
       "<tr>\n",
       "  <th>Date:</th>             <td>Thu, 13 Jan 2022</td> <th>  Prob (F-statistic):</th> <td>4.93e-91</td>\n",
       "</tr>\n",
       "<tr>\n",
       "  <th>Time:</th>                 <td>14:55:15</td>     <th>  Log-Likelihood:    </th> <td> -1148.5</td>\n",
       "</tr>\n",
       "<tr>\n",
       "  <th>No. Observations:</th>      <td>   392</td>      <th>  AIC:               </th> <td>   2305.</td>\n",
       "</tr>\n",
       "<tr>\n",
       "  <th>Df Residuals:</th>          <td>   388</td>      <th>  BIC:               </th> <td>   2321.</td>\n",
       "</tr>\n",
       "<tr>\n",
       "  <th>Df Model:</th>              <td>     3</td>      <th>                     </th>     <td> </td>   \n",
       "</tr>\n",
       "<tr>\n",
       "  <th>Covariance Type:</th>      <td>nonrobust</td>    <th>                     </th>     <td> </td>   \n",
       "</tr>\n",
       "</table>\n",
       "<table class=\"simpletable\">\n",
       "<tr>\n",
       "           <td></td>             <th>coef</th>     <th>std err</th>      <th>t</th>      <th>P>|t|</th>  <th>[0.025</th>    <th>0.975]</th>  \n",
       "</tr>\n",
       "<tr>\n",
       "  <th>Intercept</th>          <td>   38.3695</td> <td>    0.781</td> <td>   49.098</td> <td> 0.000</td> <td>   36.833</td> <td>   39.906</td>\n",
       "</tr>\n",
       "<tr>\n",
       "  <th>C(origin)[T.japan]</th> <td>    2.7510</td> <td>    0.753</td> <td>    3.651</td> <td> 0.000</td> <td>    1.270</td> <td>    4.232</td>\n",
       "</tr>\n",
       "<tr>\n",
       "  <th>C(origin)[T.usa]</th>   <td>   -2.4253</td> <td>    0.678</td> <td>   -3.578</td> <td> 0.000</td> <td>   -3.758</td> <td>   -1.093</td>\n",
       "</tr>\n",
       "<tr>\n",
       "  <th>horsepower</th>         <td>   -0.1336</td> <td>    0.007</td> <td>  -19.474</td> <td> 0.000</td> <td>   -0.147</td> <td>   -0.120</td>\n",
       "</tr>\n",
       "</table>\n",
       "<table class=\"simpletable\">\n",
       "<tr>\n",
       "  <th>Omnibus:</th>       <td>23.486</td> <th>  Durbin-Watson:     </th> <td>   1.382</td>\n",
       "</tr>\n",
       "<tr>\n",
       "  <th>Prob(Omnibus):</th> <td> 0.000</td> <th>  Jarque-Bera (JB):  </th> <td>  25.987</td>\n",
       "</tr>\n",
       "<tr>\n",
       "  <th>Skew:</th>          <td> 0.602</td> <th>  Prob(JB):          </th> <td>2.27e-06</td>\n",
       "</tr>\n",
       "<tr>\n",
       "  <th>Kurtosis:</th>      <td> 3.376</td> <th>  Cond. No.          </th> <td>    501.</td>\n",
       "</tr>\n",
       "</table><br/><br/>Notes:<br/>[1] Standard Errors assume that the covariance matrix of the errors is correctly specified."
      ],
      "text/plain": [
       "<class 'statsmodels.iolib.summary.Summary'>\n",
       "\"\"\"\n",
       "                            OLS Regression Results                            \n",
       "==============================================================================\n",
       "Dep. Variable:                    mpg   R-squared:                       0.662\n",
       "Model:                            OLS   Adj. R-squared:                  0.659\n",
       "Method:                 Least Squares   F-statistic:                     253.4\n",
       "Date:                Thu, 13 Jan 2022   Prob (F-statistic):           4.93e-91\n",
       "Time:                        14:55:15   Log-Likelihood:                -1148.5\n",
       "No. Observations:                 392   AIC:                             2305.\n",
       "Df Residuals:                     388   BIC:                             2321.\n",
       "Df Model:                           3                                         \n",
       "Covariance Type:            nonrobust                                         \n",
       "======================================================================================\n",
       "                         coef    std err          t      P>|t|      [0.025      0.975]\n",
       "--------------------------------------------------------------------------------------\n",
       "Intercept             38.3695      0.781     49.098      0.000      36.833      39.906\n",
       "C(origin)[T.japan]     2.7510      0.753      3.651      0.000       1.270       4.232\n",
       "C(origin)[T.usa]      -2.4253      0.678     -3.578      0.000      -3.758      -1.093\n",
       "horsepower            -0.1336      0.007    -19.474      0.000      -0.147      -0.120\n",
       "==============================================================================\n",
       "Omnibus:                       23.486   Durbin-Watson:                   1.382\n",
       "Prob(Omnibus):                  0.000   Jarque-Bera (JB):               25.987\n",
       "Skew:                           0.602   Prob(JB):                     2.27e-06\n",
       "Kurtosis:                       3.376   Cond. No.                         501.\n",
       "==============================================================================\n",
       "\n",
       "Notes:\n",
       "[1] Standard Errors assume that the covariance matrix of the errors is correctly specified.\n",
       "\"\"\""
      ]
     },
     "execution_count": 119,
     "metadata": {},
     "output_type": "execute_result"
    }
   ],
   "source": [
    "# estimate model\n",
    "model = get_model(formula, mpg_df)\n",
    "\n",
    "# model summary\n",
    "model.summary()"
   ]
  },
  {
   "cell_type": "code",
   "execution_count": 120,
   "metadata": {},
   "outputs": [
    {
     "data": {
      "text/html": [
       "<div>\n",
       "<style scoped>\n",
       "    .dataframe tbody tr th:only-of-type {\n",
       "        vertical-align: middle;\n",
       "    }\n",
       "\n",
       "    .dataframe tbody tr th {\n",
       "        vertical-align: top;\n",
       "    }\n",
       "\n",
       "    .dataframe thead th {\n",
       "        text-align: right;\n",
       "    }\n",
       "</style>\n",
       "<table border=\"1\" class=\"dataframe\">\n",
       "  <thead>\n",
       "    <tr style=\"text-align: right;\">\n",
       "      <th></th>\n",
       "      <th>mpg</th>\n",
       "      <th>cylinders</th>\n",
       "      <th>horsepower</th>\n",
       "      <th>weight</th>\n",
       "      <th>acceleration</th>\n",
       "      <th>model_year</th>\n",
       "      <th>origin</th>\n",
       "      <th>name</th>\n",
       "      <th>pred</th>\n",
       "      <th>pred2</th>\n",
       "    </tr>\n",
       "  </thead>\n",
       "  <tbody>\n",
       "    <tr>\n",
       "      <th>102</th>\n",
       "      <td>26.0</td>\n",
       "      <td>4</td>\n",
       "      <td>46.0</td>\n",
       "      <td>1950</td>\n",
       "      <td>21.0</td>\n",
       "      <td>73</td>\n",
       "      <td>europe</td>\n",
       "      <td>volkswagen super beetle</td>\n",
       "      <td>32.221659</td>\n",
       "      <td>31.304207</td>\n",
       "    </tr>\n",
       "    <tr>\n",
       "      <th>19</th>\n",
       "      <td>26.0</td>\n",
       "      <td>4</td>\n",
       "      <td>46.0</td>\n",
       "      <td>1835</td>\n",
       "      <td>20.5</td>\n",
       "      <td>70</td>\n",
       "      <td>europe</td>\n",
       "      <td>volkswagen 1131 deluxe sedan</td>\n",
       "      <td>32.221659</td>\n",
       "      <td>32.183651</td>\n",
       "    </tr>\n",
       "    <tr>\n",
       "      <th>326</th>\n",
       "      <td>43.4</td>\n",
       "      <td>4</td>\n",
       "      <td>48.0</td>\n",
       "      <td>2335</td>\n",
       "      <td>23.7</td>\n",
       "      <td>80</td>\n",
       "      <td>europe</td>\n",
       "      <td>vw dasher (diesel)</td>\n",
       "      <td>31.954363</td>\n",
       "      <td>28.359980</td>\n",
       "    </tr>\n",
       "    <tr>\n",
       "      <th>325</th>\n",
       "      <td>44.3</td>\n",
       "      <td>4</td>\n",
       "      <td>48.0</td>\n",
       "      <td>2085</td>\n",
       "      <td>21.7</td>\n",
       "      <td>80</td>\n",
       "      <td>europe</td>\n",
       "      <td>vw rabbit c (diesel)</td>\n",
       "      <td>31.954363</td>\n",
       "      <td>30.271815</td>\n",
       "    </tr>\n",
       "    <tr>\n",
       "      <th>244</th>\n",
       "      <td>43.1</td>\n",
       "      <td>4</td>\n",
       "      <td>48.0</td>\n",
       "      <td>1985</td>\n",
       "      <td>21.5</td>\n",
       "      <td>78</td>\n",
       "      <td>europe</td>\n",
       "      <td>volkswagen rabbit custom diesel</td>\n",
       "      <td>31.954363</td>\n",
       "      <td>31.036550</td>\n",
       "    </tr>\n",
       "  </tbody>\n",
       "</table>\n",
       "</div>"
      ],
      "text/plain": [
       "      mpg  cylinders  horsepower  weight  acceleration  model_year  origin  \\\n",
       "102  26.0          4        46.0    1950          21.0          73  europe   \n",
       "19   26.0          4        46.0    1835          20.5          70  europe   \n",
       "326  43.4          4        48.0    2335          23.7          80  europe   \n",
       "325  44.3          4        48.0    2085          21.7          80  europe   \n",
       "244  43.1          4        48.0    1985          21.5          78  europe   \n",
       "\n",
       "                                name       pred      pred2  \n",
       "102          volkswagen super beetle  32.221659  31.304207  \n",
       "19      volkswagen 1131 deluxe sedan  32.221659  32.183651  \n",
       "326               vw dasher (diesel)  31.954363  28.359980  \n",
       "325             vw rabbit c (diesel)  31.954363  30.271815  \n",
       "244  volkswagen rabbit custom diesel  31.954363  31.036550  "
      ]
     },
     "execution_count": 120,
     "metadata": {},
     "output_type": "execute_result"
    }
   ],
   "source": [
    "# create in-sample predictions\n",
    "mpg_df = get_pred(mpg_df, model)\n",
    "\n",
    "mpg_df.head()"
   ]
  },
  {
   "cell_type": "code",
   "execution_count": 121,
   "metadata": {},
   "outputs": [
    {
     "data": {
      "image/png": "[encoded data removed]",
      "text/plain": [
       "<Figure size 576x576 with 1 Axes>"
      ]
     },
     "metadata": {},
     "output_type": "display_data"
    }
   ],
   "source": [
    "plot_pred(mpg_df)"
   ]
  },
  {
   "cell_type": "markdown",
   "metadata": {},
   "source": [
    "<div class = \"alert alert-info\">\n",
    "<h3> Your turn</h3>\n",
    "    \n",
    "<p> In linear regression models it is common to include the year variable as a categorical variable instead of as a continuous variable. These are known as year dummies. Expand the model above with <code>model_year</code> as a categorical variable. Display the predictions along the 45 degree line. \n",
    "    \n",
    "</p>\n",
    "</div>"
   ]
  },
  {
   "cell_type": "markdown",
   "metadata": {},
   "source": [
    "**Solution**\n",
    "\n",
    "<details>\n",
    "    \n",
    "<summary> Click to expand!</summary>\n",
    "<p> \n",
    "\n",
    "```c#\n",
    "# expand the model formula\n",
    "formula = 'mpg ~ horsepower + C(origin) + C(model_year)'\n",
    "\n",
    "# estimate model\n",
    "model = get_model(formula, mpg_df)\n",
    "\n",
    "# create in-sample predictions\n",
    "mpg_df = get_pred(mpg_df, model)\n",
    "\n",
    "# display predictions\n",
    "plot_pred(mpg_df)\n",
    "```\n",
    "\n",
    "</p>\n",
    "</details> "
   ]
  },
  {
   "cell_type": "code",
   "execution_count": 123,
   "metadata": {},
   "outputs": [
    {
     "data": {
      "image/png": "[encoded data removed]",
      "text/plain": [
       "<Figure size 576x576 with 1 Axes>"
      ]
     },
     "metadata": {},
     "output_type": "display_data"
    }
   ],
   "source": [
    "formula = 'mpg ~ horsepower + C(model_year)'\n",
    "model = get_model(formula, mpg_df)\n",
    "\n",
    "# model summary\n",
    "model.summary()\n",
    "mpg_df = get_pred(mpg_df, model)\n",
    "\n",
    "mpg_df.head()\n",
    "plot_pred(mpg_df)"
   ]
  },
  {
   "cell_type": "code",
   "execution_count": null,
   "metadata": {},
   "outputs": [],
   "source": []
  },
  {
   "cell_type": "markdown",
   "metadata": {},
   "source": [
    "## Mandatory exercise part 2\n",
    "\n",
    "The presence of outliers, i.e. observations with \"untypical\" values, can heavliy influence our regression results. An important step in statistical analysis is therefore to investigate the presence of potential outliers.\n",
    "\n",
    "In the simple regression model that we estimated first we saw that we the model consistently underpredicted `mpg` at high levels of actual `mpg`. Could this be caused by some car models having untypical/extreme levels of horsepower?\n",
    "\n",
    "Import `mpg.xlsx` and explore the presence of extreme values of horsepower in the data and its effect on the simple regression model (`mpg ~ horsepower`).\n",
    "\n",
    "1. Check for outliers in `horsepower`. Present whatever descriptive and/or graphical analysis that you see fit.\n",
    "\n",
    "\n",
    "2. Explore how much dropping a single observation, i.e. car model, from the data affects the estimated coefficient on `horsepower`:\n",
    "\n",
    "    a. Create a function called `get_beta` that estimates a simple regression model and returns the beta coefficient for the explanatory/independent variable. The function should take three inputs: `df` (the dataset), `dep` (column name of the dependent variable) and `indep` (column name for the independent variable). \n",
    "    \n",
    "    b. Ceate a `for` loop where you in each iteration drop an observation from the data and use `get_beta` to retreieve the beta coefficient from that model. Notice that in the first iteration you should drop the first observation. In the second iteration you should keep the first observation but drop the second observation. In the third iteration you should keep the first and second observations, but drop the third one, and so on...\n",
    "    \n",
    "    c. Show a histogram of the estimated beta coefficients. What is your verdict? Does it seem that the estimated coefficient on `horsepower` is affected by the presence of outliers?\n",
    "\n",
    "\n"
   ]
  },
  {
   "cell_type": "code",
   "execution_count": 3,
   "metadata": {},
   "outputs": [
    {
     "data": {
      "image/png": "[encoded data removed]",
      "text/plain": [
       "<Figure size 432x288 with 1 Axes>"
      ]
     },
     "metadata": {
      "needs_background": "light"
     },
     "output_type": "display_data"
    }
   ],
   "source": [
    "mpg_df = pd.read_excel(\"data/mpg.xlsx\")\n",
    "\n",
    "fig, ax = plt.subplots()\n",
    "\n",
    "ax.scatter(mpg_df['mpg'],\n",
    "       mpg_df['horsepower'])\n",
    "\n",
    "plt.show()\n"
   ]
  },
  {
   "cell_type": "code",
   "execution_count": 14,
   "metadata": {},
   "outputs": [
    {
     "data": {
      "text/plain": [
       "count    392.000000\n",
       "mean     104.469388\n",
       "std       38.491160\n",
       "min       46.000000\n",
       "25%       75.000000\n",
       "50%       93.500000\n",
       "75%      126.000000\n",
       "max      230.000000\n",
       "Name: horsepower, dtype: float64"
      ]
     },
     "execution_count": 14,
     "metadata": {},
     "output_type": "execute_result"
    }
   ],
   "source": [
    "mpg_df[\"horsepower\"].describe()\n",
    "\n",
    "#We have a few outliers, those with a lot of horsepower bu the same miles per gallon as cars with low horsepower."
   ]
  },
  {
   "cell_type": "code",
   "execution_count": 15,
   "metadata": {},
   "outputs": [
    {
     "data": {
      "text/plain": [
       "-0.158"
      ]
     },
     "execution_count": 15,
     "metadata": {},
     "output_type": "execute_result"
    }
   ],
   "source": [
    "def get_beta(df,dep,indep):\n",
    "\n",
    "    formula = ''+dep+' ~ '+indep+''\n",
    "    model = get_model(formula, df)\n",
    "    \n",
    "    return model.params[1].round(3)\n",
    "   \n",
    "get_beta(mpg_df,'mpg','horsepower')"
   ]
  },
  {
   "cell_type": "code",
   "execution_count": 13,
   "metadata": {},
   "outputs": [
    {
     "data": {
      "text/plain": [
       "[-0.158,\n",
       " -0.158,\n",
       " -0.158,\n",
       " -0.158,\n",
       " -0.158,\n",
       " -0.159,\n",
       " -0.16,\n",
       " -0.159,\n",
       " -0.16,\n",
       " -0.159,\n",
       " -0.158,\n",
       " -0.158,\n",
       " -0.158,\n",
       " -0.16,\n",
       " -0.158,\n",
       " -0.158,\n",
       " -0.158,\n",
       " -0.158,\n",
       " -0.158,\n",
       " -0.159,\n",
       " -0.158,\n",
       " -0.158,\n",
       " -0.158,\n",
       " -0.158,\n",
       " -0.158,\n",
       " -0.159,\n",
       " -0.158,\n",
       " -0.159,\n",
       " -0.158,\n",
       " -0.158,\n",
       " -0.158,\n",
       " -0.158,\n",
       " -0.158,\n",
       " -0.158,\n",
       " -0.158,\n",
       " -0.158,\n",
       " -0.158,\n",
       " -0.158,\n",
       " -0.158,\n",
       " -0.158,\n",
       " -0.158,\n",
       " -0.158,\n",
       " -0.158,\n",
       " -0.158,\n",
       " -0.158,\n",
       " -0.158,\n",
       " -0.158,\n",
       " -0.158,\n",
       " -0.158,\n",
       " -0.158,\n",
       " -0.158,\n",
       " -0.158,\n",
       " -0.158,\n",
       " -0.158,\n",
       " -0.157,\n",
       " -0.158,\n",
       " -0.158,\n",
       " -0.158,\n",
       " -0.158,\n",
       " -0.159,\n",
       " -0.158,\n",
       " -0.158,\n",
       " -0.158,\n",
       " -0.158,\n",
       " -0.158,\n",
       " -0.158,\n",
       " -0.158,\n",
       " -0.159,\n",
       " -0.158,\n",
       " -0.158,\n",
       " -0.158,\n",
       " -0.158,\n",
       " -0.158,\n",
       " -0.158,\n",
       " -0.158,\n",
       " -0.158,\n",
       " -0.158,\n",
       " -0.158,\n",
       " -0.158,\n",
       " -0.158,\n",
       " -0.158,\n",
       " -0.158,\n",
       " -0.158,\n",
       " -0.158,\n",
       " -0.158,\n",
       " -0.158,\n",
       " -0.158,\n",
       " -0.158,\n",
       " -0.158,\n",
       " -0.158,\n",
       " -0.158,\n",
       " -0.158,\n",
       " -0.158,\n",
       " -0.158,\n",
       " -0.159,\n",
       " -0.159,\n",
       " -0.158,\n",
       " -0.158,\n",
       " -0.158,\n",
       " -0.158,\n",
       " -0.158,\n",
       " -0.158,\n",
       " -0.159,\n",
       " -0.157,\n",
       " -0.158,\n",
       " -0.158,\n",
       " -0.158,\n",
       " -0.158,\n",
       " -0.158,\n",
       " -0.158,\n",
       " -0.158,\n",
       " -0.158,\n",
       " -0.158,\n",
       " -0.158,\n",
       " -0.158,\n",
       " -0.158,\n",
       " -0.161,\n",
       " -0.158,\n",
       " -0.158,\n",
       " -0.158,\n",
       " -0.158,\n",
       " -0.158,\n",
       " -0.158,\n",
       " -0.158,\n",
       " -0.158,\n",
       " -0.158,\n",
       " -0.158,\n",
       " -0.158,\n",
       " -0.158,\n",
       " -0.158,\n",
       " -0.158,\n",
       " -0.158,\n",
       " -0.158,\n",
       " -0.158,\n",
       " -0.158,\n",
       " -0.158,\n",
       " -0.158,\n",
       " -0.158,\n",
       " -0.158,\n",
       " -0.158,\n",
       " -0.158,\n",
       " -0.158,\n",
       " -0.158,\n",
       " -0.158,\n",
       " -0.158,\n",
       " -0.158,\n",
       " -0.158,\n",
       " -0.158,\n",
       " -0.158,\n",
       " -0.158,\n",
       " -0.158,\n",
       " -0.158,\n",
       " -0.158,\n",
       " -0.158,\n",
       " -0.159,\n",
       " -0.159,\n",
       " -0.158,\n",
       " -0.158,\n",
       " -0.158,\n",
       " -0.158,\n",
       " -0.158,\n",
       " -0.158,\n",
       " -0.158,\n",
       " -0.158,\n",
       " -0.158,\n",
       " -0.158,\n",
       " -0.158,\n",
       " -0.158,\n",
       " -0.158,\n",
       " -0.158,\n",
       " -0.158,\n",
       " -0.158,\n",
       " -0.158,\n",
       " -0.158,\n",
       " -0.158,\n",
       " -0.158,\n",
       " -0.158,\n",
       " -0.158,\n",
       " -0.158,\n",
       " -0.158,\n",
       " -0.158,\n",
       " -0.158,\n",
       " -0.158,\n",
       " -0.158,\n",
       " -0.158,\n",
       " -0.158,\n",
       " -0.158,\n",
       " -0.158,\n",
       " -0.158,\n",
       " -0.158,\n",
       " -0.158,\n",
       " -0.158,\n",
       " -0.158,\n",
       " -0.158,\n",
       " -0.158,\n",
       " -0.158,\n",
       " -0.158,\n",
       " -0.158,\n",
       " -0.158,\n",
       " -0.158,\n",
       " -0.158,\n",
       " -0.158,\n",
       " -0.158,\n",
       " -0.158,\n",
       " -0.158,\n",
       " -0.158,\n",
       " -0.158,\n",
       " -0.158,\n",
       " -0.158,\n",
       " -0.158,\n",
       " -0.158,\n",
       " -0.158,\n",
       " -0.159,\n",
       " -0.158,\n",
       " -0.158,\n",
       " -0.158,\n",
       " -0.158,\n",
       " -0.158,\n",
       " -0.157,\n",
       " -0.158,\n",
       " -0.158,\n",
       " -0.158,\n",
       " -0.158,\n",
       " -0.158,\n",
       " -0.158,\n",
       " -0.158,\n",
       " -0.158,\n",
       " -0.158,\n",
       " -0.158,\n",
       " -0.158,\n",
       " -0.158,\n",
       " -0.159,\n",
       " -0.158,\n",
       " -0.158,\n",
       " -0.158,\n",
       " -0.158,\n",
       " -0.158,\n",
       " -0.158,\n",
       " -0.158,\n",
       " -0.158,\n",
       " -0.158,\n",
       " -0.158,\n",
       " -0.158,\n",
       " -0.158,\n",
       " -0.157,\n",
       " -0.157,\n",
       " -0.158,\n",
       " -0.157,\n",
       " -0.157,\n",
       " -0.158,\n",
       " -0.158,\n",
       " -0.158,\n",
       " -0.158,\n",
       " -0.158,\n",
       " -0.158,\n",
       " -0.158,\n",
       " -0.158,\n",
       " -0.158,\n",
       " -0.158,\n",
       " -0.158,\n",
       " -0.158,\n",
       " -0.158,\n",
       " -0.158,\n",
       " -0.158,\n",
       " -0.158,\n",
       " -0.158,\n",
       " -0.158,\n",
       " -0.158,\n",
       " -0.158,\n",
       " -0.158,\n",
       " -0.158,\n",
       " -0.158,\n",
       " -0.158,\n",
       " -0.158,\n",
       " -0.158,\n",
       " -0.158,\n",
       " -0.158,\n",
       " -0.158,\n",
       " -0.158,\n",
       " -0.158,\n",
       " -0.158,\n",
       " -0.158,\n",
       " -0.158,\n",
       " -0.158,\n",
       " -0.158,\n",
       " -0.158,\n",
       " -0.158,\n",
       " -0.158,\n",
       " -0.158,\n",
       " -0.158,\n",
       " -0.158,\n",
       " -0.158,\n",
       " -0.158,\n",
       " -0.158,\n",
       " -0.158,\n",
       " -0.157,\n",
       " -0.158,\n",
       " -0.158,\n",
       " -0.158,\n",
       " -0.158,\n",
       " -0.158,\n",
       " -0.158,\n",
       " -0.158,\n",
       " -0.158,\n",
       " -0.157,\n",
       " -0.158,\n",
       " -0.158,\n",
       " -0.158,\n",
       " -0.158,\n",
       " -0.157,\n",
       " -0.157,\n",
       " -0.158,\n",
       " -0.157,\n",
       " -0.158,\n",
       " -0.158,\n",
       " -0.158,\n",
       " -0.158,\n",
       " -0.158,\n",
       " -0.158,\n",
       " -0.158,\n",
       " -0.158,\n",
       " -0.158,\n",
       " -0.157,\n",
       " -0.158,\n",
       " -0.157,\n",
       " -0.157,\n",
       " -0.157,\n",
       " -0.157,\n",
       " -0.158,\n",
       " -0.157,\n",
       " -0.158,\n",
       " -0.158,\n",
       " -0.158,\n",
       " -0.158,\n",
       " -0.158,\n",
       " -0.158,\n",
       " -0.158,\n",
       " -0.158,\n",
       " -0.158,\n",
       " -0.158,\n",
       " -0.158,\n",
       " -0.158,\n",
       " -0.158,\n",
       " -0.157,\n",
       " -0.157,\n",
       " -0.157,\n",
       " -0.158,\n",
       " -0.157,\n",
       " -0.157,\n",
       " -0.158,\n",
       " -0.158,\n",
       " -0.158,\n",
       " -0.158,\n",
       " -0.158,\n",
       " -0.158,\n",
       " -0.158,\n",
       " -0.158,\n",
       " -0.158,\n",
       " -0.158,\n",
       " -0.158,\n",
       " -0.158,\n",
       " -0.158,\n",
       " -0.158,\n",
       " -0.158,\n",
       " -0.158,\n",
       " -0.158,\n",
       " -0.158,\n",
       " -0.158,\n",
       " -0.158,\n",
       " -0.158,\n",
       " -0.158,\n",
       " -0.158,\n",
       " -0.158,\n",
       " -0.158,\n",
       " -0.158,\n",
       " -0.157,\n",
       " -0.157,\n",
       " -0.158,\n",
       " -0.157,\n",
       " -0.157,\n",
       " -0.158,\n",
       " -0.157,\n",
       " -0.158,\n",
       " -0.157,\n",
       " -0.158,\n",
       " -0.157,\n",
       " -0.158,\n",
       " -0.157,\n",
       " -0.158,\n",
       " -0.158,\n",
       " -0.158,\n",
       " -0.158,\n",
       " -0.158,\n",
       " -0.158,\n",
       " -0.157,\n",
       " -0.158,\n",
       " -0.158,\n",
       " -0.158]"
      ]
     },
     "execution_count": 13,
     "metadata": {},
     "output_type": "execute_result"
    }
   ],
   "source": [
    "list_beta = []\n",
    "for i in range(len(mpg_df)):\n",
    "    mpg_df2 = mpg_df.drop(labels=i,axis=0)\n",
    "    beta = get_beta(mpg_df2,'mpg','horsepower')\n",
    "    list_beta.append(beta)\n",
    "    \n",
    "    \n",
    "list_beta\n",
    "    \n"
   ]
  },
  {
   "cell_type": "code",
   "execution_count": 16,
   "metadata": {},
   "outputs": [
    {
     "data": {
      "image/png": "[encoded data removed]",
      "text/plain": [
       "<Figure size 432x288 with 1 Axes>"
      ]
     },
     "metadata": {
      "needs_background": "light"
     },
     "output_type": "display_data"
    }
   ],
   "source": [
    "\n",
    "fig, ax = plt.subplots()\n",
    "\n",
    "ax.hist(list_beta,\n",
    "       bins=20\n",
    "       ,edgecolor=\"black\")\n",
    "\n",
    "plt.show()"
   ]
  },
  {
   "cell_type": "code",
   "execution_count": null,
   "metadata": {},
   "outputs": [],
   "source": [
    "#we clearly have som outliers. At least the observation that makes the coefficient go from -0,158 to -0,161."
   ]
  }
 ],
 "metadata": {
  "kernelspec": {
   "display_name": "Python 3 (ipykernel)",
   "language": "python",
   "name": "python3"
  },
  "language_info": {
   "codemirror_mode": {
    "name": "ipython",
    "version": 3
   },
   "file_extension": ".py",
   "mimetype": "text/x-python",
   "name": "python",
   "nbconvert_exporter": "python",
   "pygments_lexer": "ipython3",
   "version": "3.9.7"
  }
 },
 "nbformat": 4,
 "nbformat_minor": 4
}
