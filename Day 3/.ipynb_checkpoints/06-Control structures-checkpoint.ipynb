{
 "cells": [
  {
   "cell_type": "markdown",
   "metadata": {},
   "source": [
    "# 06-Control structures\n",
    "\n",
    "This notebook gives an introduction to different control structures that we can use in Python programs."
   ]
  },
  {
   "cell_type": "markdown",
   "metadata": {},
   "source": [
    "So far we have executed our Python programs line-by-line. However, sometimes we want to control the order that instructions (i.e. code) are executed in the program. \n",
    "\n",
    "There are three fundamental forms of control structure in programming.\n",
    "\n",
    "- Sequential - executes code line-by-line (default mode)\n",
    "- Selection - executes a piece of code based on a condition\n",
    "- Iterative - repeats a piece of code multiple times (looping)"
   ]
  },
  {
   "cell_type": "markdown",
   "metadata": {},
   "source": [
    "<img src=\"images/control_structure.png\" width = \"70%\" align=\"left\"/>"
   ]
  },
  {
   "cell_type": "markdown",
   "metadata": {},
   "source": [
    "We have already seen sequential control. Now we will take a look at selection control and iterative control."
   ]
  },
  {
   "cell_type": "code",
   "execution_count": 1,
   "metadata": {},
   "outputs": [],
   "source": [
    "import pandas as pd\n",
    "import matplotlib.pyplot as plt"
   ]
  },
  {
   "cell_type": "code",
   "execution_count": 2,
   "metadata": {},
   "outputs": [],
   "source": [
    "plt.style.use('ggplot')"
   ]
  },
  {
   "cell_type": "code",
   "execution_count": null,
   "metadata": {},
   "outputs": [],
   "source": []
  },
  {
   "cell_type": "markdown",
   "metadata": {},
   "source": [
    "## Selection control\n",
    "\n",
    "`if` statements allow us to select which part of the code to execute based on a condition."
   ]
  },
  {
   "cell_type": "markdown",
   "metadata": {},
   "source": [
    "We have seen how we can create conditions using relational operators (`==`, `<`, `<=`, `>`, `>=` and `!=`). The output of these conditions will be one of the boolean values, `True` or `False`."
   ]
  },
  {
   "cell_type": "code",
   "execution_count": 3,
   "metadata": {},
   "outputs": [],
   "source": [
    "score = 70"
   ]
  },
  {
   "cell_type": "code",
   "execution_count": 4,
   "metadata": {},
   "outputs": [
    {
     "data": {
      "text/plain": [
       "False"
      ]
     },
     "execution_count": 4,
     "metadata": {},
     "output_type": "execute_result"
    }
   ],
   "source": [
    "score == 100"
   ]
  },
  {
   "cell_type": "markdown",
   "metadata": {},
   "source": [
    "`if` statements consists of a header starting with the `if` keyword, a condition and a colon, and then an indentend block of code. \n",
    "\n",
    "```\n",
    "if <condition>:\n",
    "    <code block>\n",
    "```"
   ]
  },
  {
   "cell_type": "markdown",
   "metadata": {},
   "source": [
    "The `if` statment will execute the indented block of code *only* if the condition is `True`."
   ]
  },
  {
   "cell_type": "code",
   "execution_count": 5,
   "metadata": {},
   "outputs": [],
   "source": [
    "if score == 100:\n",
    "    print('Perfect score!')"
   ]
  },
  {
   "cell_type": "markdown",
   "metadata": {},
   "source": [
    "However, notice that all code *outside* of the indented code block will still be executed even if the condition is not true."
   ]
  },
  {
   "cell_type": "code",
   "execution_count": 6,
   "metadata": {},
   "outputs": [
    {
     "name": "stdout",
     "output_type": "stream",
     "text": [
      "Always print this.\n"
     ]
    }
   ],
   "source": [
    "if score == 100:\n",
    "    print('Perfect score!')\n",
    "    \n",
    "    \n",
    "print('Always print this.')    "
   ]
  },
  {
   "cell_type": "markdown",
   "metadata": {},
   "source": [
    "We can add alternative instructions by combining an `if` statement with an `else` statement.\n",
    "\n",
    "The code inside the `else` statement will only be executed if the condition in the `if` statement is not `True`. Notice that the `else` statement does not take a condition."
   ]
  },
  {
   "cell_type": "code",
   "execution_count": 7,
   "metadata": {},
   "outputs": [
    {
     "name": "stdout",
     "output_type": "stream",
     "text": [
      "Not perfect score.\n"
     ]
    }
   ],
   "source": [
    "if score == 100:\n",
    "    print('Perfect score!')\n",
    "    \n",
    "else:\n",
    "    print('Not perfect score.')"
   ]
  },
  {
   "cell_type": "markdown",
   "metadata": {},
   "source": [
    "Sometimes we want to make a decision based on something more than an \"either-or\" condition.\n",
    "\n",
    "We can add more alternatives by using `elif` statements. The program will terminate once it encounters the first condition that is evaluated to be `True`.\n",
    "\n",
    "We can then end with a \"catch-all\" `else` statement."
   ]
  },
  {
   "cell_type": "code",
   "execution_count": 8,
   "metadata": {},
   "outputs": [
    {
     "name": "stdout",
     "output_type": "stream",
     "text": [
      "Grade is not A or B.\n"
     ]
    }
   ],
   "source": [
    "if score >= 90:\n",
    "    print('Grade: A')\n",
    "        \n",
    "elif score >= 80:\n",
    "    print('Grade: B')\n",
    "    \n",
    "else:\n",
    "    print('Grade is not A or B.')"
   ]
  },
  {
   "cell_type": "markdown",
   "metadata": {},
   "source": [
    "We can add as many `elif` statements that we want!"
   ]
  },
  {
   "cell_type": "code",
   "execution_count": 9,
   "metadata": {},
   "outputs": [
    {
     "name": "stdout",
     "output_type": "stream",
     "text": [
      "Grade: C\n"
     ]
    }
   ],
   "source": [
    "if score >= 90:\n",
    "    print('Grade: A')\n",
    "        \n",
    "elif score >= 80:\n",
    "    print('Grade: B')\n",
    "            \n",
    "elif score >= 70:\n",
    "    print('Grade: C')\n",
    "    \n",
    "else:\n",
    "    print('Grade is not A, B or C.')"
   ]
  },
  {
   "cell_type": "markdown",
   "metadata": {},
   "source": [
    "<div class=\"alert alert-info\">\n",
    "<h3> Your turn</h3>\n",
    "    <p> Add more <code>elif</code> statements to the code above so that we also test for whether the grade is D or E. \n",
    "        \n",
    "Assume that a score of 60-69 results in a D, while a score of 50-59 results in an E.\n",
    "</div>"
   ]
  },
  {
   "cell_type": "markdown",
   "metadata": {},
   "source": [
    "**Solution**\n",
    "\n",
    "<details>\n",
    "    \n",
    "<summary> Click to expand!</summary>\n",
    "<p> \n",
    "\n",
    "```c#\n",
    "if score >= 90:\n",
    "    print('Grade: A')\n",
    "        \n",
    "elif score >= 80:\n",
    "    print('Grade: B')\n",
    "            \n",
    "elif score >= 70:\n",
    "    print('Grade: C')\n",
    "\n",
    "elif score >= 60:\n",
    "    print('Grade: D')\n",
    "    \n",
    "elif score >= 50:\n",
    "    print('Grade: E')\n",
    "    \n",
    "else:\n",
    "    print('Grade is F.')\n",
    "\n",
    "```\n",
    "\n",
    "</p>\n",
    "</details> "
   ]
  },
  {
   "cell_type": "code",
   "execution_count": null,
   "metadata": {},
   "outputs": [],
   "source": [
    "if score >= 90:\n",
    "    print('Grade: A')\n",
    "        \n",
    "elif score >= 80:\n",
    "    print('Grade: B')\n",
    "            \n",
    "elif score >= 70:\n",
    "    print('Grade: C')\n",
    "elif score >=60:\n",
    "    print(\"Grade: D\")\n",
    "elif score >=50:\n",
    "    print(\"Grade: E\")\n"
   ]
  },
  {
   "cell_type": "markdown",
   "metadata": {},
   "source": [
    "In addition to the boolean operators (e.g. `<=`), we have the membership operator `in`. We can use the membership operator to test whether a value is found in a sequence of values. "
   ]
  },
  {
   "cell_type": "code",
   "execution_count": null,
   "metadata": {},
   "outputs": [],
   "source": [
    "'C' in ['A', 'B', 'C', 'D', 'E']"
   ]
  },
  {
   "cell_type": "code",
   "execution_count": null,
   "metadata": {},
   "outputs": [],
   "source": [
    "'F' in ['A', 'B', 'C', 'D', 'E']"
   ]
  },
  {
   "cell_type": "code",
   "execution_count": null,
   "metadata": {},
   "outputs": [],
   "source": [
    "passing_grades = ['A', 'B', 'C', 'D', 'E']\n",
    "grade = 'F'\n",
    "\n",
    "if grade in passing_grades:\n",
    "    print('You have received a passing grade')\n",
    "    \n",
    "else:\n",
    "    print('You have recieved a failing grade.')"
   ]
  },
  {
   "cell_type": "markdown",
   "metadata": {},
   "source": [
    "We have already seen that we can test for multiple conditions simultanously using the `and` and `or` keywords."
   ]
  },
  {
   "cell_type": "code",
   "execution_count": null,
   "metadata": {},
   "outputs": [],
   "source": [
    "score = 70\n",
    "#score = 84"
   ]
  },
  {
   "cell_type": "code",
   "execution_count": null,
   "metadata": {},
   "outputs": [],
   "source": [
    "(score < 90) and (score >= 80)"
   ]
  },
  {
   "cell_type": "code",
   "execution_count": null,
   "metadata": {},
   "outputs": [],
   "source": [
    "if (score < 90) and (score >= 80):\n",
    "    print('Grade: B')\n",
    "\n",
    "else:\n",
    "    print('Grade is not B.')"
   ]
  },
  {
   "cell_type": "code",
   "execution_count": null,
   "metadata": {},
   "outputs": [],
   "source": [
    "score = 70\n",
    "#score = 102"
   ]
  },
  {
   "cell_type": "code",
   "execution_count": null,
   "metadata": {},
   "outputs": [],
   "source": [
    "if (score < 0) or (score > 100):\n",
    "    print('Invalid score!')\n",
    "\n",
    "else:\n",
    "    print('Valid score.')"
   ]
  },
  {
   "cell_type": "markdown",
   "metadata": {},
   "source": [
    "<div class=\"alert alert-info\">\n",
    "<h3> Your turn</h3>\n",
    "    <p> In the US, people can drive when they turn 16, vote when they turn 18 and drink when they turn 21. \n",
    "        \n",
    "Create a series of <code>if</code> and <code>elif</code> statements that print whether a person can drive, drink and/or vote for given values on an <code>age</code> variable. Remember to end with an <code>else</code> statement.\n",
    "       \n",
    "</div>"
   ]
  },
  {
   "cell_type": "markdown",
   "metadata": {},
   "source": [
    "**Solution**\n",
    "\n",
    "<details>\n",
    "    \n",
    "<summary> Click to expand!</summary>\n",
    "<p> \n",
    "\n",
    "```c#\n",
    "age = int(input('Please enter your age: '))\n",
    "\n",
    "if age < 16:\n",
    "    print('You cannot drive, vote or drink.')\n",
    "    \n",
    "elif (age >= 16) and (age < 18):\n",
    "    print('You can drive.')\n",
    "    \n",
    "elif (age >= 18) and (age < 21):\n",
    "    print('You can drive and vote.')\n",
    "    \n",
    "else:\n",
    "    print('You can drive, vote and drink.')\n",
    "```\n",
    "\n",
    "</p>\n",
    "</details> "
   ]
  },
  {
   "cell_type": "code",
   "execution_count": null,
   "metadata": {},
   "outputs": [],
   "source": []
  },
  {
   "cell_type": "markdown",
   "metadata": {},
   "source": [
    "It is not only `print` statements that we can place inside the `if` statements."
   ]
  },
  {
   "cell_type": "markdown",
   "metadata": {},
   "source": [
    "Let us import the `titanic` data. However, the data is stored in two different file formats: `titanic.csv` and `titanic.xlsx`. Which function we should use to import the data depends on the file format."
   ]
  },
  {
   "cell_type": "code",
   "execution_count": null,
   "metadata": {},
   "outputs": [],
   "source": [
    "file_name = 'data/titanic.csv'\n",
    "#file_name = 'data/titanic.xlsx'\n",
    "\n",
    "file_name"
   ]
  },
  {
   "cell_type": "code",
   "execution_count": null,
   "metadata": {},
   "outputs": [],
   "source": [
    "file_name.split('.')[-1]"
   ]
  },
  {
   "cell_type": "code",
   "execution_count": null,
   "metadata": {},
   "outputs": [],
   "source": [
    "file_type = file_name.split('.')[-1]\n",
    "\n",
    "file_type"
   ]
  },
  {
   "cell_type": "code",
   "execution_count": null,
   "metadata": {},
   "outputs": [],
   "source": [
    "if file_type == 'csv':\n",
    "    print('This is a csv file')\n",
    "    \n",
    "else:\n",
    "    print('This is not a csv file')"
   ]
  },
  {
   "cell_type": "markdown",
   "metadata": {},
   "source": [
    "We can create an `if-else` statement that imports the file using `read_csv` if the file is a csv file."
   ]
  },
  {
   "cell_type": "code",
   "execution_count": null,
   "metadata": {},
   "outputs": [],
   "source": [
    "if file_type == 'csv':\n",
    "    \n",
    "    # import file\n",
    "    df = pd.read_csv(file_name)\n",
    "    \n",
    "    print('File imported as csv file.')\n",
    "    \n",
    "else:\n",
    "    print('This is not a csv file.')"
   ]
  },
  {
   "cell_type": "code",
   "execution_count": null,
   "metadata": {},
   "outputs": [],
   "source": [
    "df.head()"
   ]
  },
  {
   "cell_type": "markdown",
   "metadata": {},
   "source": [
    "<div class=\"alert alert-info\">\n",
    "<h3> Your turn</h3>\n",
    "    <p> Expand the code above to include an <code>elif</code> statement that imports the file using <code>read_excel</code> if it is an Excel file. Use the code to import the file <code>titanic.xlsx</code>.\n",
    "       \n",
    "</div>"
   ]
  },
  {
   "cell_type": "markdown",
   "metadata": {},
   "source": [
    "**Solution**\n",
    "\n",
    "<details>\n",
    "    \n",
    "<summary> Click to expand!</summary>\n",
    "<p> \n",
    "\n",
    "```c#\n",
    "if file_type == 'csv':\n",
    "    \n",
    "    # import file\n",
    "    df = pd.read_csv(file_name)\n",
    "    \n",
    "    print('File imported as csv file.')\n",
    "    \n",
    "elif file_type == 'xlsx':\n",
    "    \n",
    "    # import file\n",
    "    df = pd.read_excel(file_name)\n",
    "    \n",
    "    print('File imported as excel file.')\n",
    "\n",
    "    \n",
    "else:\n",
    "    print('This is not a csv or excel file.')\n",
    "```\n",
    "\n",
    "</p>\n",
    "</details> "
   ]
  },
  {
   "cell_type": "code",
   "execution_count": null,
   "metadata": {},
   "outputs": [],
   "source": []
  },
  {
   "cell_type": "markdown",
   "metadata": {},
   "source": [
    "## Iterative control \n",
    "\n",
    "In an iterative control structure we repeat the same block of code multiple times.\n",
    "\n",
    "We can use `for` loops to repeat a block of code a certain number of time."
   ]
  },
  {
   "cell_type": "markdown",
   "metadata": {},
   "source": [
    "A `for` loop is used to iterate over a sequence of values.\n",
    "\n",
    "It consists of a header starting with the `for` keyword, followed by the *loop variable*, a sequence of values, and then an indentend block of code. \n",
    "\n",
    "```\n",
    "for item in sequence:\n",
    "    <code block>\n",
    "```"
   ]
  },
  {
   "cell_type": "markdown",
   "metadata": {},
   "source": [
    "The sequence of values can for instance be a string. Notice that we often give the loop variable the name `i`."
   ]
  },
  {
   "cell_type": "code",
   "execution_count": null,
   "metadata": {},
   "outputs": [],
   "source": [
    "for i in 'Python':\n",
    "    print(i)"
   ]
  },
  {
   "cell_type": "markdown",
   "metadata": {},
   "source": [
    "We can also loop over the items in a list. "
   ]
  },
  {
   "cell_type": "code",
   "execution_count": null,
   "metadata": {},
   "outputs": [],
   "source": [
    "name_lst = ['Ole', 'Jenny', 'Chang', 'Jonas']"
   ]
  },
  {
   "cell_type": "markdown",
   "metadata": {},
   "source": [
    "Notice that it can be a good idea to give the loop variable a more intuitive name than simply `i`."
   ]
  },
  {
   "cell_type": "code",
   "execution_count": null,
   "metadata": {},
   "outputs": [],
   "source": [
    "for name in name_lst:\n",
    "    print(name)"
   ]
  },
  {
   "cell_type": "markdown",
   "metadata": {},
   "source": [
    "We can use the `range` function to build a sequence of integers that we can loop over. As a default, `range` starts with the integer 0. "
   ]
  },
  {
   "cell_type": "code",
   "execution_count": null,
   "metadata": {},
   "outputs": [],
   "source": [
    "for i in range(10):\n",
    "    print(i)"
   ]
  },
  {
   "cell_type": "markdown",
   "metadata": {},
   "source": [
    "Since `range` returns integers, we can perform arithmetic operations on the integers."
   ]
  },
  {
   "cell_type": "code",
   "execution_count": null,
   "metadata": {},
   "outputs": [],
   "source": [
    "for i in range(10):\n",
    "    \n",
    "    # square num\n",
    "    num2 = i**2\n",
    "    \n",
    "    print(num2)"
   ]
  },
  {
   "cell_type": "markdown",
   "metadata": {},
   "source": [
    "Notice that `num2` is assigned a new value in each iteration, meaning that only the last calculation is stored in our program."
   ]
  },
  {
   "cell_type": "code",
   "execution_count": null,
   "metadata": {},
   "outputs": [],
   "source": [
    "num2"
   ]
  },
  {
   "cell_type": "markdown",
   "metadata": {},
   "source": [
    "We can store our calculations by creating an empty list and then use `append` to store the calculation to the list in each iteration."
   ]
  },
  {
   "cell_type": "code",
   "execution_count": null,
   "metadata": {},
   "outputs": [],
   "source": [
    "# empty list to store numbers\n",
    "num2_lst = []\n",
    "\n",
    "# loop over range\n",
    "for i in range(10):\n",
    "    \n",
    "    # square num\n",
    "    num2 = i**2\n",
    "    \n",
    "    # append to list\n",
    "    num2_lst.append(num2)"
   ]
  },
  {
   "cell_type": "code",
   "execution_count": null,
   "metadata": {},
   "outputs": [],
   "source": [
    "num2_lst"
   ]
  },
  {
   "cell_type": "markdown",
   "metadata": {},
   "source": [
    "<div class=\"alert alert-info\">\n",
    "<h3> Your turn</h3>\n",
    "    <p> Create a list with the names of the members in your group. Loop over the list of names, convert each name to upper-case using <code>upper</code> and store the transformed name in an empty list.\n",
    "        \n",
    "</div>"
   ]
  },
  {
   "cell_type": "markdown",
   "metadata": {},
   "source": [
    "**Solution**\n",
    "\n",
    "<details>\n",
    "    \n",
    "<summary> Click to expand!</summary>\n",
    "<p> \n",
    "\n",
    "```c#\n",
    "name_lst = ['name1', 'name2', 'name3']\n",
    "\n",
    "# empty list to store names\n",
    "new_name_lst = []\n",
    "\n",
    "for name in name_lst:\n",
    "    \n",
    "    # convert name to upper-case\n",
    "    name_upper = name.upper()\n",
    "    \n",
    "    # append name to list\n",
    "    new_name_lst.append(name_upper)\n",
    "    \n",
    "print(new_name_lst)\n",
    "```\n",
    "\n",
    "</p>\n",
    "</details> "
   ]
  },
  {
   "cell_type": "code",
   "execution_count": null,
   "metadata": {},
   "outputs": [],
   "source": []
  },
  {
   "cell_type": "markdown",
   "metadata": {},
   "source": [
    "Let us convert all column names in the `apple` data to lower-case."
   ]
  },
  {
   "cell_type": "code",
   "execution_count": null,
   "metadata": {},
   "outputs": [],
   "source": [
    "apple = pd.read_csv('data/stocks/AAPL.csv')\n",
    "\n",
    "apple.head()"
   ]
  },
  {
   "cell_type": "markdown",
   "metadata": {},
   "source": [
    "Remember that a `DataFrame` has a `columns` attribute."
   ]
  },
  {
   "cell_type": "code",
   "execution_count": null,
   "metadata": {},
   "outputs": [],
   "source": [
    "apple.columns"
   ]
  },
  {
   "cell_type": "markdown",
   "metadata": {},
   "source": [
    "`columns` returns a list of the column names that we can use as the sequence to loop over.\n",
    "\n",
    "For each column name, we convert it to lower-case and store it in an empty list."
   ]
  },
  {
   "cell_type": "code",
   "execution_count": null,
   "metadata": {},
   "outputs": [],
   "source": [
    "# empty list\n",
    "col_names = []\n",
    "\n",
    "for col in apple.columns:\n",
    "    \n",
    "    # convert column name to lower case\n",
    "    col_lower = col.lower()\n",
    "    \n",
    "    # append to list\n",
    "    col_names.append(col_lower)"
   ]
  },
  {
   "cell_type": "code",
   "execution_count": null,
   "metadata": {},
   "outputs": [],
   "source": [
    "col_names"
   ]
  },
  {
   "cell_type": "markdown",
   "metadata": {},
   "source": [
    "We can change the names of the columns by assigning a new list of column names to the `columns` attribute using the `=` operator."
   ]
  },
  {
   "cell_type": "code",
   "execution_count": null,
   "metadata": {},
   "outputs": [],
   "source": [
    "apple.columns = col_names"
   ]
  },
  {
   "cell_type": "code",
   "execution_count": null,
   "metadata": {},
   "outputs": [],
   "source": [
    "apple.head()"
   ]
  },
  {
   "cell_type": "markdown",
   "metadata": {},
   "source": [
    "<div class=\"alert alert-info\">\n",
    "<h3> Your turn</h3>\n",
    "    <p> Convert all column names in <code>apple</code>, except the <code>date</code> column to upper-case.   \n",
    "      \n",
    "Hint: you should add an <code>if-else</code> statement inside the <code>for</code> loop.\n",
    "</div>"
   ]
  },
  {
   "cell_type": "markdown",
   "metadata": {},
   "source": [
    "**Solution**\n",
    "\n",
    "<details>\n",
    "    \n",
    "<summary> Click to expand!</summary>\n",
    "<p> \n",
    "\n",
    "```c#\n",
    "col_names = []\n",
    "\n",
    "for col in apple.columns:\n",
    "    \n",
    "    # convert to upper-case if not date and append to list\n",
    "    if col != 'date':\n",
    "    \n",
    "        col_upper = col.upper()\n",
    "\n",
    "        col_names.append(col_upper)\n",
    "       \n",
    "    # if col is date then append col to list as it is\n",
    "    else:\n",
    "        \n",
    "        col_names.append(col)\n",
    "\n",
    "# set columns equal to new list of names\n",
    "apple.columns = col_names\n",
    "\n",
    "apple.head()\n",
    "```\n",
    "\n",
    "</p>\n",
    "</details> "
   ]
  },
  {
   "cell_type": "code",
   "execution_count": null,
   "metadata": {},
   "outputs": [],
   "source": []
  },
  {
   "cell_type": "markdown",
   "metadata": {},
   "source": [
    "#### Looping over columns in a `DataFrame`"
   ]
  },
  {
   "cell_type": "markdown",
   "metadata": {},
   "source": [
    "`for` loops are especially helpful in data anlysis when we want to apply the same transformation to multiple columns in a `DataFrame`."
   ]
  },
  {
   "cell_type": "markdown",
   "metadata": {},
   "source": [
    "Let us import the `apple` data again."
   ]
  },
  {
   "cell_type": "code",
   "execution_count": null,
   "metadata": {},
   "outputs": [],
   "source": [
    "apple = pd.read_csv('data/stocks/AAPL.csv')\n",
    "\n",
    "apple.head()"
   ]
  },
  {
   "cell_type": "markdown",
   "metadata": {},
   "source": [
    "We can use `round` to round of the prices in `apple` to a specified number of decimals."
   ]
  },
  {
   "cell_type": "code",
   "execution_count": null,
   "metadata": {},
   "outputs": [],
   "source": [
    "apple['Open'] = apple['Open'].round(2)\n",
    "\n",
    "apple.head()"
   ]
  },
  {
   "cell_type": "markdown",
   "metadata": {},
   "source": [
    "Lets use a `for` loop to round all price columns in `apple` to two decimals."
   ]
  },
  {
   "cell_type": "code",
   "execution_count": null,
   "metadata": {},
   "outputs": [],
   "source": [
    "# loop over column names\n",
    "for col in ['Open', 'High', 'Low', 'Close', 'Adj Close']:\n",
    "    \n",
    "    # round column\n",
    "    apple[col] = apple[col].round(2)\n",
    "    \n",
    "    \n",
    "apple.head()"
   ]
  },
  {
   "cell_type": "markdown",
   "metadata": {},
   "source": [
    "<div class=\"alert alert-info\">\n",
    "<h3> Your turn</h3>\n",
    "    <p> Use <code>astype</code> to convert all price columns in the <code>apple</code> data from floats to integers.       \n",
    "</div>"
   ]
  },
  {
   "cell_type": "markdown",
   "metadata": {},
   "source": [
    "**Solution**\n",
    "\n",
    "<details>\n",
    "    \n",
    "<summary> Click to expand!</summary>\n",
    "<p> \n",
    "\n",
    "```c#\n",
    "# Alternative 1:\n",
    "    \n",
    "for col in ['Open', 'High', 'Low', 'Close', 'Adj Close']:\n",
    "    apple[col] = apple[col].astype(int)\n",
    "     \n",
    "# Alternative 2:\n",
    "    \n",
    "for col in apple.columns:\n",
    "    if col != 'Date' and col != 'Volume': # notice that we must use \"and\" instead of \"&\"\n",
    "        apple[col] = apple[col].astype(int)   \n",
    "```\n",
    "\n",
    "</p>\n",
    "</details> "
   ]
  },
  {
   "cell_type": "code",
   "execution_count": null,
   "metadata": {},
   "outputs": [],
   "source": []
  },
  {
   "cell_type": "markdown",
   "metadata": {},
   "source": [
    "#### Looping over multiple files"
   ]
  },
  {
   "cell_type": "markdown",
   "metadata": {},
   "source": [
    "`for` loops are also very helpful when we have to extract data from multiple data files."
   ]
  },
  {
   "cell_type": "markdown",
   "metadata": {},
   "source": [
    "The folder `stocks` contains price and volume data for ten different stocks.\n",
    "\n",
    "Assume that we want to create a new `DataFrame` that contains only the `Date` and `Close` columns from each of the files.\n",
    "In addition, we want to create a new column `Stock` that contains the name of the stock."
   ]
  },
  {
   "cell_type": "code",
   "execution_count": null,
   "metadata": {},
   "outputs": [],
   "source": [
    "# define path and file name\n",
    "path = 'data/stocks/'\n",
    "file = 'AAPL.csv'\n",
    "\n",
    "# import file\n",
    "apple = pd.read_csv(path + file)\n",
    "\n",
    "apple.head()"
   ]
  },
  {
   "cell_type": "markdown",
   "metadata": {},
   "source": [
    "We first extract the columns that we want. We are subsetting a `DataFrame`, so remember to use `copy`!"
   ]
  },
  {
   "cell_type": "code",
   "execution_count": null,
   "metadata": {},
   "outputs": [],
   "source": [
    "apple = apple[['Date', 'Close']].copy() \n",
    "\n",
    "apple.head()"
   ]
  },
  {
   "cell_type": "markdown",
   "metadata": {},
   "source": [
    "We then create a new column for the stock name."
   ]
  },
  {
   "cell_type": "code",
   "execution_count": null,
   "metadata": {},
   "outputs": [],
   "source": [
    "stock = file.split('.')[0]\n",
    "\n",
    "stock"
   ]
  },
  {
   "cell_type": "code",
   "execution_count": null,
   "metadata": {},
   "outputs": [],
   "source": [
    "apple['Stock'] = stock\n",
    "\n",
    "apple.head()"
   ]
  },
  {
   "cell_type": "markdown",
   "metadata": {},
   "source": [
    "If we want to do the same transformations to all of the files in the `stocks` folder, we have two alternatives:\n",
    "1. Manually repeat the code above for each file. Boring!\n",
    "2. Repeat the code above for each file in a `for` loop. Fun!"
   ]
  },
  {
   "cell_type": "markdown",
   "metadata": {},
   "source": [
    "We first have to create a list of all of the file names to loop over.\n",
    "\n",
    "The package `os` has the function `listdir` that creates a list of all of the files in a specific folder."
   ]
  },
  {
   "cell_type": "code",
   "execution_count": null,
   "metadata": {},
   "outputs": [],
   "source": [
    "# import package\n",
    "import os\n",
    "\n",
    "# create list of files in data/stock\n",
    "file_lst = os.listdir('data/stocks')\n",
    "\n",
    "file_lst"
   ]
  },
  {
   "cell_type": "markdown",
   "metadata": {},
   "source": [
    "We can now loop over the file names, perform the transformations on each file, and store the transformed data in an empty list."
   ]
  },
  {
   "cell_type": "code",
   "execution_count": null,
   "metadata": {},
   "outputs": [],
   "source": [
    "# empty list to store dfs\n",
    "df_lst = []\n",
    "\n",
    "# path to files\n",
    "path = 'data/stocks/'\n",
    "\n",
    "\n",
    "for file in file_lst:\n",
    "    \n",
    "    # import file\n",
    "    df_temp = pd.read_csv(path + file)\n",
    "    \n",
    "    # extract columns\n",
    "    df_temp = df_temp[['Date', 'Close']].copy()\n",
    "    \n",
    "    # define stock name\n",
    "    stock = file.split('.')[0]\n",
    "    \n",
    "    # create Stock column\n",
    "    df_temp['Stock'] = stock\n",
    "    \n",
    "    # append df to list\n",
    "    df_lst.append(df_temp)\n",
    "    "
   ]
  },
  {
   "cell_type": "code",
   "execution_count": null,
   "metadata": {},
   "outputs": [],
   "source": [
    "len(df_lst)"
   ]
  },
  {
   "cell_type": "code",
   "execution_count": null,
   "metadata": {},
   "outputs": [],
   "source": [
    "df_lst[0].head()"
   ]
  },
  {
   "cell_type": "code",
   "execution_count": null,
   "metadata": {},
   "outputs": [],
   "source": [
    "df_lst[-1].head()"
   ]
  },
  {
   "cell_type": "markdown",
   "metadata": {},
   "source": [
    "We can use `concat` to combine all of the stock data into a single `DataFrame`. \n",
    "\n",
    "Remember to set `axis = 0` since we want to stack the data on top of each other.\n",
    "\n",
    "In addition, we append `reset_index` at the end in order to create a unique index for each observation."
   ]
  },
  {
   "cell_type": "code",
   "execution_count": null,
   "metadata": {},
   "outputs": [],
   "source": [
    "df_close = pd.concat(df_lst, axis = 0).reset_index(drop = True)\n",
    "\n",
    "df_close.head()"
   ]
  },
  {
   "cell_type": "code",
   "execution_count": null,
   "metadata": {},
   "outputs": [],
   "source": [
    "len(df_close)"
   ]
  },
  {
   "cell_type": "code",
   "execution_count": null,
   "metadata": {},
   "outputs": [],
   "source": [
    "df_close.tail()"
   ]
  },
  {
   "cell_type": "code",
   "execution_count": null,
   "metadata": {},
   "outputs": [],
   "source": [
    "df_close['Stock'].unique()"
   ]
  },
  {
   "cell_type": "code",
   "execution_count": null,
   "metadata": {},
   "outputs": [],
   "source": [
    "df_close.info()"
   ]
  },
  {
   "cell_type": "code",
   "execution_count": null,
   "metadata": {},
   "outputs": [],
   "source": [
    "df_close.to_csv('data/closing_prices.csv', index = False)"
   ]
  },
  {
   "cell_type": "markdown",
   "metadata": {},
   "source": [
    "<div class=\"alert alert-info\">\n",
    "<h3> Your turn</h3>\n",
    "    <p> In data anlysis, we often want to convert files from one file format to another.\n",
    "      \n",
    "Use a <code>for</code> loop to import each of the files in the folder <code>stocks</code>, and then store it as an Excel spreadsheets using <code>to_excel</code> in the folder <code>stocks_excel</code>.\n",
    " \n",
    "</div>"
   ]
  },
  {
   "cell_type": "markdown",
   "metadata": {},
   "source": [
    "**Solution**\n",
    "\n",
    "<details>\n",
    "    \n",
    "<summary> Click to expand!</summary>\n",
    "<p> \n",
    "\n",
    "```c#\n",
    "path_in = 'data/stocks/'\n",
    "path_out = 'data/stocks_excel/'\n",
    "file_lst = os.listdir(path_in)\n",
    "\n",
    "for file_in in file_lst:\n",
    "    \n",
    "    # import csv file\n",
    "    df_temp = pd.read_csv(path_in + file_in)\n",
    "    \n",
    "    # create new file extension\n",
    "    file_out = file_in.split('.')[0] + '.xlsx'\n",
    "    \n",
    "    # save as excel file\n",
    "    df_temp.to_excel(path_out + file_out, index = False)\n",
    "  \n",
    "```\n",
    "\n",
    "</p>\n",
    "</details> "
   ]
  },
  {
   "cell_type": "code",
   "execution_count": null,
   "metadata": {},
   "outputs": [],
   "source": []
  },
  {
   "cell_type": "markdown",
   "metadata": {},
   "source": [
    "Using `df_close` we can compare the the daily closing prices for e.g. Amazon and Google. \n",
    "\n",
    "First, we use `to_datetime` to convert the `Date` column from a string to `datetime`."
   ]
  },
  {
   "cell_type": "code",
   "execution_count": null,
   "metadata": {},
   "outputs": [],
   "source": [
    "df_close['Date'] = pd.to_datetime(df_close['Date'])\n",
    "\n",
    "df_close.head()"
   ]
  },
  {
   "cell_type": "markdown",
   "metadata": {},
   "source": [
    "We can then extract and plot the daily closing prices."
   ]
  },
  {
   "cell_type": "code",
   "execution_count": null,
   "metadata": {},
   "outputs": [],
   "source": [
    "amazon = df_close[df_close['Stock'] == 'AMZN'].copy()\n",
    "google = df_close[df_close['Stock'] == 'GOOG'].copy()"
   ]
  },
  {
   "cell_type": "code",
   "execution_count": null,
   "metadata": {},
   "outputs": [],
   "source": [
    "fig, ax = plt.subplots()\n",
    "\n",
    "ax.plot(amazon['Date'],\n",
    "        amazon['Close'],\n",
    "        label = 'AMZN')\n",
    "\n",
    "ax.plot(google['Date'],\n",
    "        google['Close'],\n",
    "        label = 'GOOG')\n",
    "\n",
    "ax.set_ylabel('Closing price')\n",
    "\n",
    "ax.legend()\n",
    "\n",
    "plt.show()"
   ]
  },
  {
   "cell_type": "code",
   "execution_count": null,
   "metadata": {},
   "outputs": [],
   "source": []
  },
  {
   "cell_type": "code",
   "execution_count": null,
   "metadata": {},
   "outputs": [],
   "source": []
  },
  {
   "cell_type": "markdown",
   "metadata": {},
   "source": [
    "## Mandatory exercise part 2\n",
    "\n",
    "In the second part of today's mandatory exercise you will continue working with the file `closing_prices.csv`. \n",
    "\n",
    "You are now asked to create a series of plots of the closing prices. The goal is to use `for` loops to create the plots in order to minimize duplication of code.\n",
    "\n",
    "Import the file with the closing prices, and create the following plots:\n",
    "\n",
    "1. Create a single graph that plots the daily closing prices of all of the stocks except Google (GOOG) and Amazon (AMZN). Remember to add a legend to identify the different stocks! (easy)\n",
    "\n",
    "\n",
    "2. Create a figure with four subplots side-by-side, with each subplot showing the closing price of a stock of your choice (medium)\n",
    "\n",
    "\n",
    "3. Plot the closing price of the same four stocks as above, but now the figure is a 2 x 2 subplot, i.e. two rows and two columns (hard! Hint: Google \"matplotlib loop over 2 x 2 subplots\")."
   ]
  },
  {
   "cell_type": "code",
   "execution_count": null,
   "metadata": {},
   "outputs": [],
   "source": []
  },
  {
   "cell_type": "code",
   "execution_count": null,
   "metadata": {},
   "outputs": [],
   "source": []
  }
 ],
 "metadata": {
  "kernelspec": {
   "display_name": "Python 3 (ipykernel)",
   "language": "python",
   "name": "python3"
  },
  "language_info": {
   "codemirror_mode": {
    "name": "ipython",
    "version": 3
   },
   "file_extension": ".py",
   "mimetype": "text/x-python",
   "name": "python",
   "nbconvert_exporter": "python",
   "pygments_lexer": "ipython3",
   "version": "3.9.7"
  }
 },
 "nbformat": 4,
 "nbformat_minor": 4
}
