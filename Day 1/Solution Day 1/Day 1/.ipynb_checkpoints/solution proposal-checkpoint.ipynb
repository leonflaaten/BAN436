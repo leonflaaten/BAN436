{
 "cells": [
  {
   "cell_type": "markdown",
   "id": "506b3a3a",
   "metadata": {},
   "source": [
    "# Solution proposal - day 1 "
   ]
  },
  {
   "cell_type": "markdown",
   "id": "501134bd",
   "metadata": {},
   "source": [
    "## Part 1\n",
    "\n",
    "Write a program that converts a temperature from Fahrenheit to Celsius. \n",
    "\n",
    "The program should prompt the user for a temperature in Fahrenheit, convert the temperature to Celsius, and then display the converted temperature to the user.\n",
    "    \n",
    "Notice that the conversion from Fahrenheit to Celsius follows the following formula:\n",
    "Celsius = (5 / 9) * (Fahrenheit  - 32)"
   ]
  },
  {
   "cell_type": "code",
   "execution_count": null,
   "id": "4905d859",
   "metadata": {},
   "outputs": [],
   "source": [
    "print('***************** Conversion program *************************')\n",
    "print('This program converts temperatures from Fahrenheit to Celsius.')\n",
    "print('**************************************************************')\n",
    "print() # empty print statement for space\n",
    "\n",
    "# prompt user for temperature\n",
    "fahren = input('Enter temperature to convert: ')\n",
    "\n",
    "# convert temperature from string to float\n",
    "fahren = float(fahren)\n",
    "\n",
    "# calculate temperature conversion\n",
    "cels = (fahren - 32) * 5 / 9\n",
    "\n",
    "# round to 1 decimal\n",
    "cels = round(cels, 1)\n",
    "\n",
    "print(str(fahren) + ' degrees Fahrenheit is ' + str(cels) + ' degrees Celsius.')\n"
   ]
  },
  {
   "cell_type": "markdown",
   "id": "b8adea3f",
   "metadata": {},
   "source": [
    "## Part 2"
   ]
  },
  {
   "cell_type": "markdown",
   "id": "bb83afe5",
   "metadata": {},
   "source": [
    "1. Store the temperatures in a nested list called `temps_lst`.\n"
   ]
  },
  {
   "cell_type": "code",
   "execution_count": null,
   "id": "7fed47da",
   "metadata": {},
   "outputs": [],
   "source": [
    "# store data in nested list\n",
    "temps_lst = [[0, -4, -3, 0, 3, 5, 4],     # oslo\n",
    "             [4, 3, 4, 3, 3, 7, 8],       # bergen\n",
    "             [0, -1, -3, -2, -2, -5, -6]] # trondheim\n",
    "\n",
    "temps_lst"
   ]
  },
  {
   "cell_type": "markdown",
   "id": "97d73bec",
   "metadata": {},
   "source": [
    "2. Use `temps_lst` and calculate the average temperature for Trondheim last week."
   ]
  },
  {
   "cell_type": "code",
   "execution_count": null,
   "id": "162dd007",
   "metadata": {},
   "outputs": [],
   "source": [
    "# extract trondheim\n",
    "trondheim = temps_lst[2]\n",
    "\n",
    "# calculate average in trondheim\n",
    "avg_tron = sum(trondheim) / len(trondheim)\n",
    "\n",
    "print(avg_tron)"
   ]
  },
  {
   "cell_type": "markdown",
   "id": "da7f3ee9",
   "metadata": {},
   "source": [
    "3. Use `temps_lst` and calculate the average temperature on Sunday last week."
   ]
  },
  {
   "cell_type": "code",
   "execution_count": null,
   "id": "83d913fe",
   "metadata": {},
   "outputs": [],
   "source": [
    "# calculate sum on sunday\n",
    "sum_sunday = temps_lst[0][-1] + temps_lst[1][-1] + temps_lst[2][-1]\n",
    "\n",
    "# calculate average temperature on sunday\n",
    "avg_sun = (sum_sunday) / 3\n",
    "\n",
    "print(avg_sun)"
   ]
  },
  {
   "cell_type": "markdown",
   "id": "cd495a72",
   "metadata": {},
   "source": [
    "3. Store the temperatures instead in a dictionary called `temps_dict`. Use `temp_dict` and again calculate the average temperature for Trondheim and the average temperature on Sunday last week. \n"
   ]
  },
  {
   "cell_type": "code",
   "execution_count": null,
   "id": "5a3cb7d9",
   "metadata": {},
   "outputs": [],
   "source": [
    "# store data in dictionary\n",
    "temps_dict = {'oslo' : [0, -4, -3, 0, 3, 5, 4],\n",
    "              'bergen' : [4, 3, 4, 3, 3, 7, 8],\n",
    "              'trondheim' : [0, -1, -3, -2, -2, -5, -6]}\n",
    "\n",
    "# average temperature in trondheim\n",
    "print(sum(temps_dict['trondheim']) / len(temps_dict['trondheim']))\n",
    "\n",
    "# average temperature on day 7\n",
    "print((temps_dict['oslo'][-1] + temps_dict['trondheim'][-1] + temps_dict['bergen'][-1]) / 3)"
   ]
  },
  {
   "cell_type": "markdown",
   "id": "685f32bd",
   "metadata": {},
   "source": [
    "4. When it comes to programming, Google is your friend! See if you can instead find a Python function that takes a list of numbers and returns the average of those numbers."
   ]
  },
  {
   "cell_type": "markdown",
   "id": "e58401bc",
   "metadata": {},
   "source": [
    "There are many Python functions for calculating the average of a list of numbers. I prefer the functions from the `numpy` module/library/package. `numpy` has two different functions for this, `mean` and `average` (the main difference between these functions is that `average` allows for weights in case you need to estimate a weighted average in the future)."
   ]
  },
  {
   "cell_type": "code",
   "execution_count": null,
   "id": "ee44bed9",
   "metadata": {},
   "outputs": [],
   "source": [
    "import numpy as np"
   ]
  },
  {
   "cell_type": "code",
   "execution_count": null,
   "id": "7130a7b7",
   "metadata": {},
   "outputs": [],
   "source": [
    "# use mean function to calculate average in trondheim\n",
    "np.mean(temps_lst[2])"
   ]
  },
  {
   "cell_type": "code",
   "execution_count": null,
   "id": "ddcab701",
   "metadata": {},
   "outputs": [],
   "source": [
    "# use average to calculate average in trondheim\n",
    "np.average(temps_dict['trondheim'])"
   ]
  },
  {
   "cell_type": "code",
   "execution_count": null,
   "id": "af90c9f5",
   "metadata": {},
   "outputs": [],
   "source": []
  },
  {
   "cell_type": "code",
   "execution_count": null,
   "id": "9f043fb8",
   "metadata": {},
   "outputs": [],
   "source": []
  }
 ],
 "metadata": {
  "kernelspec": {
   "display_name": "Python 3 (ipykernel)",
   "language": "python",
   "name": "python3"
  },
  "language_info": {
   "codemirror_mode": {
    "name": "ipython",
    "version": 3
   },
   "file_extension": ".py",
   "mimetype": "text/x-python",
   "name": "python",
   "nbconvert_exporter": "python",
   "pygments_lexer": "ipython3",
   "version": "3.9.7"
  }
 },
 "nbformat": 4,
 "nbformat_minor": 5
}
